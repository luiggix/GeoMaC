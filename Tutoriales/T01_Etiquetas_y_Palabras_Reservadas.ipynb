{
 "cells": [
  {
   "cell_type": "markdown",
   "metadata": {},
   "source": [
    "# Introducción a Python para IA.\n",
    "\n",
    " <p xmlns:cc=\"http://creativecommons.org/ns#\" xmlns:dct=\"http://purl.org/dc/terms/\"><a property=\"dct:title\" rel=\"cc:attributionURL\" href=\"https://github.com/luiggix/intro_MeIA_2023\">Introducción a Python para IA</a> by <span property=\"cc:attributionName\">Luis Miguel de la Cruz Salas</span> is licensed under <a href=\"http://creativecommons.org/licenses/by-nc-sa/4.0/?ref=chooser-v1\" target=\"_blank\" rel=\"license noopener noreferrer\" style=\"display:inline-block;\">CC BY-NC-SA 4.0<img style=\"height:22px!important;margin-left:3px;vertical-align:text-bottom;\" src=\"https://mirrors.creativecommons.org/presskit/icons/cc.svg?ref=chooser-v1\"><img style=\"height:22px!important;margin-left:3px;vertical-align:text-bottom;\" src=\"https://mirrors.creativecommons.org/presskit/icons/by.svg?ref=chooser-v1\"><img style=\"height:22px!important;margin-left:3px;vertical-align:text-bottom;\" src=\"https://mirrors.creativecommons.org/presskit/icons/nc.svg?ref=chooser-v1\"><img style=\"height:22px!important;margin-left:3px;vertical-align:text-bottom;\" src=\"https://mirrors.creativecommons.org/presskit/icons/sa.svg?ref=chooser-v1\"></a></p> \n",
    "\n",
    "# Objetivo.\n",
    "Revisar la forma adecuada de elegir etiquetas para los objetos."
   ]
  },
  {
   "cell_type": "markdown",
   "metadata": {
    "tags": []
   },
   "source": [
    "# Variables (etiquetas).\n",
    "- Son símbolos que permiten identificar la información que se almacena en la memoria de la computadora.\n",
    "- Son nombres para los objetos.\n",
    "- Se crean con ayuda del operador de asignación `=`.\n",
    "- No se tiene que establecer explícitamente el tipo de dato.\n",
    "\n",
    "## Reglas para los nombres de los etiquetas.\n",
    "\n",
    "Las siguientes son algunas reglas para los nombre de las etiquetas (véase <a href=\"https://www.python.org/dev/peps/pep-0008/\"> PEP8 </a>) :\n",
    "\n",
    "1. Los nombres no pueden iniciar con un número.\n",
    "2. No puede haber espacios en los nombres; se recomienda usar guión bajo '\\_' para separar nombres: \n",
    "3. No se puede usar ninguno de los siguientes símbolos en los nombres de las etiquetas:\n",
    "```python\n",
    "' \" , < > / ? | \\ ( ) ! @ # $ % ^ & * ~ - +\n",
    "```\n",
    "4. Se considera una buena práctica usar minúsculas en los nombres.\n",
    "\n",
    "\n",
    "Existe un grupo de palabras reservadas que tampoco se pueden usar para las etiquetas. \n",
    "\n",
    "Este grupo de palabras se puede obtener usando la instrucción `help('keywords')`:\n"
   ]
  },
  {
   "cell_type": "code",
   "execution_count": null,
   "metadata": {
    "tags": []
   },
   "outputs": [],
   "source": [
    "help('keywords')"
   ]
  },
  {
   "cell_type": "markdown",
   "metadata": {},
   "source": [
    "## Ejemplos válidos de etiquetas."
   ]
  },
  {
   "cell_type": "code",
   "execution_count": null,
   "metadata": {
    "tags": []
   },
   "outputs": [],
   "source": [
    "_luis = \"Luis Miguel de la Cruz\"\n",
    "LuisXV = \"Louis Michel de la Croix\"\n",
    "luigi = 25\n",
    "luis_b = 0b01110 # Binario\n",
    "luis_o = 0o12376 # Octal\n",
    "luis_h = 0x12323 # Hexadecimal"
   ]
  },
  {
   "cell_type": "code",
   "execution_count": null,
   "metadata": {
    "tags": []
   },
   "outputs": [],
   "source": [
    "print(_luis, type(_luis))\n",
    "print(LuisXV, type(LuisXV))\n",
    "print(luigi, type(luigi))\n",
    "print(luis_o, type(luis_o))\n",
    "print(luis_b, type(luis_b))\n",
    "print(luis_h, type(luis_h))"
   ]
  },
  {
   "cell_type": "markdown",
   "metadata": {},
   "source": [
    "### Sensibilidad a mayúsculas y minúsculas."
   ]
  },
  {
   "cell_type": "code",
   "execution_count": null,
   "metadata": {
    "tags": []
   },
   "outputs": [],
   "source": [
    "pi = 3.141592 \n",
    "Pi = 3.141592\n",
    "\n",
    "print(pi, id(pi))\n",
    "print(Pi, id(Pi))"
   ]
  },
  {
   "cell_type": "markdown",
   "metadata": {},
   "source": [
    "En el ejemplo anterior, las etiquetas `pi` y `Pi` son diferentes, lo que se puede verificar con su `id`; ambas apuntan a dos objetos de tipo flotante que tienen el mismo contenido `3.141592`, pero son objetos diferentes. Estos objetos se distinguen por su nombre (su etiqueta)."
   ]
  },
  {
   "cell_type": "markdown",
   "metadata": {},
   "source": [
    "### Unicode .\n",
    "\n",
    "Es un estándar para la codificación de caracteres, que permite el tratamiento informático, la transmisión y visualización de textos de muchos idiomas y disciplinas técnicas. Unicode: universalidad, uniformidad y unicidad. Unicode define tres formas de codificación bajo el nombre UTF (Unicode transformation format): UTF8, UTF16, UTF32. Véase https://es.wikipedia.org/wiki/Unicode .\n",
    "\n",
    "Python tiene soporte para Unicode para definir sus etiquetas, particularmente UTF8. Véase https://docs.python.org/3/howto/unicode.html para más información."
   ]
  },
  {
   "cell_type": "code",
   "execution_count": null,
   "metadata": {
    "tags": []
   },
   "outputs": [],
   "source": [
    "# ¿Qué codificación de carateres se está usando?\n",
    "import sys\n",
    "sys.stdout.encoding"
   ]
  },
  {
   "cell_type": "markdown",
   "metadata": {},
   "source": [
    "<div class=\"alert alert-success\">\n",
    "<b>Observación:</b>\n",
    "Esta es la primera vez que usamos el comando <font color=\"Green\"><b>import</b></font>, el cual permite importar funciones de una biblioteca particular (en este caso de <font color=\"black\">sys</font>). Por ahora no es necesario saber más acerca de esta función; una descripción más detallada la puedes ver en el Paso 2 del Ejemplo 1 de la notebook: [<a href=\"./02_Pythonico_es_mas_bonito.ipynb\">02_Pythonico_es_mas_bonito.ipynb</a>].\n",
    "</div>"
   ]
  },
  {
   "cell_type": "markdown",
   "metadata": {},
   "source": [
    "Lo anterior permite usar caracteres especiales para las etiquetas."
   ]
  },
  {
   "cell_type": "code",
   "execution_count": null,
   "metadata": {
    "tags": []
   },
   "outputs": [],
   "source": [
    "ñero = 'Luismi'\n",
    "ñero"
   ]
  },
  {
   "cell_type": "markdown",
   "metadata": {},
   "source": [
    "La función `chr()` transforma el código Unicode en el caracter correspondiente.<br>\n",
    "La función `ord()` transforma el caracter en el código Unicode correspondiente."
   ]
  },
  {
   "cell_type": "code",
   "execution_count": null,
   "metadata": {
    "tags": []
   },
   "outputs": [],
   "source": [
    "chr(0x265e) # Usamos el código en formato hexadecimal"
   ]
  },
  {
   "cell_type": "code",
   "execution_count": null,
   "metadata": {
    "tags": []
   },
   "outputs": [],
   "source": [
    "ord('♞') # Imprime el código unicode en decimal"
   ]
  },
  {
   "cell_type": "code",
   "execution_count": null,
   "metadata": {
    "tags": []
   },
   "outputs": [],
   "source": [
    "chr(9822) # Podemos usar el código decimal para obtener el caracter"
   ]
  },
  {
   "cell_type": "code",
   "execution_count": null,
   "metadata": {
    "tags": []
   },
   "outputs": [],
   "source": [
    "print('{:04x}'.format(ord('♞'))) # Podemos imprimir el código en hexadecimal "
   ]
  },
  {
   "cell_type": "markdown",
   "metadata": {},
   "source": [
    "Es posible usar algunos de estos caracteres especiales como etiquetas de objetos. Por ejemplo:"
   ]
  },
  {
   "cell_type": "code",
   "execution_count": null,
   "metadata": {
    "tags": []
   },
   "outputs": [],
   "source": [
    "π = 3.141592 # unicode\n",
    "print('{:04d} \\t {} = {}'.format(ord('π'), 'π', π)) # Impresión en decimal\n",
    "print('{:04o} \\t {} = {}'.format(ord('π'), 'π', π)) # Impresión en octal\n",
    "print('{:04x} \\t {} = {}'.format(ord('π'), 'π', π)) # Impresión en hexadecimal"
   ]
  },
  {
   "cell_type": "markdown",
   "metadata": {},
   "source": [
    "<div class=\"alert alert-success\">\n",
    "<b>Observación:</b>\n",
    "En la celda anterior se usó la función <font color=\"blue\">format()</font> la cual se explica con mayor detalle en la notebook: [<a href=\"./T05_Entrada_Salida_Archivos.ipynb\">Entrada y salida</a>].\n",
    "</div>"
   ]
  },
  {
   "cell_type": "code",
   "execution_count": null,
   "metadata": {
    "tags": []
   },
   "outputs": [],
   "source": [
    "# Otro ejemplo\n",
    "México = 'El ombligo de la luna'\n",
    "print(México)"
   ]
  },
  {
   "cell_type": "markdown",
   "metadata": {},
   "source": [
    "### `unicodedata`.\n",
    "El módulo [`unicodedata`](https://docs.python.org/3/library/unicodedata.html) provee acceso a la *Unicode Character Database* (UCD) que contiene las propiedades de todos los caracteres Unicode. \n",
    "\n",
    "Ejecuta la siguiente celda para ver un ejemplo."
   ]
  },
  {
   "cell_type": "code",
   "execution_count": null,
   "metadata": {
    "tags": []
   },
   "outputs": [],
   "source": [
    "import unicodedata\n",
    "\n",
    "u = chr(233) + chr(0x3c0) + chr(9822) + chr(0x1F600) + chr(0x1F6C0) \n",
    "print('u = ', u)\n",
    "\n",
    "for c in u:\n",
    "    print('{} \\t {:04x} \\t {} \\t {}'.format(c, \n",
    "                                            ord(c), \n",
    "                                            unicodedata.category(c), \n",
    "                                            unicodedata.name(c)))"
   ]
  },
  {
   "cell_type": "markdown",
   "metadata": {},
   "source": [
    "## Ejemplos inválidos de etiquetas."
   ]
  },
  {
   "cell_type": "code",
   "execution_count": null,
   "metadata": {
    "tags": []
   },
   "outputs": [],
   "source": [
    "1luis = 20      # No se puede iniciar con un número"
   ]
  },
  {
   "cell_type": "code",
   "execution_count": null,
   "metadata": {
    "tags": []
   },
   "outputs": [],
   "source": [
    "luis$ = 8.2323  # No puede contener caractéres especiales"
   ]
  },
  {
   "cell_type": "code",
   "execution_count": null,
   "metadata": {
    "tags": []
   },
   "outputs": [],
   "source": [
    "for = 35        # Algunos nombres ya están reservados"
   ]
  },
  {
   "cell_type": "markdown",
   "metadata": {},
   "source": [
    "# Asignación múltiple.\n",
    "\n",
    "Es posible asignar objetos a varias etiquetas de manera simultánea."
   ]
  },
  {
   "cell_type": "code",
   "execution_count": null,
   "metadata": {
    "tags": []
   },
   "outputs": [],
   "source": [
    "x = y = z = 25"
   ]
  },
  {
   "cell_type": "code",
   "execution_count": null,
   "metadata": {
    "tags": []
   },
   "outputs": [],
   "source": [
    "print(type(x), type(y), type(z)) # El tipo es el mismo"
   ]
  },
  {
   "cell_type": "code",
   "execution_count": null,
   "metadata": {
    "tags": []
   },
   "outputs": [],
   "source": [
    "print(id(x), id(y), id(z)) # El identificador es diferente"
   ]
  },
  {
   "cell_type": "code",
   "execution_count": null,
   "metadata": {
    "tags": []
   },
   "outputs": [],
   "source": [
    "del(x) # Se puede eliminar uno de los objetos"
   ]
  },
  {
   "cell_type": "code",
   "execution_count": null,
   "metadata": {
    "tags": []
   },
   "outputs": [],
   "source": [
    "print(y,z) # Los otros dos objetos siguen existiendo"
   ]
  },
  {
   "cell_type": "markdown",
   "metadata": {},
   "source": [
    "Otro ejemplo:"
   ]
  },
  {
   "cell_type": "code",
   "execution_count": null,
   "metadata": {
    "tags": []
   },
   "outputs": [],
   "source": [
    "x, y, z = 3.1416, 'eje y', 50"
   ]
  },
  {
   "cell_type": "code",
   "execution_count": null,
   "metadata": {
    "tags": []
   },
   "outputs": [],
   "source": [
    "print(type(x), type(y), type(z)) # Los tipos son diferentes"
   ]
  },
  {
   "cell_type": "code",
   "execution_count": null,
   "metadata": {
    "tags": []
   },
   "outputs": [],
   "source": [
    "print(id(x), id(y), id(z)) # El identificador es diferente"
   ]
  },
  {
   "cell_type": "code",
   "execution_count": null,
   "metadata": {},
   "outputs": [],
   "source": []
  }
 ],
 "metadata": {
  "kernelspec": {
   "display_name": "Python 3 (ipykernel)",
   "language": "python",
   "name": "python3"
  },
  "language_info": {
   "codemirror_mode": {
    "name": "ipython",
    "version": 3
   },
   "file_extension": ".py",
   "mimetype": "text/x-python",
   "name": "python",
   "nbconvert_exporter": "python",
   "pygments_lexer": "ipython3",
   "version": "3.11.3"
  }
 },
 "nbformat": 4,
 "nbformat_minor": 4
}
