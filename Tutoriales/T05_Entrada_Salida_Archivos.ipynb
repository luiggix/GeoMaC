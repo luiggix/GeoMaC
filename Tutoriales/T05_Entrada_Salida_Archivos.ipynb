{
 "cells": [
  {
   "cell_type": "markdown",
   "metadata": {},
   "source": [
    "# Introducción a Python para IA.\n",
    "\n",
    " <p xmlns:cc=\"http://creativecommons.org/ns#\" xmlns:dct=\"http://purl.org/dc/terms/\"><a property=\"dct:title\" rel=\"cc:attributionURL\" href=\"https://github.com/luiggix/intro_MeIA_2023\">Introducción a Python para IA</a> by <span property=\"cc:attributionName\">Luis Miguel de la Cruz Salas</span> is licensed under <a href=\"http://creativecommons.org/licenses/by-nc-sa/4.0/?ref=chooser-v1\" target=\"_blank\" rel=\"license noopener noreferrer\" style=\"display:inline-block;\">CC BY-NC-SA 4.0<img style=\"height:22px!important;margin-left:3px;vertical-align:text-bottom;\" src=\"https://mirrors.creativecommons.org/presskit/icons/cc.svg?ref=chooser-v1\"><img style=\"height:22px!important;margin-left:3px;vertical-align:text-bottom;\" src=\"https://mirrors.creativecommons.org/presskit/icons/by.svg?ref=chooser-v1\"><img style=\"height:22px!important;margin-left:3px;vertical-align:text-bottom;\" src=\"https://mirrors.creativecommons.org/presskit/icons/nc.svg?ref=chooser-v1\"><img style=\"height:22px!important;margin-left:3px;vertical-align:text-bottom;\" src=\"https://mirrors.creativecommons.org/presskit/icons/sa.svg?ref=chooser-v1\"></a></p> \n",
    "\n",
    "# Objetivo.\n",
    "Revisar las funciones que se usan para obtener datos de la entrada estándar y los formatos que se pueden usar para la salida estándar. Esto incluye lectura del teclado (`input`) e impresión en pantalla (`print`) así como gestión de archivos (`open` y `close`) y gestores de contexto (`with`)."
   ]
  },
  {
   "cell_type": "markdown",
   "metadata": {},
   "source": [
    "# Entrada estándar\n",
    "\n",
    "La entrada estándar para proporcionar información a un programa se realiza mediante la función `input()`. Cuando se ejecuta esta función, el programa espera a que el usuario teclea algún valor seguido de [Enter]. Por ejemplo:"
   ]
  },
  {
   "cell_type": "code",
   "execution_count": null,
   "metadata": {},
   "outputs": [],
   "source": [
    "input() "
   ]
  },
  {
   "cell_type": "markdown",
   "metadata": {},
   "source": [
    "Generalmente se asigna el valor que se teclea a una etiqueta:"
   ]
  },
  {
   "cell_type": "code",
   "execution_count": null,
   "metadata": {},
   "outputs": [],
   "source": [
    "entrada = input()"
   ]
  },
  {
   "cell_type": "code",
   "execution_count": null,
   "metadata": {},
   "outputs": [],
   "source": [
    "print(entrada)"
   ]
  },
  {
   "cell_type": "markdown",
   "metadata": {},
   "source": [
    "Lo ideal es darle una pista al usuario de que valor se espera:"
   ]
  },
  {
   "cell_type": "code",
   "execution_count": null,
   "metadata": {},
   "outputs": [],
   "source": [
    "entrada = input('Teclea un entero entre 0 y 9 ')"
   ]
  },
  {
   "cell_type": "code",
   "execution_count": null,
   "metadata": {},
   "outputs": [],
   "source": [
    "print(entrada, type(entrada))"
   ]
  },
  {
   "cell_type": "markdown",
   "metadata": {},
   "source": [
    "Observa que aunque el valor tecleado sea un número, la función `input()` lo transforma en una cadena. Entocnes si queremos usar la entrada como un entero, tenemos que convertirlo en `int` antes de usuarlo."
   ]
  },
  {
   "cell_type": "code",
   "execution_count": null,
   "metadata": {},
   "outputs": [],
   "source": [
    "entrada = int(input('Teclea un entero entre 0 y 9  '))"
   ]
  },
  {
   "cell_type": "code",
   "execution_count": null,
   "metadata": {},
   "outputs": [],
   "source": [
    "print(entrada, type(entrada))"
   ]
  },
  {
   "cell_type": "markdown",
   "metadata": {},
   "source": [
    "# Formato de salida\n",
    "\n",
    "Existen varias formas de presentar la salida de un programa al usuario: en la pantalla (generalmente la salida estándar) \n",
    "\n",
    "En ambos casos se desea un control adecuado sobre el formato de la salida. Para ello se tienen varias maneras de controlar la salida:\n",
    "\n",
    "## Cadenas con formato.\n",
    "\n",
    "Este tipo de cadenas (*f-string*) permiten introducir expresiones dentro de cadenas. Para definirlas hay que usar `f` o `F` al principio de la cadena. Veamos algunos ejemplos:\n",
    "\n",
    "### Ejemplo 1."
   ]
  },
  {
   "cell_type": "code",
   "execution_count": null,
   "metadata": {},
   "outputs": [],
   "source": [
    "nombre = 'LUIS MIGUEL'\n",
    "edad = 25\n",
    "f'Hola mi nombre es {nombre} y tengo {edad} años'"
   ]
  },
  {
   "cell_type": "markdown",
   "metadata": {},
   "source": [
    "Observa que se sustituyó el valor de `nombre` y `edad` al imprimir la cadena.\n",
    "\n",
    "### Ejemplo 2."
   ]
  },
  {
   "cell_type": "code",
   "execution_count": null,
   "metadata": {},
   "outputs": [],
   "source": [
    "import math\n",
    "print(f'El valor de PI es aproximadamente {math.pi:.10f}.') # {valor:formato}"
   ]
  },
  {
   "cell_type": "markdown",
   "metadata": {},
   "source": [
    "Observa que entre las llaves se puede poner un formato para el despliegue; esto se hace escribiendo `:` y enseguida el formato; en este caso el formato es `.10f` que significa formato de número de punto flotante (`f`) con 10 decimales.\n",
    "\n",
    "### Ejemplo 3."
   ]
  },
  {
   "cell_type": "code",
   "execution_count": null,
   "metadata": {},
   "outputs": [],
   "source": [
    "na1 = 'Fulano'; n1 = 5_521_345_678\n",
    "na2 = 'Sutano'; n2 = 7_712_932_143\n",
    "print(f'{na1:10} ==> {n1:15d}') # alineación del texto\n",
    "print(f'{na2:10} ==> {n2:15d}') # alineación del texto"
   ]
  },
  {
   "cell_type": "markdown",
   "metadata": {},
   "source": [
    "Para más información acerca de los formatos, véase <a href=\"https://docs.python.org/3.7/library/string.html#formatspec\"> Format Specification Mini-Language </a>"
   ]
  },
  {
   "cell_type": "markdown",
   "metadata": {},
   "source": [
    "## Método `format()`\n",
    "\n",
    "Este es el método más usado hoy en día. Veamos algunos ejemplos\n",
    "\n",
    "### Ejemplo 4."
   ]
  },
  {
   "cell_type": "code",
   "execution_count": null,
   "metadata": {},
   "outputs": [],
   "source": [
    "print('El curso se llama \"{}\" y tenemos {} alumnos'.format('Macroentrenamiento en IA', 1600))"
   ]
  },
  {
   "cell_type": "markdown",
   "metadata": {},
   "source": [
    "En este caso también se usan `{}` para sustituir expresiones, sin embargo no hace falta poner nada entre las llaves. La función `format()` sustituye en orden los argumentos que se le dan en cada una de las `{}`.\n",
    "\n",
    "### Ejemplo 5."
   ]
  },
  {
   "cell_type": "code",
   "execution_count": null,
   "metadata": {},
   "outputs": [],
   "source": [
    "votos_a_favor = 42_572_654\n",
    "votos_en_contra = 43_132_495\n",
    "total_de_votos = votos_a_favor + votos_en_contra\n",
    "porcentaje = votos_a_favor / total_de_votos\n",
    "'{:^20} votos a favor ({:2.2%})'.format(votos_a_favor, porcentaje)"
   ]
  },
  {
   "cell_type": "markdown",
   "metadata": {},
   "source": [
    "Observa que también podemos poner el formato de impresión despues de los `:`; en el primer caso usamos `^` que significa que va a imprimer el valor al centro, también es posible alinear a la izquierda con `<` o a la derecha con `>`.\n",
    "\n",
    "### Ejemplo 6."
   ]
  },
  {
   "cell_type": "code",
   "execution_count": null,
   "metadata": {},
   "outputs": [],
   "source": [
    "print('{0} y {1}'.format('el huevo', 'la gallina'))\n",
    "print('{1} y {0:>20}'.format('el huevo', 'la gallina'))"
   ]
  },
  {
   "cell_type": "markdown",
   "metadata": {},
   "source": [
    "También es posible decirle a `format()` que va en cada par de `{}` usando número la posición de los argumentos que recibe `format()`; en este caso la cadena `el huevo` es el argumento `0` y `la gallina` es el argumento `1`.\n",
    "\n",
    "### Ejemplo 7."
   ]
  },
  {
   "cell_type": "code",
   "execution_count": null,
   "metadata": {},
   "outputs": [],
   "source": [
    "print('Esta {sustantivo} es {adjetivo}.'.format(adjetivo='exquisita', sustantivo='comida'))"
   ]
  },
  {
   "cell_type": "markdown",
   "metadata": {},
   "source": [
    "También es posible usar el nombre de los argumentos para determinar el orden de la sustitución en la cadena.\n",
    "\n",
    "### Ejemplo 8.\n",
    "\n",
    "Se puede combinar poniendo los número de los argumentos y el nombre:"
   ]
  },
  {
   "cell_type": "code",
   "execution_count": null,
   "metadata": {},
   "outputs": [],
   "source": [
    "print('El {0}, el {1}, y el {otro}.'.format('Bueno', 'Malo',\n",
    "                                                       otro='Feo'))"
   ]
  },
  {
   "cell_type": "markdown",
   "metadata": {},
   "source": [
    "### Ejemplo 9.\n",
    "\n",
    "Se pueden usar diccionarios para determinar el orden, como se muestra en el siguiente ejemplo:"
   ]
  },
  {
   "cell_type": "code",
   "execution_count": null,
   "metadata": {},
   "outputs": [],
   "source": [
    "dicc = {'Siamés': 5, 'Siberiano': 4, 'Sphynx': 0}\n",
    "print('Sphynx: {0[Sphynx]:d}; Siamés: {0[Siamés]:d}; Siberiano: {0[Siberiano]:d}'.format(dicc))"
   ]
  },
  {
   "cell_type": "code",
   "execution_count": null,
   "metadata": {},
   "outputs": [],
   "source": [
    "print('Sphynx: {Sphynx:d}; Siamés: {Siamés:d}; Siberiano: {Siberiano:d}'.format(**dicc))"
   ]
  },
  {
   "cell_type": "markdown",
   "metadata": {},
   "source": [
    "### Ejemplo 10."
   ]
  },
  {
   "cell_type": "code",
   "execution_count": null,
   "metadata": {},
   "outputs": [],
   "source": [
    "for x in range(1, 11):\n",
    "    print('{0:2d} {1:3d} {2:4d}'.format(x, x*x, x*x*x))"
   ]
  },
  {
   "cell_type": "markdown",
   "metadata": {},
   "source": [
    "Para saber más acerca de `format()` véase véase <a href=\"https://docs.python.org/3.7/library/string.html#formatspec\"> Format Specification Mini-Language </a> y <a href=\"https://docs.python.org/3.7/library/string.html#formatstrings\"> Format String Syntax </a>"
   ]
  },
  {
   "cell_type": "markdown",
   "metadata": {},
   "source": [
    "## Forma tradicional\n",
    "\n",
    "Esta forma ya no se usa mucho y proviene de lenguajes como C.\n",
    "\n",
    "### Ejemplo 11."
   ]
  },
  {
   "cell_type": "code",
   "execution_count": null,
   "metadata": {},
   "outputs": [],
   "source": [
    "import math\n",
    "print('El valor aproximado de pi es %5.6f.' % math.pi)"
   ]
  },
  {
   "cell_type": "markdown",
   "metadata": {},
   "source": [
    "# Gestión de archivos\n",
    "\n",
    "## Abrir, usar y cerrar archivos \n",
    "La función básica para gestionar archivos es `open()`. Toma dos parámetros: el nombre del archivo y el modo. Existen cuatro diferentes modos:\n",
    "\n",
    "- \"r\" - Read - Default value. Abre el archivo para lectura. Se produce un error si el archvio no existe.\n",
    "- \"a\" - Append - Abre el archivo para agregar información. Si el archivo no existe, lo crea.\n",
    "- \"w\" - Write - Abre el archivo para escritura. Si el archivo no existe, lo crea. Si el archivo existe, lo sobreescribe.\n",
    "- \"x\" - Create - Crea el archivo, regresa un error si el archivo existe.\n",
    "\n",
    "Adicionalmente se puede especificar si el archivo se abre en modo texto o binario:\n",
    "\n",
    "- \"t\" - Text - Valor por omisión. \n",
    "- \"b\" - Binary\n",
    "\n",
    "### Ejemplo 12.\n",
    "\n",
    "Abrimos un archivo para escritura (lo creamos)."
   ]
  },
  {
   "cell_type": "code",
   "execution_count": null,
   "metadata": {},
   "outputs": [],
   "source": [
    "fw = open('gatos.txt', 'w')"
   ]
  },
  {
   "cell_type": "markdown",
   "metadata": {},
   "source": [
    "Generamos información para guardarla en el archivo."
   ]
  },
  {
   "cell_type": "code",
   "execution_count": null,
   "metadata": {},
   "outputs": [],
   "source": [
    "gatos = ['Persa', 'Sphynx', 'Ragdoll','Siamés']\n",
    "peso_minimo = [2.3, 3.5, 5.4, 2.5]\n",
    "dicc = dict(zip(gatos,peso_minimo))\n",
    "dicc"
   ]
  },
  {
   "cell_type": "markdown",
   "metadata": {},
   "source": [
    "Escribimos la información en el archivo."
   ]
  },
  {
   "cell_type": "code",
   "execution_count": null,
   "metadata": {},
   "outputs": [],
   "source": [
    "for i in dicc:\n",
    "    fw.write('{:>10} {:>10} \\n'.format(i,dicc[i]))\n",
    "    \n",
    "fw.close() # Es importante siempre cerrar el archivo"
   ]
  },
  {
   "cell_type": "markdown",
   "metadata": {},
   "source": [
    "### Ejemplo 13.\n",
    "\n",
    "Abrimos un archivo para lectura."
   ]
  },
  {
   "cell_type": "code",
   "execution_count": null,
   "metadata": {},
   "outputs": [],
   "source": [
    "fr = open('gatos.txt','r') # abrimos el archivo recién creado"
   ]
  },
  {
   "cell_type": "code",
   "execution_count": null,
   "metadata": {},
   "outputs": [],
   "source": [
    "print(fr, type(fr))"
   ]
  },
  {
   "cell_type": "markdown",
   "metadata": {},
   "source": [
    "El archivo se comporta como un objeto iterable, de tal manera que se puede leer línea por línea usando un ciclo:"
   ]
  },
  {
   "cell_type": "code",
   "execution_count": null,
   "metadata": {},
   "outputs": [],
   "source": [
    "for i in fr: \n",
    "    print(i) \n",
    "    \n",
    "fr.close() # Es importante siempre cerrar el archivo"
   ]
  },
  {
   "cell_type": "markdown",
   "metadata": {},
   "source": [
    "# Gestores de contexto\n",
    "Permiten asignar y liberar recursos justo en el momento requerido. Se usa mayormente con `with`.\n",
    "\n",
    "### Ejemplo 14.\n",
    "\n",
    "Abrir un archivo en modo escritura."
   ]
  },
  {
   "cell_type": "code",
   "execution_count": null,
   "metadata": {},
   "outputs": [],
   "source": [
    "with open('contexto_ejemplo', 'w') as archivo_abierto:\n",
    "    archivo_abierto.write('En este ejemplo, todo se realiza con un gestor de contexto.')"
   ]
  },
  {
   "cell_type": "markdown",
   "metadata": {},
   "source": [
    "Lo que realiza la operación anterior es: \n",
    "1. Abre el archivo `contexto_ejemplo`.\n",
    "2. Escribe algo en el archivo.\n",
    "3. Cierra el archivo. \n",
    "\n",
    "Si ocurre algún error mientras se escribe en el archivo, entonces se intenta cerrar el archivo. \n",
    "\n",
    "El código anterior es equivalente a:\n",
    "\n",
    "```python\n",
    "archivo_abierto = open('contexto_ejemplo', 'w')\n",
    "try:\n",
    "    archivo_abierto.write('En este ... contexto!')\n",
    "finally:\n",
    "    archivo_abierto.close()\n",
    "```\n",
    "\n",
    "Es posible implemetar nuestros propios gestores de contexto. Para ello se requiere un conocimiento más profundo de Progrmación Orientada a Objetos.\n",
    "\n",
    "### Ejemplo 15.\n",
    "\n",
    "Abrir un archivo en modo lectura."
   ]
  },
  {
   "cell_type": "code",
   "execution_count": null,
   "metadata": {},
   "outputs": [],
   "source": [
    "with open('contexto_ejemplo', 'r') as archivo_abierto:\n",
    "    for i in archivo_abierto:\n",
    "        print(i)"
   ]
  },
  {
   "cell_type": "code",
   "execution_count": null,
   "metadata": {},
   "outputs": [],
   "source": []
  }
 ],
 "metadata": {
  "kernelspec": {
   "display_name": "Python 3 (ipykernel)",
   "language": "python",
   "name": "python3"
  },
  "language_info": {
   "codemirror_mode": {
    "name": "ipython",
    "version": 3
   },
   "file_extension": ".py",
   "mimetype": "text/x-python",
   "name": "python",
   "nbconvert_exporter": "python",
   "pygments_lexer": "ipython3",
   "version": "3.11.3"
  }
 },
 "nbformat": 4,
 "nbformat_minor": 4
}
