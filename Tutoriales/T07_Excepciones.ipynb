{
 "cells": [
  {
   "cell_type": "markdown",
   "metadata": {},
   "source": [
    "# Introducción a Python para IA.\n",
    "\n",
    " <p xmlns:cc=\"http://creativecommons.org/ns#\" xmlns:dct=\"http://purl.org/dc/terms/\"><a property=\"dct:title\" rel=\"cc:attributionURL\" href=\"https://github.com/luiggix/intro_MeIA_2023\">Introducción a Python para IA</a> by <span property=\"cc:attributionName\">Luis Miguel de la Cruz Salas</span> is licensed under <a href=\"http://creativecommons.org/licenses/by-nc-sa/4.0/?ref=chooser-v1\" target=\"_blank\" rel=\"license noopener noreferrer\" style=\"display:inline-block;\">CC BY-NC-SA 4.0<img style=\"height:22px!important;margin-left:3px;vertical-align:text-bottom;\" src=\"https://mirrors.creativecommons.org/presskit/icons/cc.svg?ref=chooser-v1\"><img style=\"height:22px!important;margin-left:3px;vertical-align:text-bottom;\" src=\"https://mirrors.creativecommons.org/presskit/icons/by.svg?ref=chooser-v1\"><img style=\"height:22px!important;margin-left:3px;vertical-align:text-bottom;\" src=\"https://mirrors.creativecommons.org/presskit/icons/nc.svg?ref=chooser-v1\"><img style=\"height:22px!important;margin-left:3px;vertical-align:text-bottom;\" src=\"https://mirrors.creativecommons.org/presskit/icons/sa.svg?ref=chooser-v1\"></a></p> \n",
    "\n",
    "# Objetivo.\n",
    "Revisar cómo manejar excepciones de manera adecuada cuando ocurren dentro de la ejecución de un programa."
   ]
  },
  {
   "cell_type": "markdown",
   "metadata": {},
   "source": [
    "# Excepciones: *try, except, finally*\n",
    "\n",
    "Tenemos dos tipos principales de errores:\n",
    "\n",
    "## Errores de sintaxis: \n",
    "\n",
    "Ocurren cuando no se escriben correctamente las expresiones y declaraciones, siguiendo la especificación de la interfaz de Python:\n",
    "\n",
    "Por ejemplo, si no escribo la función `print()` correctamente, obtengo un error de sintaxis:\n",
    "\n",
    "```python\n",
    "prin('Hola mundo!')\n",
    "```\n",
    "\n",
    "Tipo de error que se obtiene:\n",
    "\n",
    "```\n",
    "---------------------------------------------------------------------------\n",
    "NameError                                 Traceback (most recent call last)\n",
    "Cell In [2], line 1\n",
    "----> 1 prin('Hola mundo!')\n",
    "\n",
    "NameError: name 'prin' is not defined\n",
    "```"
   ]
  },
  {
   "cell_type": "code",
   "execution_count": null,
   "metadata": {},
   "outputs": [],
   "source": [
    "prin('Hola mundo!')"
   ]
  },
  {
   "cell_type": "markdown",
   "metadata": {},
   "source": [
    "Observe que el tipo de error se imprime cuando éste ocurre. En el caso anterior el error fue de tipo `NameError`, por lo que hay que revisar que todo esté correctamente escrito."
   ]
  },
  {
   "cell_type": "markdown",
   "metadata": {},
   "source": [
    "## Excepciones. \n",
    "Son errores lógicos que detienen la ejecución de un programa aún cuando la sintaxis sea la correcta. Por ejemplo:"
   ]
  },
  {
   "cell_type": "code",
   "execution_count": null,
   "metadata": {},
   "outputs": [],
   "source": [
    "def raizCuadrada(numero):\n",
    "    numero = float(numero)\n",
    "    print(\"La raíz cuadrada del número {} es {}\".format(numero, numero ** 0.5))"
   ]
  },
  {
   "cell_type": "code",
   "execution_count": null,
   "metadata": {},
   "outputs": [],
   "source": [
    "raizCuadrada(1)"
   ]
  },
  {
   "cell_type": "code",
   "execution_count": null,
   "metadata": {},
   "outputs": [],
   "source": [
    "raizCuadrada(-1)"
   ]
  },
  {
   "cell_type": "code",
   "execution_count": null,
   "metadata": {},
   "outputs": [],
   "source": [
    "raizCuadrada(1+1j)"
   ]
  },
  {
   "cell_type": "markdown",
   "metadata": {},
   "source": [
    "En este caso se obtiene un error de tipo `TypeError`, es decir el tipo de objeto no es compatible con la operación que se está realizando."
   ]
  },
  {
   "cell_type": "code",
   "execution_count": null,
   "metadata": {},
   "outputs": [],
   "source": [
    "raizCuadrada(\"Hola\")"
   ]
  },
  {
   "cell_type": "markdown",
   "metadata": {},
   "source": [
    "En este caso el error es de tipo `ValueError`, es decir hay un problema con el contenido del objeto."
   ]
  },
  {
   "cell_type": "code",
   "execution_count": null,
   "metadata": {},
   "outputs": [],
   "source": [
    "raizCuadrada(\"9\")"
   ]
  },
  {
   "cell_type": "markdown",
   "metadata": {},
   "source": [
    "Observe que en este último caso no hay error por que si fue posible convertir el contenido de la cadena en un número de tipo `float`."
   ]
  },
  {
   "cell_type": "markdown",
   "metadata": {},
   "source": [
    "\n",
    "### Tipos de excepciones. \n",
    "\n",
    "Todas las excepciones en Python son ejemplos concretos (*instance*) de una clase que se derivan de la clase principal <a href=\"https://docs.python.org/3/library/exceptions.html#BaseException\">BaseExcepcion</a>. Más detalles se pueden consultar <a href=\"http://docs.python.org/3/library/exceptions.html\">aquí</a>.\n",
    "\n",
    "Las excepciones se pueden capturar y manejar adecuadamente. Para ello se tienen las siguientes herramientas:\n",
    "\n",
    "* `try`\n",
    "* `except`\n",
    "* `else`\n",
    "* `finally`\n",
    "\n",
    "Cuando se identifica una sección de código susceptible de errores, ésta puede ser delimitada con la expresión `try`. Cualquier excepción que ocurra dentro de esta sección de código podrá ser capturada y gestionada.\n",
    "\n",
    "La expresión `except` es la encargada de gestionar las excepciones que se capturan. Si se utiliza sin mayor información, ésta ejecutará el código que contiene para todas las excepciones que ocurran."
   ]
  },
  {
   "cell_type": "markdown",
   "metadata": {},
   "source": [
    "### Ejemplo 1."
   ]
  },
  {
   "cell_type": "code",
   "execution_count": null,
   "metadata": {},
   "outputs": [],
   "source": [
    "def raizCuadrada(numero):\n",
    "    try:\n",
    "        numero = float(numero)\n",
    "        print(f\"La raíz cuadrada del número {numero} es {numero**0.5}\")\n",
    "    except:\n",
    "        pass\n",
    "    \n",
    "    print('Gracias por usar Python!.')"
   ]
  },
  {
   "cell_type": "code",
   "execution_count": null,
   "metadata": {},
   "outputs": [],
   "source": [
    "raizCuadrada(1)"
   ]
  },
  {
   "cell_type": "code",
   "execution_count": null,
   "metadata": {},
   "outputs": [],
   "source": [
    "raizCuadrada(-1)"
   ]
  },
  {
   "cell_type": "code",
   "execution_count": null,
   "metadata": {},
   "outputs": [],
   "source": [
    "raizCuadrada(\"hola\")"
   ]
  },
  {
   "cell_type": "markdown",
   "metadata": {},
   "source": [
    "Observa que en este ejemplo, no se hace ningún tratamiento a la excepción, simplemente se deja pasar con la función `pass` y eso evita que el código termine con un error."
   ]
  },
  {
   "cell_type": "markdown",
   "metadata": {},
   "source": [
    "### Tratamiento de las excepciones\n",
    "\n",
    "Es importante corregir el error o dar un aviso al usuario cada vez que se capture una excepción.\n",
    "\n",
    "### Ejemplo 2."
   ]
  },
  {
   "cell_type": "code",
   "execution_count": null,
   "metadata": {},
   "outputs": [],
   "source": [
    "def raizCuadrada(numero):\n",
    "    ocurre_error = False\n",
    "    try:\n",
    "        numero = float(numero)\n",
    "        print(\"La raíz cuadrada del número {} es {}\".format(numero, numero ** 0.5))\n",
    "    except:\n",
    "        ocurre_error = True\n",
    "        \n",
    "    if ocurre_error:\n",
    "        print(\"Hubo una falla en el programa, no se pudo realizar el cálculo\")\n",
    "    else:\n",
    "        print('Gracias por usar Python!.')"
   ]
  },
  {
   "cell_type": "code",
   "execution_count": null,
   "metadata": {},
   "outputs": [],
   "source": [
    "raizCuadrada(1)"
   ]
  },
  {
   "cell_type": "code",
   "execution_count": null,
   "metadata": {},
   "outputs": [],
   "source": [
    "raizCuadrada(-1)"
   ]
  },
  {
   "cell_type": "code",
   "execution_count": null,
   "metadata": {},
   "outputs": [],
   "source": [
    "raizCuadrada(\"hola\")"
   ]
  },
  {
   "cell_type": "markdown",
   "metadata": {},
   "source": [
    "En este ejemplo, cuando ocurre una excepción, se captura por el `except`y se hace alguna acción. En este caso solo se actualiza la etiqueta `ocurrer_error` que se usa posteriormente en la sección del `if .. else`."
   ]
  },
  {
   "cell_type": "markdown",
   "metadata": {},
   "source": [
    "### Gestión de excepciones por su tipo.\n",
    "\n",
    "La expresión `except` puede ser utilizada de forma tal que ejecute código dependiendo del tipo de error que ocurra. Para más información de los tipos de error que existen en Python, consulte <a href=\"https://docs.python.org/3/library/exceptions.html#concrete-exceptions\"> Concrete exceptions </a>.\n",
    "\n",
    "### Ejemplo 3."
   ]
  },
  {
   "cell_type": "code",
   "execution_count": null,
   "metadata": {},
   "outputs": [],
   "source": [
    "def raizCuadrada(numero):\n",
    "    ocurre_error = False\n",
    "    try:\n",
    "        numero = float(numero)\n",
    "        print(\"La raíz cuadrada del número {} es {}\".format(numero, numero ** 0.5))\n",
    "    except TypeError:\n",
    "        ocurre_error = True\n",
    "        print(\"Ocurrió un error de tipo: TypeError, verifique que los tipos sean compatibles.\")\n",
    "    except:\n",
    "        ocurre_error = True\n",
    "        print(\"Ocurrió algo misterioso\")\n",
    "        \n",
    "    if ocurre_error:\n",
    "        print(\"Hubo una falla en el programa, no se pudo realizar el cálculo\")\n",
    "    else:\n",
    "        print('Gracias por usar Python!.')"
   ]
  },
  {
   "cell_type": "code",
   "execution_count": null,
   "metadata": {},
   "outputs": [],
   "source": [
    "raizCuadrada(1)"
   ]
  },
  {
   "cell_type": "code",
   "execution_count": null,
   "metadata": {},
   "outputs": [],
   "source": [
    "raizCuadrada(-1)"
   ]
  },
  {
   "cell_type": "code",
   "execution_count": null,
   "metadata": {},
   "outputs": [],
   "source": [
    "raizCuadrada(\"hola\")"
   ]
  },
  {
   "cell_type": "code",
   "execution_count": null,
   "metadata": {},
   "outputs": [],
   "source": [
    "raizCuadrada(1+4j)"
   ]
  },
  {
   "cell_type": "markdown",
   "metadata": {},
   "source": [
    "Como se puede ver, ahora el tratamiento de la excepción es más controlable de acuerdo con el tipo de error que se obtenga."
   ]
  },
  {
   "cell_type": "markdown",
   "metadata": {},
   "source": [
    "### Información del error\n",
    "\n",
    "También es posible obtener más información de acuerdo con el tipo de error que ocurra.\n",
    "\n",
    "### Ejemplo 4."
   ]
  },
  {
   "cell_type": "code",
   "execution_count": null,
   "metadata": {},
   "outputs": [],
   "source": [
    "def raizCuadrada(numero): \n",
    "    ocurre_error = False\n",
    "    try:\n",
    "        numero = float(numero)\n",
    "        print(\"La raíz cuadrada del número {} es {}\".format(numero, numero ** 0.5))\n",
    "    except TypeError as detalles:\n",
    "        ocurre_error = True\n",
    "        print(\"Ocurrió un error (TypeError):\", detalles)\n",
    "    except ValueError as detalles:\n",
    "        ocurre_error = True\n",
    "        print(\"Ocurrió un error (ValueError):\", detalles)\n",
    "    except:\n",
    "        ocurre_error = True\n",
    "        print(\"Ocurrió algo misterioso\")\n",
    "        \n",
    "    if ocurre_error:\n",
    "        print(\"Hubo una falla en el programa, no se pudo realizar el cálculo\")\n",
    "    else:\n",
    "        print('Gracias por usar Python!.')"
   ]
  },
  {
   "cell_type": "code",
   "execution_count": null,
   "metadata": {},
   "outputs": [],
   "source": [
    "raizCuadrada(1)"
   ]
  },
  {
   "cell_type": "code",
   "execution_count": null,
   "metadata": {},
   "outputs": [],
   "source": [
    "raizCuadrada(-1)"
   ]
  },
  {
   "cell_type": "code",
   "execution_count": null,
   "metadata": {},
   "outputs": [],
   "source": [
    "raizCuadrada('dd')"
   ]
  },
  {
   "cell_type": "markdown",
   "metadata": {},
   "source": [
    "### Sección `finally`\n",
    "Esta sección se ejecuta siempre, sin importar si hubo una excepción o no."
   ]
  },
  {
   "cell_type": "code",
   "execution_count": null,
   "metadata": {},
   "outputs": [],
   "source": [
    "def raizCuadrada(numero):\n",
    "    ocurre_error = False\n",
    "    try:\n",
    "        numero = float(numero)\n",
    "        print(\"La raíz cuadrada del número %f es %f\" % (numero, numero ** 0.5))\n",
    "    except TypeError as detalles:\n",
    "        ocurre_error = True\n",
    "        print(\"Ocurrió un error (TypeError):\", detalles)\n",
    "    except ValueError as detalles:\n",
    "        ocurre_error = True\n",
    "        print(\"Ocurrió un error (ValueError):\", detalles)\n",
    "    except:\n",
    "        ocurre_error = True\n",
    "        print(\"Ocurrió algo misterioso\")\n",
    "    finally:\n",
    "        if ocurre_error:\n",
    "            print(\"Hubo una falla en el programa, no se pudo realizar el cálculo\")\n",
    "        else:\n",
    "            print('Gracias por usar Python!.')"
   ]
  },
  {
   "cell_type": "code",
   "execution_count": null,
   "metadata": {},
   "outputs": [],
   "source": [
    "raizCuadrada(1)"
   ]
  },
  {
   "cell_type": "code",
   "execution_count": null,
   "metadata": {},
   "outputs": [],
   "source": [
    "raizCuadrada(-1)"
   ]
  },
  {
   "cell_type": "code",
   "execution_count": null,
   "metadata": {},
   "outputs": [],
   "source": [
    "raizCuadrada(1j)"
   ]
  },
  {
   "cell_type": "code",
   "execution_count": null,
   "metadata": {},
   "outputs": [],
   "source": [
    "raizCuadrada(\"hola\")"
   ]
  },
  {
   "cell_type": "code",
   "execution_count": null,
   "metadata": {},
   "outputs": [],
   "source": []
  }
 ],
 "metadata": {
  "anaconda-cloud": {},
  "kernelspec": {
   "display_name": "Python 3 (ipykernel)",
   "language": "python",
   "name": "python3"
  },
  "language_info": {
   "codemirror_mode": {
    "name": "ipython",
    "version": 3
   },
   "file_extension": ".py",
   "mimetype": "text/x-python",
   "name": "python",
   "nbconvert_exporter": "python",
   "pygments_lexer": "ipython3",
   "version": "3.11.3"
  }
 },
 "nbformat": 4,
 "nbformat_minor": 4
}
