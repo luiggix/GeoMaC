{
 "cells": [
  {
   "cell_type": "markdown",
   "metadata": {},
   "source": [
    "# Introducción a Python para IA.\n",
    "\n",
    " <p xmlns:cc=\"http://creativecommons.org/ns#\" xmlns:dct=\"http://purl.org/dc/terms/\"><a property=\"dct:title\" rel=\"cc:attributionURL\" href=\"https://github.com/luiggix/intro_MeIA_2023\">Introducción a Python para IA</a> by <span property=\"cc:attributionName\">Luis Miguel de la Cruz Salas</span> is licensed under <a href=\"http://creativecommons.org/licenses/by-nc-sa/4.0/?ref=chooser-v1\" target=\"_blank\" rel=\"license noopener noreferrer\" style=\"display:inline-block;\">CC BY-NC-SA 4.0<img style=\"height:22px!important;margin-left:3px;vertical-align:text-bottom;\" src=\"https://mirrors.creativecommons.org/presskit/icons/cc.svg?ref=chooser-v1\"><img style=\"height:22px!important;margin-left:3px;vertical-align:text-bottom;\" src=\"https://mirrors.creativecommons.org/presskit/icons/by.svg?ref=chooser-v1\"><img style=\"height:22px!important;margin-left:3px;vertical-align:text-bottom;\" src=\"https://mirrors.creativecommons.org/presskit/icons/nc.svg?ref=chooser-v1\"><img style=\"height:22px!important;margin-left:3px;vertical-align:text-bottom;\" src=\"https://mirrors.creativecommons.org/presskit/icons/sa.svg?ref=chooser-v1\"></a></p> \n",
    "\n",
    "# Objetivo.\n",
    "Revisar de manera detallada como crear funciones, sus argumentos, sus valores de regreso y su documentación."
   ]
  },
  {
   "cell_type": "markdown",
   "metadata": {},
   "source": [
    "# Funciones\n",
    "\n",
    "Las funciones son la primera forma de estructurar un programa. Esto nos lleva al paradigma de programación estructurada, junto con las construcciones de control de flujo. Las funciones nos permiten agrupar y reutilizar líneas de código.\n",
    "\n",
    "La sintáxis es:\n",
    "\n",
    "```python\n",
    "def nombre_de_la_función(parm1,parm2,...):\n",
    "    bloque de código\n",
    "    return resultado\n",
    "```\n",
    "\n",
    "El código de la función está identado 4 espacios a la derecha. Cuando termina la identación, termina la función.\n",
    "\n",
    "### Ejemplo 1."
   ]
  },
  {
   "cell_type": "code",
   "execution_count": null,
   "metadata": {},
   "outputs": [],
   "source": [
    "# La siguiente función calcula la secuencia de Fibonacci\n",
    "def fib(n):  # La función se llama fib y recibe el parámetro n\n",
    "    a, b = 0, 1\n",
    "    while a < n:\n",
    "        print(a, end=',')\n",
    "        a, b = b, a+b\n",
    "        \n",
    "print('Todo funcinó correctamente') # Este print ya no es parte de la función"
   ]
  },
  {
   "cell_type": "code",
   "execution_count": null,
   "metadata": {},
   "outputs": [],
   "source": [
    "fib(50) # ejecutamos la función fib con el argumento 10"
   ]
  },
  {
   "cell_type": "code",
   "execution_count": null,
   "metadata": {},
   "outputs": [],
   "source": [
    "print(fib, type(fib), id(fib))"
   ]
  },
  {
   "cell_type": "markdown",
   "metadata": {},
   "source": [
    "### Ejemplo 2.\n",
    "\n",
    "Una función es un objeto de la tipo `function`. Dado lo anterior, podemos usar varios nombres para los objetos de tipo `function`."
   ]
  },
  {
   "cell_type": "code",
   "execution_count": null,
   "metadata": {},
   "outputs": [],
   "source": [
    "Fibonacci = fib # Ahora Fibonacci() es un sinónimo de fib()"
   ]
  },
  {
   "cell_type": "code",
   "execution_count": null,
   "metadata": {},
   "outputs": [],
   "source": [
    "print(fib, type(Fibonacci), id(Fibonacci))"
   ]
  },
  {
   "cell_type": "code",
   "execution_count": null,
   "metadata": {},
   "outputs": [],
   "source": [
    "Fibonacci(200) "
   ]
  },
  {
   "cell_type": "markdown",
   "metadata": {},
   "source": [
    "# Ámbitos y `global`\n",
    "\n",
    "Las funciones (y otros operadores también), crean su propio ámbito, de tal manera que las etiquetas declaradas dentro de funciones son locales."
   ]
  },
  {
   "cell_type": "code",
   "execution_count": null,
   "metadata": {},
   "outputs": [],
   "source": [
    "a = 10 # Objeto global etiquetado con a\n",
    "\n",
    "def f():\n",
    "    a = 20 # Objeto local etiquetado con a\n",
    "    return a"
   ]
  },
  {
   "cell_type": "code",
   "execution_count": null,
   "metadata": {},
   "outputs": [],
   "source": [
    "print(a)"
   ]
  },
  {
   "cell_type": "code",
   "execution_count": null,
   "metadata": {},
   "outputs": [],
   "source": [
    "print(f())"
   ]
  },
  {
   "cell_type": "markdown",
   "metadata": {},
   "source": [
    "Para usar el objeto global dentro de la función debemos usar `global`"
   ]
  },
  {
   "cell_type": "code",
   "execution_count": null,
   "metadata": {},
   "outputs": [],
   "source": [
    "a = 20\n",
    "def f():\n",
    "    global a \n",
    "    return a"
   ]
  },
  {
   "cell_type": "code",
   "execution_count": null,
   "metadata": {},
   "outputs": [],
   "source": [
    "print(a)"
   ]
  },
  {
   "cell_type": "code",
   "execution_count": null,
   "metadata": {},
   "outputs": [],
   "source": [
    "print(f())"
   ]
  },
  {
   "cell_type": "markdown",
   "metadata": {},
   "source": [
    "# Retorno de una función\n",
    "\n",
    "La palabra reservada `return` regresa un objeto, que en principio contiene el resultado de las operaciones realizadas por la función."
   ]
  },
  {
   "cell_type": "code",
   "execution_count": null,
   "metadata": {},
   "outputs": [],
   "source": [
    "# Función que calcula la posición y velocidad en el tiro vertical de un objeto.\n",
    "def verticalThrow(t,v0): \n",
    "    g = 9.81 # [m / s**2]\n",
    "    y = v0 * t - 0.5 * g * t**2 \n",
    "    v = v0 - g * t \n",
    "    return y, v  # regresa la posición [m] y la velocidad [m/s]"
   ]
  },
  {
   "cell_type": "code",
   "execution_count": null,
   "metadata": {},
   "outputs": [],
   "source": [
    "t = 2.0   # [s]\n",
    "v0 = 20 # [m/s]\n",
    "verticalThrow(t, v0)"
   ]
  },
  {
   "cell_type": "markdown",
   "metadata": {},
   "source": [
    "Observe que la función regresa dos valores. Estos valores son empacados en una `tuple` de tal manera que si asignamos lo devuelve la función a una etiqueta, está última estará haciendo referencia a una tupla:"
   ]
  },
  {
   "cell_type": "code",
   "execution_count": null,
   "metadata": {},
   "outputs": [],
   "source": [
    "resultado = verticalThrow(t, v0)"
   ]
  },
  {
   "cell_type": "code",
   "execution_count": null,
   "metadata": {},
   "outputs": [],
   "source": [
    "print(resultado, type(resultado))"
   ]
  },
  {
   "cell_type": "markdown",
   "metadata": {},
   "source": [
    "# Parámetros por omisión\n",
    "\n",
    "Se posible que varios de los parámetros tengan un valor por omisión cuando no se pasa el valor de dicho parámetro."
   ]
  },
  {
   "cell_type": "code",
   "execution_count": null,
   "metadata": {},
   "outputs": [],
   "source": [
    "# Función que calcula la posición y velocidad en el tiro vertical de un objeto.\n",
    "def verticalThrow(t, v0 = 20): \n",
    "    g = 9.81 # [m / s**2]\n",
    "    y = v0 * t - 0.5 * g * t**2 \n",
    "    v = v0 - g * t \n",
    "    return y, v  # regresa la posición [m] y la velocidad [m/s]"
   ]
  },
  {
   "cell_type": "code",
   "execution_count": null,
   "metadata": {},
   "outputs": [],
   "source": [
    "pos, vel = verticalThrow(t,30)\n",
    "print(pos, vel)"
   ]
  },
  {
   "cell_type": "code",
   "execution_count": null,
   "metadata": {},
   "outputs": [],
   "source": [
    "pos, vel = verticalThrow(t) # No se pasa v0, entonces toma el valor por omisión\n",
    "print(pos, vel)"
   ]
  },
  {
   "cell_type": "markdown",
   "metadata": {},
   "source": [
    "Es posible tener varios parámetros por omisión, pero siempre deben estar al final de la lista de todos los parámetros:"
   ]
  },
  {
   "cell_type": "code",
   "execution_count": null,
   "metadata": {},
   "outputs": [],
   "source": [
    "def f(a,b,c,d=5,e=10):\n",
    "    return a"
   ]
  },
  {
   "cell_type": "markdown",
   "metadata": {},
   "source": [
    "# Argumentos posicionales y `keyword`\n",
    "Un argumento es el valor que se le pasa a una función cuando ésta se ejecuta. Hay dos tipos de argumentos:\n",
    "\n",
    "- *Positional argument* : un argumento que no es precedido por un identificador, o pasado en una tupla precedido por `*`:\n",
    "\n",
    "    ```python\n",
    "    verticalThrow(3, 50)\n",
    "    verticalThrow(*(3, 50))\n",
    "    ```\n",
    "    \n",
    "- *Keyword argument* : un argumento precedido por un identificador en la llamada de una función (o que se pasa por valor en un diccionario precedido por `**`):\n",
    "\n",
    "    ```python\n",
    "    verticalThrow(t=3, v0=50)\n",
    "    verticalThrow(**{'t': 3, 'v0': 50})\n",
    "    verticalThrow(**dict(t = 3, v0=50))\n",
    "    ```"
   ]
  },
  {
   "cell_type": "code",
   "execution_count": null,
   "metadata": {},
   "outputs": [],
   "source": [
    "verticalThrow(3, 50) # Argumentos posicionales: t = 3 y v0 = 50"
   ]
  },
  {
   "cell_type": "code",
   "execution_count": null,
   "metadata": {},
   "outputs": [],
   "source": [
    "verticalThrow(*(3,50)) # Argumentos posicionales: t = 3 y v0 = 50"
   ]
  },
  {
   "cell_type": "code",
   "execution_count": null,
   "metadata": {},
   "outputs": [],
   "source": [
    "verticalThrow(t=3, v0=50) # Argumentos Keyword"
   ]
  },
  {
   "cell_type": "code",
   "execution_count": null,
   "metadata": {},
   "outputs": [],
   "source": [
    "verticalThrow(**{'t':3,'v0':50}) # Argumentos Keyword"
   ]
  },
  {
   "cell_type": "code",
   "execution_count": null,
   "metadata": {},
   "outputs": [],
   "source": [
    "verticalThrow(**dict(t = 3, v0=50)) # Argumentos Keyword"
   ]
  },
  {
   "cell_type": "code",
   "execution_count": null,
   "metadata": {},
   "outputs": [],
   "source": [
    "verticalThrow(v0=50,t=3) # Argumentos Keyword"
   ]
  },
  {
   "cell_type": "markdown",
   "metadata": {},
   "source": [
    "# Número variable de parámetros.\n",
    "\n",
    "Es posible definir una función que reciba un número variable de argumentos."
   ]
  },
  {
   "cell_type": "code",
   "execution_count": null,
   "metadata": {},
   "outputs": [],
   "source": [
    "# *args: número variable de Positional arguments empacados en una tupla\n",
    "# *kwargs: número variable de Keyword arguments empacados en un diccionario\n",
    "\n",
    "def parametrosVariables(*args, **kwargs):\n",
    "    print('args es una tupla : ', args)\n",
    "    print('kwargs es un diccionario: ', kwargs)\n",
    "    \n",
    "parametrosVariables('one', 'two','three', 'four', a = 4,  x=1, y=2, z=3, w=[1,2,2])"
   ]
  },
  {
   "cell_type": "code",
   "execution_count": null,
   "metadata": {},
   "outputs": [],
   "source": [
    "parametrosVariables(1,2,3, w=8, y='cadena')"
   ]
  },
  {
   "cell_type": "markdown",
   "metadata": {},
   "source": [
    "### Ejemplo 3.\n",
    "\n",
    "Función que desempaca los argumentos de un diccionario."
   ]
  },
  {
   "cell_type": "code",
   "execution_count": null,
   "metadata": {},
   "outputs": [],
   "source": [
    "def funcion_kargs(**argumentos):\n",
    "    for key, val in argumentos.items():\n",
    "        print(f\" key = {key} : value = {val}\")"
   ]
  },
  {
   "cell_type": "code",
   "execution_count": null,
   "metadata": {},
   "outputs": [],
   "source": [
    "funcion_kargs(nombre = 'Luis', apellido='de la Cruz', edad=15, peso=80.5 )"
   ]
  },
  {
   "cell_type": "code",
   "execution_count": null,
   "metadata": {},
   "outputs": [],
   "source": [
    "mi_dicc = {'nombre':'Luis', 'apellido':'de la Cruz', 'edad':15, 'peso':80.5}"
   ]
  },
  {
   "cell_type": "code",
   "execution_count": null,
   "metadata": {},
   "outputs": [],
   "source": [
    "funcion_kargs(**mi_dicc)"
   ]
  },
  {
   "cell_type": "markdown",
   "metadata": {},
   "source": [
    "# Funciones como parámetros de otras funciones\n",
    "\n",
    "Dado que las funciones son tamboén objetos, es posible que una función reciba otra función como parámetro. Esto es similar a la composición de funciones que se enseña en Cálculo."
   ]
  },
  {
   "cell_type": "markdown",
   "metadata": {},
   "source": [
    "### Ejemplo 4."
   ]
  },
  {
   "cell_type": "code",
   "execution_count": null,
   "metadata": {},
   "outputs": [],
   "source": [
    "def g():\n",
    "    print(\"Iniciando la función 'g()'\")\n",
    "    \n",
    "def func(f):\n",
    "    print(\"Iniciando la función 'func()'\")\n",
    "    print(\"Ejecución de la función 'f()' que se recibe como argumento, cuyo nombre real es '\" + f.__name__ + \"()'\")\n",
    "    f()\n",
    "    \n",
    "func(g)"
   ]
  },
  {
   "cell_type": "markdown",
   "metadata": {},
   "source": [
    "Los objetos de tipo función tienen ciertos atributos; por ejemplo en `__name__` se guarda el nombre de la función. Para conocer los atributos de una función, podemos usar `dir(func)`:"
   ]
  },
  {
   "cell_type": "code",
   "execution_count": null,
   "metadata": {},
   "outputs": [],
   "source": [
    "dir(func)"
   ]
  },
  {
   "cell_type": "markdown",
   "metadata": {},
   "source": [
    "### Ejemplo 5.\n",
    "\n",
    "Construir una función que calcule la integral numérica de cualquier función matemática."
   ]
  },
  {
   "cell_type": "code",
   "execution_count": null,
   "metadata": {},
   "outputs": [],
   "source": [
    "import math\n",
    "\n",
    "def integra(func,a,b,N):\n",
    "    print(f\"Integral de {func.__name__} en el intervalo ({a},{b}) usando {N} puntos\")\n",
    "    \n",
    "    # Método de integración numérica\n",
    "    h = (b - a) / N\n",
    "    resultado = 0\n",
    "    x = [a + h*i for i in range(N+1)]\n",
    "    for xi in x:\n",
    "        resultado += func(xi) * h\n",
    "    return resultado\n",
    "\n",
    "print('Resultado = {:10.6f}'.format(integra(math.sin, 1,2,100)))\n",
    "print('Resultado = {:10.6f}'.format(integra(math.cos, 2,3,50)))"
   ]
  },
  {
   "cell_type": "markdown",
   "metadata": {},
   "source": [
    "# Funciones que regresan otra función\n",
    "\n",
    "Las funciones pueden regresar como salida otra función. "
   ]
  },
  {
   "cell_type": "code",
   "execution_count": null,
   "metadata": {},
   "outputs": [],
   "source": [
    "def funcionPadre(n):\n",
    "\n",
    "    # Observe que es posible definir funciones dentro de funciones.\n",
    "    \n",
    "    def funcionHijo1():\n",
    "        return \"Resultado de funcionHijo1()\"\n",
    "\n",
    "    def funcionHijo2():\n",
    "        return \"Resultado de funcionHijo2()\"\n",
    "\n",
    "    if n == 10:\n",
    "        return funcionHijo1\n",
    "    else:\n",
    "        return funcionHijo2"
   ]
  },
  {
   "cell_type": "code",
   "execution_count": null,
   "metadata": {},
   "outputs": [],
   "source": [
    "print(funcionPadre(10)) # Con este valor regresa la funcionHijo1()"
   ]
  },
  {
   "cell_type": "code",
   "execution_count": null,
   "metadata": {},
   "outputs": [],
   "source": [
    "print(funcionPadre(36)) # Con este valor regresa la funcionHijo2()"
   ]
  },
  {
   "cell_type": "code",
   "execution_count": null,
   "metadata": {},
   "outputs": [],
   "source": [
    "f1 = funcionPadre(10) # f1 es la funcionHijo1()\n",
    "f2 = funcionPadre(36) # f2 es la funcionHijo2()"
   ]
  },
  {
   "cell_type": "code",
   "execution_count": null,
   "metadata": {},
   "outputs": [],
   "source": [
    "print(f1.__name__)\n",
    "print(f2.__name__)"
   ]
  },
  {
   "cell_type": "code",
   "execution_count": null,
   "metadata": {},
   "outputs": [],
   "source": [
    "# Ejecución de las funciones\n",
    "print(f1())\n",
    "print(f2())"
   ]
  },
  {
   "cell_type": "markdown",
   "metadata": {},
   "source": [
    "### Ejemplo 6.\n",
    "Implementar una fábrica de polinomios de segundo grado: \n",
    "\n",
    "$$\n",
    "p(x) = a x^2 + b x + c\n",
    "$$"
   ]
  },
  {
   "cell_type": "code",
   "execution_count": null,
   "metadata": {},
   "outputs": [],
   "source": [
    "def polinomio(a, b, c):\n",
    "    \n",
    "    def polSegundoGrado(x):\n",
    "        return a * x**2 + b * x + c\n",
    "    \n",
    "    return polSegundoGrado\n",
    "\n",
    "p1 = polinomio(2, 3, -1) # Se construye el polinomio: 2x^2 + 3x - 1\n",
    "p2 = polinomio(-1, 2, 1) # Se construye el polinomio: -x^2 + 2x + 1\n",
    "\n",
    "# Evaluamos los polinomios en x = [-2,-1,0,1]\n",
    "for x in range(-2, 2, 1):\n",
    "    print(f'x = {x:3d} \\t p1(x) = {p1(x):3d} \\t p2(x) = {p2(x):3d}')"
   ]
  },
  {
   "cell_type": "markdown",
   "metadata": {},
   "source": [
    "### Ejemplo 7.\n",
    "\n",
    "Implementar una fábrica de polinomios de cualquier grado: \n",
    "\n",
    "$$\n",
    "\\sum\\limits_{k=0}^{n} a_k x^k = a_n x^n + a_{n-1} x^{n-1} + \\dots + a_1 x + a_0 \n",
    "$$"
   ]
  },
  {
   "cell_type": "code",
   "execution_count": null,
   "metadata": {},
   "outputs": [],
   "source": [
    "def polinomioFactory(*coeficientes):\n",
    "\n",
    "    def polinomio(x):\n",
    "        res = 0\n",
    "        for i, coef in enumerate(coeficientes):\n",
    "            res += coef * x ** i\n",
    "        return res\n",
    "    \n",
    "    return polinomio\n",
    "\n",
    "p1 = polinomioFactory(5)           # a_0 = 5\n",
    "p2 = polinomioFactory(2, 4)        # 4 x + 2\n",
    "p3 = polinomioFactory(-1, 2, 1)    # x^2 + 2x - 1\n",
    "p4 = polinomioFactory(0, 3, -1, 1) # x^3 - x^2 + 3x + 0\n",
    "\n",
    "for x in range(-2, 2, 1):\n",
    "    print(f'x = {x:3d} \\t p1(x) = {p1(x):3d} \\t p2(x) = {p2(x):3d} \\t p3(x) = {p3(x):3d} \\t p4(x) = {p4(x):3d}')"
   ]
  },
  {
   "cell_type": "markdown",
   "metadata": {},
   "source": [
    "# Documentación con *docstring*\n",
    "\n",
    "Python ofrece dos tipos básicos de comentarios para documentar el código:\n",
    "\n",
    "1. Lineal.<br>\n",
    "Este tipo de comentarios se llevan a cabo utilizando el símbolo especial `#`. El intérprete de Python sabrá que todo lo que sigue delante de este símbolo es un comentario y por lo tanto no se toma en cuenta en la ejecución:\n",
    "\n",
    "```python\n",
    "a = 10 # Este es un comentario\n",
    "\n",
    "```\n",
    "\n",
    "2. Docstrings<br>\n",
    "En programación, un *docstring* es una cadena de caracteres embedidas en el código fuente, similares a un comentario, para documentar un segmento de código específico. A diferencia de los comentarios tradicionales, las docstrings no se quitan del código cuando es analizado, sino que son retenidas a través de la ejecución del programa. Esto permite al programador inspeccionar esos comentarios en tiempo de ejecución, por ejemplo como un sistema de ayuda interactivo o como metadatos. En Python se utilizan las triples comillas para definir un *docstring*.\n",
    "\n",
    "```python\n",
    "def funcion(x):\n",
    "    '''\n",
    "    Esta es una descripción de la función ...\n",
    "    '''\n",
    "    \n",
    "def foo(y):\n",
    "    \"\"\"\n",
    "    También de esta manera se puede definir una docstring\n",
    "    \"\"\"\n",
    "   \n",
    "```\n"
   ]
  },
  {
   "cell_type": "code",
   "execution_count": null,
   "metadata": {},
   "outputs": [],
   "source": [
    "def suma(a,b):\n",
    "    '''\n",
    "    Esta función calcula  la suma de los parámetros a y b. \n",
    "    Regresa el resultado de la suma\n",
    "    '''\n",
    "    return a + b"
   ]
  },
  {
   "cell_type": "code",
   "execution_count": null,
   "metadata": {},
   "outputs": [],
   "source": [
    "suma"
   ]
  },
  {
   "cell_type": "code",
   "execution_count": null,
   "metadata": {},
   "outputs": [],
   "source": [
    "# En numpy se usa la siguiente definición de docstrings\n",
    "def suma(a,b):\n",
    "    '''\n",
    "    Calcula la suma de los dos parámetros a y b.\n",
    "    \n",
    "    Parameters\n",
    "    ----------\n",
    "        a: int \n",
    "        Numero a sumar\n",
    "        b: int \n",
    "        Numero a sumar\n",
    "    Returns\n",
    "    -------\n",
    "        c: int Suma del numero a y b\n",
    "    '''\n",
    "    c = a + b\n",
    "    return c"
   ]
  },
  {
   "cell_type": "code",
   "execution_count": null,
   "metadata": {},
   "outputs": [],
   "source": [
    "suma"
   ]
  },
  {
   "cell_type": "code",
   "execution_count": null,
   "metadata": {},
   "outputs": [],
   "source": []
  }
 ],
 "metadata": {
  "kernelspec": {
   "display_name": "Python 3 (ipykernel)",
   "language": "python",
   "name": "python3"
  },
  "language_info": {
   "codemirror_mode": {
    "name": "ipython",
    "version": 3
   },
   "file_extension": ".py",
   "mimetype": "text/x-python",
   "name": "python",
   "nbconvert_exporter": "python",
   "pygments_lexer": "ipython3",
   "version": "3.11.3"
  }
 },
 "nbformat": 4,
 "nbformat_minor": 4
}
