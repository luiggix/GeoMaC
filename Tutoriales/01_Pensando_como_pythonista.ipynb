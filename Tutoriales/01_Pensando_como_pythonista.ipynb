{
 "cells": [
  {
   "cell_type": "code",
   "execution_count": null,
   "metadata": {},
   "outputs": [],
   "source": [
    "NAME = \"\"\n",
    "COLLABORATORS = \"\""
   ]
  },
  {
   "cell_type": "markdown",
   "metadata": {},
   "source": [
    "---"
   ]
  },
  {
   "cell_type": "markdown",
   "metadata": {
    "deletable": false,
    "editable": false,
    "nbgrader": {
     "cell_type": "markdown",
     "checksum": "814f4c9a8e449bcf6a229ae755895196",
     "grade": false,
     "grade_id": "cell-b915cc4536cd07a1",
     "locked": true,
     "schema_version": 3,
     "solution": false,
     "task": false
    },
    "tags": []
   },
   "source": [
    "# Introducción a Python para IA.\n",
    "\n",
    "\n",
    " <p xmlns:cc=\"http://creativecommons.org/ns#\" xmlns:dct=\"http://purl.org/dc/terms/\"><a property=\"dct:title\" rel=\"cc:attributionURL\" href=\"https://github.com/luiggix/intro_MeIA_2023\">Introducción a Python para IA</a> by <span property=\"cc:attributionName\">Luis Miguel de la Cruz Salas</span> is licensed under <a href=\"http://creativecommons.org/licenses/by-nc-sa/4.0/?ref=chooser-v1\" target=\"_blank\" rel=\"license noopener noreferrer\" style=\"display:inline-block;\">CC BY-NC-SA 4.0<img style=\"height:22px!important;margin-left:3px;vertical-align:text-bottom;\" src=\"https://mirrors.creativecommons.org/presskit/icons/cc.svg?ref=chooser-v1\"><img style=\"height:22px!important;margin-left:3px;vertical-align:text-bottom;\" src=\"https://mirrors.creativecommons.org/presskit/icons/by.svg?ref=chooser-v1\"><img style=\"height:22px!important;margin-left:3px;vertical-align:text-bottom;\" src=\"https://mirrors.creativecommons.org/presskit/icons/nc.svg?ref=chooser-v1\"><img style=\"height:22px!important;margin-left:3px;vertical-align:text-bottom;\" src=\"https://mirrors.creativecommons.org/presskit/icons/sa.svg?ref=chooser-v1\"></a></p> \n",
    "\n",
    "\n",
    "# Objetivos.\n",
    "\n",
    "Revisar los conceptos de objetos, variables (etiquetas o nombres de variables), identidad, tipado dinámico,  funciones de la biblioteca estándar, estado interno y comportamiento.\n"
   ]
  },
  {
   "cell_type": "markdown",
   "metadata": {
    "deletable": false,
    "editable": false,
    "nbgrader": {
     "cell_type": "markdown",
     "checksum": "c81417711f33d19699544d958396a6ff",
     "grade": false,
     "grade_id": "cell-65d224622447df51",
     "locked": true,
     "schema_version": 3,
     "solution": false,
     "task": false
    },
    "tags": []
   },
   "source": [
    "<div class=\"alert alert-info\" role=\"alert\">\n",
    "\n",
    "# Instrucciones.\n",
    "\n",
    "1. Para ejecutar una celda, primero debes posicionarte en dicha celda y posteriormente teclear **una** de las siguientes dos combinaciones de teclas: \n",
    "    * <font color=\"#228B22\"><b>[Shift + Enter]</b></font> o \n",
    "    * <font color=\"#228B22\"><b>[Ctrl + Enter]</b></font>. <br>\n",
    "Te recomendamos acostumbrate a una de estas combinaciones para todo lo que sigue del curso.\n",
    "2. Cuando se modifica el código de cualquier celda, esta se debe re-ejecutar. <br> \n",
    "3. Las celdas que dependan de una celda modificada, se deben re-ejecutar. <br>\n",
    "4. Cuando tenemos el nombre de una función de biblioteca, si ubicamos el cursor sobre el nombre y tecleamos <font color=\"#228B22\"><b>[Shift + Tab]</b></font> obtendremos ayuda sobre dicha función.<br>\n",
    "5. Lo anterior aplica a funciones definidas por el usuario, siempre y cuando se haya documentado la función usando [*docstring*](https://peps.python.org/pep-0257/). Esto también se explica en el notebook <a href=\"T06_Funciones_y_Documentacion.ipynb\">T06_Funciones_y_Documentacion.ipynb</a><br> \n",
    "6. Cuando tecleamos el nombre de un objeto, previamente definido, y le agregamos un **punto**, podemos en ese momento teclear la tecla <font color=\"#228B22\"><b>[Tab]</b></font> para obtener ayuda sobre su comportamiento.\n",
    "7. **Ejecuta todas las celdas en secuencia, excepto aquellas en las que se indíque explícitamente que no se ejecuten.**\n",
    "</div>\n",
    "\n",
    "**NOTAS ADICIONALES.**\n",
    "1. Una caja en color azul como la anterior te proporcionará información adicional para una correcta realización de los ejercicios.\n",
    "2. Una caja en color verde te mostrará sugerencias y ejercicios que debes realizar. Es importante revisar estas sugerencias para completar tus aprendizajes.\n",
    "\n",
    "<div class=\"alert alert-success\">\n",
    "<b>Revisa lo siguiente.</b>\n",
    "</div>\n",
    "\n",
    "3. Una caja en color rojo te dará algunos consejos, advertencias y/o recomendaciones con respecto de posibles errores o *bugs*  que podrían ocurrir durante la ejecución de un código.\n",
    "\n",
    "<div class=\"alert alert-danger\">\n",
    "<b>Cuidado.</b>\n",
    "    \n",
    "</div>\n",
    "    "
   ]
  },
  {
   "cell_type": "markdown",
   "metadata": {
    "deletable": false,
    "editable": false,
    "nbgrader": {
     "cell_type": "markdown",
     "checksum": "64e0dccc5fc7df9d27389dd7f9051be4",
     "grade": false,
     "grade_id": "cell-c1857f30cdc3ca55",
     "locked": true,
     "schema_version": 3,
     "solution": false,
     "task": false
    },
    "tags": []
   },
   "source": [
    "# Objetos e Identidad."
   ]
  },
  {
   "cell_type": "markdown",
   "metadata": {
    "deletable": false,
    "editable": false,
    "nbgrader": {
     "cell_type": "markdown",
     "checksum": "8e5a863af69f664aaa89f902f36c724f",
     "grade": false,
     "grade_id": "cell-1c3ae6889cec936c",
     "locked": true,
     "schema_version": 3,
     "solution": false,
     "task": false
    },
    "tags": []
   },
   "source": [
    "En Python, todo lo que se crea es un **objeto**.\n",
    "\n",
    "En la celda que sigue, teclea\n",
    "```python\n",
    "a = 1\n",
    "```\n",
    "y luego ejecuta la celda para ver el resultado."
   ]
  },
  {
   "cell_type": "code",
   "execution_count": 5,
   "metadata": {
    "tags": []
   },
   "outputs": [],
   "source": [
    "a = 1.0"
   ]
  },
  {
   "cell_type": "markdown",
   "metadata": {
    "deletable": false,
    "editable": false,
    "nbgrader": {
     "cell_type": "markdown",
     "checksum": "99bc32f17acaab79efc0bbed626cedf0",
     "grade": false,
     "grade_id": "cell-4fb47cb3c4a5092e",
     "locked": true,
     "schema_version": 3,
     "solution": false,
     "task": false
    },
    "tags": []
   },
   "source": [
    "¡Acabas de crear un objeto!\n",
    "- El objeto es `1`.\n",
    "- El objeto `1` está etiquetado con la letra `a` (nombre del objeto)\n",
    "\n",
    "\n",
    "<div class=\"alert alert-info\" role=\"alert\">\n",
    "Lo que en otros lenguajes se conoce como variable en Python también se le conoce como una etiqueta. \n",
    "</div>"
   ]
  },
  {
   "cell_type": "markdown",
   "metadata": {
    "deletable": false,
    "editable": false,
    "nbgrader": {
     "cell_type": "markdown",
     "checksum": "9dd4d5a961125af18fe76c6e984b2e95",
     "grade": false,
     "grade_id": "cell-d271b54ee7fa1a6a",
     "locked": true,
     "schema_version": 3,
     "solution": false,
     "task": false
    },
    "tags": []
   },
   "source": [
    "Cuando se pone el nombre del objeto `a` en una celda y se ejecuta, generalmente se obtiene su contenido o su tipo; ejecuta la siguiente celda:"
   ]
  },
  {
   "cell_type": "code",
   "execution_count": 6,
   "metadata": {
    "tags": []
   },
   "outputs": [
    {
     "data": {
      "text/plain": [
       "1.0"
      ]
     },
     "execution_count": 6,
     "metadata": {},
     "output_type": "execute_result"
    }
   ],
   "source": [
    "a"
   ]
  },
  {
   "cell_type": "markdown",
   "metadata": {
    "deletable": false,
    "editable": false,
    "nbgrader": {
     "cell_type": "markdown",
     "checksum": "b805b12138008b57ae41bda23c102c55",
     "grade": false,
     "grade_id": "cell-5e57010a0ca0c38a",
     "locked": true,
     "schema_version": 3,
     "solution": false,
     "task": false
    },
    "tags": []
   },
   "source": [
    "Para saber de qué tipo es el objeto, usamos la función `type(a)`"
   ]
  },
  {
   "cell_type": "code",
   "execution_count": 7,
   "metadata": {
    "tags": []
   },
   "outputs": [
    {
     "data": {
      "text/plain": [
       "float"
      ]
     },
     "execution_count": 7,
     "metadata": {},
     "output_type": "execute_result"
    }
   ],
   "source": [
    "type(a)"
   ]
  },
  {
   "cell_type": "markdown",
   "metadata": {
    "deletable": false,
    "editable": false,
    "nbgrader": {
     "cell_type": "markdown",
     "checksum": "1f41d08711f5f4296f426b9f042df806",
     "grade": false,
     "grade_id": "cell-5ef916df8de5c60d",
     "locked": true,
     "schema_version": 3,
     "solution": false,
     "task": false
    },
    "tags": []
   },
   "source": [
    "Observamos que el objeto cuyo nombre es `a` es de tipo `int` (entero)\n",
    "\n",
    "La función `id()` devuelve un número, el cual es la identidad del objeto `a` en la memoria de la computadora."
   ]
  },
  {
   "cell_type": "code",
   "execution_count": null,
   "metadata": {
    "tags": []
   },
   "outputs": [],
   "source": [
    "id(a)"
   ]
  },
  {
   "cell_type": "markdown",
   "metadata": {
    "deletable": false,
    "editable": false,
    "nbgrader": {
     "cell_type": "markdown",
     "checksum": "fe7ef15ed5b881fc83dc11abcb8b293d",
     "grade": false,
     "grade_id": "cell-bdc36f0471c5775a",
     "locked": true,
     "schema_version": 3,
     "solution": false,
     "task": false
    },
    "tags": []
   },
   "source": [
    "Podemos usar la función `print()` para revisar el contenido de `a`, su tipo y su identidad, al mismo tiempo:"
   ]
  },
  {
   "cell_type": "code",
   "execution_count": null,
   "metadata": {
    "tags": []
   },
   "outputs": [],
   "source": [
    "print(a, type(a), id(a))"
   ]
  },
  {
   "cell_type": "markdown",
   "metadata": {
    "deletable": false,
    "editable": false,
    "nbgrader": {
     "cell_type": "markdown",
     "checksum": "31f39bfc07c8af8122b20075c2497f04",
     "grade": false,
     "grade_id": "cell-08e405bd480529d3",
     "locked": true,
     "schema_version": 3,
     "solution": false,
     "task": false
    },
    "tags": []
   },
   "source": [
    "Observa que se imprime la información separada por un espacio.\n",
    "\n",
    "Creamos ahora el objeto `2` y lo etiquetamos con la misma letra `a` y luego revisamos la información del objeto con la función `print()`:"
   ]
  },
  {
   "cell_type": "code",
   "execution_count": null,
   "metadata": {
    "tags": []
   },
   "outputs": [],
   "source": [
    "a = 2 "
   ]
  },
  {
   "cell_type": "code",
   "execution_count": null,
   "metadata": {
    "tags": []
   },
   "outputs": [],
   "source": [
    "print(a, type(a), id(a))"
   ]
  },
  {
   "cell_type": "markdown",
   "metadata": {
    "deletable": false,
    "editable": false,
    "nbgrader": {
     "cell_type": "markdown",
     "checksum": "f52e3b91d874ca1dbdae236833454fea",
     "grade": false,
     "grade_id": "cell-3832ae5ca35ea337",
     "locked": true,
     "schema_version": 3,
     "solution": false,
     "task": false
    },
    "tags": []
   },
   "source": [
    "Observe que el objeto cambió, ahora es `2`; el tipo del objeto es el mismo (`<class int>`); la identidad es diferente."
   ]
  },
  {
   "cell_type": "markdown",
   "metadata": {
    "deletable": false,
    "editable": false,
    "nbgrader": {
     "cell_type": "markdown",
     "checksum": "7ccc199c85a6f5a7f4de313bbd174f80",
     "grade": false,
     "grade_id": "cell-0632f5bad91f1f4b",
     "locked": true,
     "schema_version": 3,
     "solution": false,
     "task": false
    },
    "tags": []
   },
   "source": [
    "**Pregunta**: ¿Qué pasó con el objeto `1` definido previamente y etiquetado con `a`?"
   ]
  },
  {
   "cell_type": "markdown",
   "metadata": {
    "deletable": false,
    "editable": false,
    "nbgrader": {
     "cell_type": "markdown",
     "checksum": "1ec287fba5c8ec9e088d6f38b6bec090",
     "grade": false,
     "grade_id": "cell-42670ab8bc922ea7",
     "locked": true,
     "schema_version": 3,
     "solution": false,
     "task": false
    },
    "tags": []
   },
   "source": [
    "Los objetos pueden tener varias etiquetas, por ejemplo si hacemos lo siguiente:"
   ]
  },
  {
   "cell_type": "code",
   "execution_count": null,
   "metadata": {
    "tags": []
   },
   "outputs": [],
   "source": [
    "b = a "
   ]
  },
  {
   "cell_type": "markdown",
   "metadata": {
    "deletable": false,
    "editable": false,
    "nbgrader": {
     "cell_type": "markdown",
     "checksum": "3958d1019c1f5ad7b0dd22ede08fb3dd",
     "grade": false,
     "grade_id": "cell-3d5af5be36cc6b0c",
     "locked": true,
     "schema_version": 3,
     "solution": false,
     "task": false
    },
    "tags": []
   },
   "source": [
    "Ahora consultamos la información de `a` y `b`"
   ]
  },
  {
   "cell_type": "code",
   "execution_count": null,
   "metadata": {
    "tags": []
   },
   "outputs": [],
   "source": [
    "# Observa que podemos poner varias instrucciones en una sola celda\n",
    "print(a, type(a), id(a))\n",
    "print(b, type(b), id(b))"
   ]
  },
  {
   "cell_type": "markdown",
   "metadata": {
    "deletable": false,
    "editable": false,
    "nbgrader": {
     "cell_type": "markdown",
     "checksum": "34fe8229b11a9749676371c4aad0db52",
     "grade": false,
     "grade_id": "cell-7af018e9bf9062aa",
     "locked": true,
     "schema_version": 3,
     "solution": false,
     "task": false
    },
    "tags": []
   },
   "source": [
    "Obsérve que `b` y `a` tienen el mismo contenido, el mismo tipo y el mismo identificador en memoria. Lo anterior significa que `b` y `a` son dos etiquetas para el mismo objeto; se puede decir que son *\"sinónimos\"*."
   ]
  },
  {
   "cell_type": "markdown",
   "metadata": {
    "deletable": false,
    "editable": false,
    "nbgrader": {
     "cell_type": "markdown",
     "checksum": "928d8627e147454070985aa9a0d614f1",
     "grade": false,
     "grade_id": "cell-d3d8c9eceadab051",
     "locked": true,
     "schema_version": 3,
     "solution": false,
     "task": false
    },
    "tags": []
   },
   "source": [
    "¿Qué pasa si hacemos `a = 5`?"
   ]
  },
  {
   "cell_type": "code",
   "execution_count": null,
   "metadata": {
    "tags": []
   },
   "outputs": [],
   "source": [
    "a = 5"
   ]
  },
  {
   "cell_type": "code",
   "execution_count": null,
   "metadata": {
    "tags": []
   },
   "outputs": [],
   "source": [
    "print(a, type(a), id(a))\n",
    "print(b, type(b), id(b))"
   ]
  },
  {
   "cell_type": "markdown",
   "metadata": {
    "deletable": false,
    "editable": false,
    "nbgrader": {
     "cell_type": "markdown",
     "checksum": "0ba4d56e69cb8692bd95d2d46c563d48",
     "grade": false,
     "grade_id": "cell-cd5e569da43e1c71",
     "locked": true,
     "schema_version": 3,
     "solution": false,
     "task": false
    },
    "tags": []
   },
   "source": [
    "Observa que ahora `a` es la etiqueta del objeto `5` y `b` sigue etiquetando al objeto `2`."
   ]
  },
  {
   "cell_type": "markdown",
   "metadata": {
    "deletable": false,
    "editable": false,
    "nbgrader": {
     "cell_type": "markdown",
     "checksum": "3796d55e57bed714b4a967c8d5e2ca18",
     "grade": false,
     "grade_id": "cell-955396b4334bf53d",
     "locked": true,
     "schema_version": 3,
     "solution": false,
     "task": false
    },
    "tags": []
   },
   "source": [
    "Hagamos `c = b`."
   ]
  },
  {
   "cell_type": "code",
   "execution_count": null,
   "metadata": {
    "tags": []
   },
   "outputs": [],
   "source": [
    "c = b"
   ]
  },
  {
   "cell_type": "markdown",
   "metadata": {
    "deletable": false,
    "editable": false,
    "nbgrader": {
     "cell_type": "markdown",
     "checksum": "80ca6997e5191f756003e664c2ad42ca",
     "grade": false,
     "grade_id": "cell-7389573ac4c59980",
     "locked": true,
     "schema_version": 3,
     "solution": false,
     "task": false
    },
    "tags": []
   },
   "source": [
    "Ahora consultamos el contenido, el tipo y el identificador de `a`, `b` y `c`:"
   ]
  },
  {
   "cell_type": "code",
   "execution_count": null,
   "metadata": {
    "tags": []
   },
   "outputs": [],
   "source": [
    "print(a, type(a), id(a))\n",
    "print(b, type(b), id(b))\n",
    "print(c, type(c), id(c))"
   ]
  },
  {
   "cell_type": "markdown",
   "metadata": {
    "deletable": false,
    "editable": false,
    "nbgrader": {
     "cell_type": "markdown",
     "checksum": "163872e6c0c81f1f8f772bde1e040bd4",
     "grade": false,
     "grade_id": "cell-9cd316673c0638b3",
     "locked": true,
     "schema_version": 3,
     "solution": false,
     "task": false
    },
    "tags": []
   },
   "source": [
    "**Pregunta**: ¿Puedes explicar el resultado de la celda anterior?"
   ]
  },
  {
   "cell_type": "markdown",
   "metadata": {
    "deletable": false,
    "editable": false,
    "nbgrader": {
     "cell_type": "markdown",
     "checksum": "8f2acf0f5129f7531d7cc80f8bdfbc0e",
     "grade": false,
     "grade_id": "cell-a80aff3451c2a5c7",
     "locked": true,
     "schema_version": 3,
     "solution": false,
     "task": false
    },
    "tags": []
   },
   "source": [
    "Es posible eliminar etiquetas usando la función `del()`"
   ]
  },
  {
   "cell_type": "code",
   "execution_count": null,
   "metadata": {
    "tags": []
   },
   "outputs": [],
   "source": [
    "del(c)"
   ]
  },
  {
   "cell_type": "code",
   "execution_count": null,
   "metadata": {
    "tags": []
   },
   "outputs": [],
   "source": [
    "print(c, type(c), id(c))"
   ]
  },
  {
   "cell_type": "markdown",
   "metadata": {
    "deletable": false,
    "editable": false,
    "nbgrader": {
     "cell_type": "markdown",
     "checksum": "441a0181d0f0cd5d9b2b58e1ac6219d6",
     "grade": false,
     "grade_id": "cell-bf893b6802c61914",
     "locked": true,
     "schema_version": 3,
     "solution": false,
     "task": false
    },
    "tags": []
   },
   "source": [
    "Cuando eliminamos una etiqueta, ésta ya no puede ser usada; pero, el objeto al que apuntaba, en este caso el objeto `2`, solo se elimina cuando ya no hay etiquetas que hagan referencia a él. En este caso, el objeto `2` aún está etiquetado por `b`:"
   ]
  },
  {
   "cell_type": "code",
   "execution_count": null,
   "metadata": {
    "tags": []
   },
   "outputs": [],
   "source": [
    "print(b, type(b), id(b))"
   ]
  },
  {
   "cell_type": "markdown",
   "metadata": {
    "deletable": false,
    "editable": false,
    "nbgrader": {
     "cell_type": "markdown",
     "checksum": "79445b5295327694c1f5cf180127204c",
     "grade": false,
     "grade_id": "cell-d6d9bff3c57b5e64",
     "locked": true,
     "schema_version": 3,
     "solution": false,
     "task": false
    },
    "tags": []
   },
   "source": [
    "# Tipado dinámico\n",
    "\n",
    "Podemos crear objetos de muchos tipos y el tipo del objeto se determina en el momento de su creación. Por ejemplo:"
   ]
  },
  {
   "cell_type": "code",
   "execution_count": null,
   "metadata": {
    "tags": []
   },
   "outputs": [],
   "source": [
    "obj = 100\n",
    "print(obj, type(obj), id(obj))"
   ]
  },
  {
   "cell_type": "code",
   "execution_count": null,
   "metadata": {
    "tags": []
   },
   "outputs": [],
   "source": [
    "obj = 3.141592\n",
    "print(obj, type(obj), id(obj))"
   ]
  },
  {
   "cell_type": "code",
   "execution_count": null,
   "metadata": {
    "tags": []
   },
   "outputs": [],
   "source": [
    "obj = 'Hola Mundo Pythonico!'\n",
    "print(obj, type(obj), id(obj))"
   ]
  },
  {
   "cell_type": "markdown",
   "metadata": {
    "deletable": false,
    "editable": false,
    "nbgrader": {
     "cell_type": "markdown",
     "checksum": "4a7b7502299b7a92125c5cfb6f021fcc",
     "grade": false,
     "grade_id": "cell-211edce973889c9e",
     "locked": true,
     "schema_version": 3,
     "solution": false,
     "task": false
    },
    "tags": []
   },
   "source": [
    "En los tres ejemplos anteriores observamos que `obj` hace referencia a objetos de tipos diferentes en instantes diferentes, y el tipo del objeto se conoce cuando éste último es creado. Entonces, el tipo de un objeto se determina en el momento de su creación. A esto se le conoce como *tipado dinámico*."
   ]
  },
  {
   "cell_type": "markdown",
   "metadata": {
    "deletable": false,
    "editable": false,
    "nbgrader": {
     "cell_type": "markdown",
     "checksum": "24a4bacb9ffea8cc6df19100c01d588b",
     "grade": false,
     "grade_id": "cell-e751364a1a46acbf",
     "locked": true,
     "schema_version": 3,
     "solution": false,
     "task": false
    },
    "tags": []
   },
   "source": [
    "# Funciones de la biblioteca estándar"
   ]
  },
  {
   "cell_type": "markdown",
   "metadata": {
    "deletable": false,
    "editable": false,
    "nbgrader": {
     "cell_type": "markdown",
     "checksum": "3cb86868e9f80082494f8bcf2c1e9229",
     "grade": false,
     "grade_id": "cell-b55512ec96b83af1",
     "locked": true,
     "schema_version": 3,
     "solution": false,
     "task": false
    },
    "tags": []
   },
   "source": [
    "Las funciones que hemos estado usando hasta ahora `type()`, `id()`, `print()` son funciones de la biblioteca estándar que se pueden usar directamente en cualquier programa en Python. Puedes encontrar una lista de estas funciones en <a href=\"https://docs.python.org/3.10/library/functions.html\">Built-in Functions</a> (se pueden ver las funciones de diferentes versiones de Python).\n",
    "\n",
    "Una función que proporciona ayuda es `help()`, por ejemplo:"
   ]
  },
  {
   "cell_type": "code",
   "execution_count": null,
   "metadata": {
    "tags": []
   },
   "outputs": [],
   "source": [
    "help(print)"
   ]
  },
  {
   "cell_type": "markdown",
   "metadata": {
    "deletable": false,
    "editable": false,
    "nbgrader": {
     "cell_type": "markdown",
     "checksum": "3ec1dfde91496168b5ad28d6752cecdd",
     "grade": false,
     "grade_id": "cell-a139773f536dce82",
     "locked": true,
     "schema_version": 3,
     "solution": false,
     "task": false
    },
    "tags": []
   },
   "source": [
    "También se puede obtener ayuda si ponemos el cursor en el nombre de la función y tecleamos [Shift+Tab]. Por ejemplo ponga el cursor en alguna letra del nombre `print` en la celda siguiente y tecle [Shift+Tab]:"
   ]
  },
  {
   "cell_type": "code",
   "execution_count": null,
   "metadata": {
    "tags": []
   },
   "outputs": [],
   "source": [
    "print()"
   ]
  },
  {
   "cell_type": "markdown",
   "metadata": {
    "deletable": false,
    "editable": false,
    "nbgrader": {
     "cell_type": "markdown",
     "checksum": "0704ff98f9f2948610fe347c1aced792",
     "grade": false,
     "grade_id": "cell-68311661428cadaa",
     "locked": true,
     "schema_version": 3,
     "solution": false,
     "task": false
    },
    "tags": []
   },
   "source": [
    "Las funciones de la biblioteca estándar reciben como parámetros objetos de distintos tipos. Algunas de estas funciones no funcionan con ciertos tipos de objetos. Por ejemplo, la función `len()` determina el número de elementos de un arreglo, veamos:"
   ]
  },
  {
   "cell_type": "code",
   "execution_count": null,
   "metadata": {
    "tags": []
   },
   "outputs": [],
   "source": [
    "print(obj, type(obj), len(obj))"
   ]
  },
  {
   "cell_type": "markdown",
   "metadata": {
    "deletable": false,
    "editable": false,
    "nbgrader": {
     "cell_type": "markdown",
     "checksum": "1b6a05c02f0e6925f634f7bbba455c1c",
     "grade": false,
     "grade_id": "cell-80e84e688732ab98",
     "locked": true,
     "schema_version": 3,
     "solution": false,
     "task": false
    },
    "tags": []
   },
   "source": [
    "`obj` es de tipo `str` y por lo tanto es un arreglo de caracteres; cuando aplicamos la función `len(obj)` obtenemos el número de caractéres que contiene la cadena, en este caso $21$.\n",
    "\n",
    "La función `len()` no se puede aplicar a cualquier objeto. Observa lo que sucede en el siguiente ejemplo:"
   ]
  },
  {
   "cell_type": "code",
   "execution_count": null,
   "metadata": {
    "tags": []
   },
   "outputs": [],
   "source": [
    "p = 3.1416\n",
    "print(p, type(p), len(p))"
   ]
  },
  {
   "cell_type": "markdown",
   "metadata": {
    "deletable": false,
    "editable": false,
    "nbgrader": {
     "cell_type": "markdown",
     "checksum": "057da0df7e13048c57acfa38708e6936",
     "grade": false,
     "grade_id": "cell-014026ef9f1a4866",
     "locked": true,
     "schema_version": 3,
     "solution": false,
     "task": false
    },
    "tags": []
   },
   "source": [
    "Cualquier función en Python, también es un objeto. Si ejecutas las celdas que siguen, obtendrás su tipo de objeto."
   ]
  },
  {
   "cell_type": "code",
   "execution_count": null,
   "metadata": {
    "tags": []
   },
   "outputs": [],
   "source": [
    "print"
   ]
  },
  {
   "cell_type": "code",
   "execution_count": null,
   "metadata": {
    "tags": []
   },
   "outputs": [],
   "source": [
    "print, len, type, id"
   ]
  },
  {
   "cell_type": "code",
   "execution_count": null,
   "metadata": {
    "tags": []
   },
   "outputs": [],
   "source": [
    "print(print, type)"
   ]
  },
  {
   "cell_type": "markdown",
   "metadata": {
    "deletable": false,
    "editable": false,
    "nbgrader": {
     "cell_type": "markdown",
     "checksum": "cb6874d9872fcfaf5ad62b3eab84c1e6",
     "grade": false,
     "grade_id": "cell-052210c7e5906a5e",
     "locked": true,
     "schema_version": 3,
     "solution": false,
     "task": false
    },
    "tags": []
   },
   "source": [
    "# Estado interno y comportamiento de los objetos\n",
    "\n",
    "Hemos observado que todo lo que se declara en Python es un objeto. ¿Qué características tiene un objeto?\n",
    "\n",
    "Los objetos tienen dos características importantes:\n",
    "1. estado interno y\n",
    "2. comportamiento.\n",
    "\n",
    "Veamos el siguiente ejemplo:"
   ]
  },
  {
   "cell_type": "code",
   "execution_count": null,
   "metadata": {
    "tags": []
   },
   "outputs": [],
   "source": [
    "saludo = 'Hola mundo pythonico'"
   ]
  },
  {
   "cell_type": "code",
   "execution_count": null,
   "metadata": {
    "tags": []
   },
   "outputs": [],
   "source": [
    "print(type(saludo))"
   ]
  },
  {
   "cell_type": "markdown",
   "metadata": {
    "deletable": false,
    "editable": false,
    "nbgrader": {
     "cell_type": "markdown",
     "checksum": "62af704ca6d8337d69fecae72aa7bb2a",
     "grade": false,
     "grade_id": "cell-c7d9d0e8e8405fac",
     "locked": true,
     "schema_version": 3,
     "solution": false,
     "task": false
    },
    "tags": []
   },
   "source": [
    "A partir de ahora haremos referencia al objeto usando su etiqueta y en este caso diremos que el objeto `saludo` tiene comportamiento y estado interno, características que podemos conocer como sigue:\n",
    "\n",
    "- En la siguiente celda tenemos `saludo.`\n",
    "- Coloca el cursor justo después del punto y teclea [Tab]; obtendras una lista de funciones y atributos que se pueden usar sobre los objetos de tipo `str`.\n",
    "\n",
    "<div class=\"alert alert-danger\">\n",
    "<b>Cuidado.</b>\n",
    "No ejecutes la celda, porque obtendrás un error. Probablemente la lista de funciones y atributos tarde un poco en desplegarse, ten paciencia.\n",
    "</div>\n"
   ]
  },
  {
   "cell_type": "code",
   "execution_count": null,
   "metadata": {
    "tags": []
   },
   "outputs": [],
   "source": [
    "saludo."
   ]
  },
  {
   "cell_type": "markdown",
   "metadata": {
    "deletable": false,
    "editable": false,
    "nbgrader": {
     "cell_type": "markdown",
     "checksum": "8a80ff103534b98c9c8a84c20fbdb84b",
     "grade": false,
     "grade_id": "cell-50527eb8561dee5e",
     "locked": true,
     "schema_version": 3,
     "solution": false,
     "task": false
    },
    "tags": []
   },
   "source": [
    "Usemos por ejemplo la función `split()`:"
   ]
  },
  {
   "cell_type": "code",
   "execution_count": null,
   "metadata": {
    "tags": []
   },
   "outputs": [],
   "source": [
    "saludo.split()"
   ]
  },
  {
   "cell_type": "markdown",
   "metadata": {
    "deletable": false,
    "editable": false,
    "nbgrader": {
     "cell_type": "markdown",
     "checksum": "cfb13da17b081d9a3cbee5f1b5622c58",
     "grade": false,
     "grade_id": "cell-3002d416941220e0",
     "locked": true,
     "schema_version": 3,
     "solution": false,
     "task": false
    },
    "tags": []
   },
   "source": [
    "En el ejemplo anterior `split()` es una de las funciones que proporcionan comportamiento al objeto. Si quieres saber cómo funciona `split()` coloca el cursor en una letra de esta función y teclea [Shitf + Tab].\n",
    "\n",
    "Intenta ahora con la siguiente instrucción:\n",
    "\n",
    "```python\n",
    "saludo.center(30,'*')\n",
    "```\n",
    "\n",
    "Explica el resultado."
   ]
  },
  {
   "cell_type": "code",
   "execution_count": null,
   "metadata": {
    "tags": []
   },
   "outputs": [],
   "source": [
    "saludo.center(30,'*')"
   ]
  },
  {
   "cell_type": "markdown",
   "metadata": {
    "deletable": false,
    "editable": false,
    "nbgrader": {
     "cell_type": "markdown",
     "checksum": "e5f76f45b425fbd3acc1e4a5bec6b22f",
     "grade": false,
     "grade_id": "cell-a8c70eb0ec5f4c9b",
     "locked": true,
     "schema_version": 3,
     "solution": false,
     "task": false
    },
    "tags": []
   },
   "source": [
    "El estado interno de un objeto, es básicamente el valor que contienen sus atributos. En algunos casos podemos conocer ese estado interno usando la función `print()`, por ejemplo:"
   ]
  },
  {
   "cell_type": "code",
   "execution_count": null,
   "metadata": {
    "tags": []
   },
   "outputs": [],
   "source": [
    "print(saludo) # imprime toda la cadena."
   ]
  },
  {
   "cell_type": "code",
   "execution_count": null,
   "metadata": {
    "tags": []
   },
   "outputs": [],
   "source": [
    "print(saludo[6]) # imprime solo la casilla 6 de la cadena"
   ]
  },
  {
   "cell_type": "markdown",
   "metadata": {
    "deletable": false,
    "editable": false,
    "nbgrader": {
     "cell_type": "markdown",
     "checksum": "b9627746e6e9f55d69ffe85374f2d4f6",
     "grade": false,
     "grade_id": "cell-51c64edab0033bc1",
     "locked": true,
     "schema_version": 3,
     "solution": false,
     "task": false
    },
    "tags": []
   },
   "source": [
    "Veamos ahora lo que se puede hacer con otro tipo de objetos:"
   ]
  },
  {
   "cell_type": "code",
   "execution_count": null,
   "metadata": {
    "tags": []
   },
   "outputs": [],
   "source": [
    "p = 5 # un objeto de tipo int"
   ]
  },
  {
   "cell_type": "code",
   "execution_count": null,
   "metadata": {
    "tags": []
   },
   "outputs": [],
   "source": [
    "p.numerator"
   ]
  },
  {
   "cell_type": "code",
   "execution_count": null,
   "metadata": {
    "tags": []
   },
   "outputs": [],
   "source": [
    "p.denominator"
   ]
  },
  {
   "cell_type": "code",
   "execution_count": null,
   "metadata": {
    "tags": []
   },
   "outputs": [],
   "source": [
    "p = 3.1416 # un objeto de tipo float"
   ]
  },
  {
   "cell_type": "code",
   "execution_count": null,
   "metadata": {
    "tags": []
   },
   "outputs": [],
   "source": [
    "p.imag"
   ]
  },
  {
   "cell_type": "code",
   "execution_count": null,
   "metadata": {
    "tags": []
   },
   "outputs": [],
   "source": [
    "p.conjugate()"
   ]
  },
  {
   "cell_type": "code",
   "execution_count": null,
   "metadata": {
    "tags": []
   },
   "outputs": [],
   "source": [
    "p = 1.0 + 5.0j # un objeto de tipo complex"
   ]
  },
  {
   "cell_type": "code",
   "execution_count": null,
   "metadata": {
    "tags": []
   },
   "outputs": [],
   "source": [
    "print(type(p))"
   ]
  },
  {
   "cell_type": "code",
   "execution_count": null,
   "metadata": {
    "tags": []
   },
   "outputs": [],
   "source": [
    "p.imag"
   ]
  },
  {
   "cell_type": "markdown",
   "metadata": {
    "deletable": false,
    "editable": false,
    "nbgrader": {
     "cell_type": "markdown",
     "checksum": "4728a79e3b80cfc65f5a2a1eefae3d74",
     "grade": false,
     "grade_id": "cell-5a269b66d0ac1460",
     "locked": true,
     "schema_version": 3,
     "solution": false,
     "task": false
    },
    "tags": []
   },
   "source": [
    "# Ejercicios"
   ]
  },
  {
   "cell_type": "markdown",
   "metadata": {
    "deletable": false,
    "editable": false,
    "nbgrader": {
     "cell_type": "markdown",
     "checksum": "1cc2d7e33b0c5c86189b3b88e4d5a8b6",
     "grade": false,
     "grade_id": "cell-b70eed4d439c6e79",
     "locked": true,
     "schema_version": 3,
     "solution": false,
     "task": false
    },
    "tags": []
   },
   "source": [
    "<div class=\"alert alert-info\" role=\"alert\">\n",
    "\n",
    "<p style=\"font-size:18px;\">\n",
    "<b>Instrucciones para realizar los <font color=\"DodgerBlue\">Ejercicios</font>.</b></p>\n",
    "\n",
    "<ul>\n",
    "<li> Durante el desarrollo de las notebooks encontrarás ejercicios que debes realizar para evaluar tus conocimientos. </li>\n",
    "  \n",
    "<li> En las celdas posteriores a la descripción de cada ejercicio encontrarás celdas con el texto:\n",
    "\n",
    "```python\n",
    "# YOUR CODE HERE\n",
    "raise NotImplementedError()\n",
    "```\n",
    "</li>\n",
    "    \n",
    "<li> Cuando ya estés listo para completar el ejercicio, debes eliminar el texto <font color=\"Green\"><b>raise</b></font> <font color=\"black\">NotImplementedError()</font> y enseguida escribir tu respuesta.\n",
    "</li>\n",
    "    \n",
    "<li> Una vez que completes tu respuesta, deberás ejecutar la celda donde hiciste la implementación.</li>\n",
    "    \n",
    "<li> Posteriormente encontrarás celdas con un texto similar al siguiente:\n",
    "    \n",
    "```python\n",
    "quizz.eval_numeric('1a',w)\n",
    "```\n",
    "</li>\n",
    "\n",
    "<li> Cuando ejecutes este tipo de celdas, obtendrás retroalimentación sobre el ejercicio que acabas de completar. </li>\n",
    "\n",
    "<li> En caso de que tu respuesta no sea correcta, obtendrás una ayuda para completar el ejercicio. En dicho caso, deberás regresar al lugar donde escribiste tu respuesta, corregir y volver a ejecutar las celdas correspondientes para revisar el nuevo resultado.\n",
    "</li>\n",
    "    \n",
    "<li> Siempre ejecuta todas las celdas que preceden al ejercicio, pues generalmente son requeridas para que funcione correctamente.</li>\n",
    "    \n",
    "</ul>\n",
    "\n",
    "</div>"
   ]
  },
  {
   "cell_type": "markdown",
   "metadata": {
    "deletable": false,
    "editable": false,
    "nbgrader": {
     "cell_type": "markdown",
     "checksum": "2d4591277e998e5c7d6cf3ea25484110",
     "grade": false,
     "grade_id": "cell-7969652f842d0003",
     "locked": true,
     "schema_version": 3,
     "solution": false,
     "task": false
    },
    "tags": []
   },
   "source": [
    "---\n",
    "## **<font color=\"DodgerBlue\">Ejercicio 1. </font>**\n",
    "\n",
    "* <font color=\"DarkBlue\">Define los siguientes objetos: `5`, `3.1416`, `1.0+1.0j`, `\"Macroentrenamiento en IA\"`, usando los nombres: `w`, `x`, `y`,`z`,  respectivamente. </font>\n",
    "* <font color=\"DarkBlue\">Usando la etiqueta `y` escribe la siguiente operación:`r = y + y.conjugate()`. </font>\n",
    "* <font color=\"DarkBlue\">Finalmente calcula la longitud de `z` usando la función `len()` y el resultado indentifícalo con la etiqueta `n` (es decir `n = len(z)`). </font>\n",
    "\n",
    "<font color=\"DarkBlue\">Realiza todo en una sola celda.</font>\n",
    "\n",
    "---"
   ]
  },
  {
   "cell_type": "code",
   "execution_count": null,
   "metadata": {
    "deletable": false,
    "editable": false,
    "nbgrader": {
     "cell_type": "code",
     "checksum": "590210810db94556a66d6fef5b35fd5c",
     "grade": false,
     "grade_id": "cell-66be15a3a3383d6e",
     "locked": true,
     "schema_version": 3,
     "solution": false,
     "task": false
    },
    "tags": []
   },
   "outputs": [],
   "source": [
    "from macti.evaluation import Quizz\n",
    "quizz = Quizz('1','intro_MeIA_2023', '01_Python')"
   ]
  },
  {
   "cell_type": "code",
   "execution_count": null,
   "metadata": {
    "deletable": false,
    "nbgrader": {
     "cell_type": "code",
     "checksum": "ded4f769923ebfd83cf1b5ae3cc2eadd",
     "grade": false,
     "grade_id": "cell-2e8a42680ddde5d9",
     "locked": false,
     "schema_version": 3,
     "solution": true,
     "task": false
    },
    "tags": []
   },
   "outputs": [],
   "source": [
    "# YOUR CODE HERE\n",
    "raise NotImplementedError()"
   ]
  },
  {
   "cell_type": "code",
   "execution_count": null,
   "metadata": {
    "deletable": false,
    "editable": false,
    "nbgrader": {
     "cell_type": "code",
     "checksum": "5b0ba3b9ad72471fe24061ad4e7db106",
     "grade": true,
     "grade_id": "cell-c2fb4a68a63c87a6",
     "locked": true,
     "points": 1,
     "schema_version": 3,
     "solution": false,
     "task": false
    },
    "tags": []
   },
   "outputs": [],
   "source": [
    "quizz.eval_numeric('1a',w)"
   ]
  },
  {
   "cell_type": "code",
   "execution_count": null,
   "metadata": {
    "deletable": false,
    "editable": false,
    "nbgrader": {
     "cell_type": "code",
     "checksum": "56b482478131f3fdae1a04a812b9a292",
     "grade": true,
     "grade_id": "cell-76f35eb069f9ef1e",
     "locked": true,
     "points": 1,
     "schema_version": 3,
     "solution": false,
     "task": false
    },
    "tags": []
   },
   "outputs": [],
   "source": [
    "quizz.eval_numeric('1b',x)"
   ]
  },
  {
   "cell_type": "code",
   "execution_count": null,
   "metadata": {
    "deletable": false,
    "editable": false,
    "nbgrader": {
     "cell_type": "code",
     "checksum": "2880d5a28b12d3dad9f3e27a4005b2ed",
     "grade": true,
     "grade_id": "cell-e79211b3563eb748",
     "locked": true,
     "points": 1,
     "schema_version": 3,
     "solution": false,
     "task": false
    },
    "tags": []
   },
   "outputs": [],
   "source": [
    "quizz.eval_numeric('1c',r.real)"
   ]
  },
  {
   "cell_type": "code",
   "execution_count": null,
   "metadata": {
    "deletable": false,
    "editable": false,
    "nbgrader": {
     "cell_type": "code",
     "checksum": "24c8ccf6c47faff306f1ea95ae368e5f",
     "grade": true,
     "grade_id": "cell-fe08fb7cb9767da7",
     "locked": true,
     "points": 1,
     "schema_version": 3,
     "solution": false,
     "task": false
    },
    "tags": []
   },
   "outputs": [],
   "source": [
    "quizz.eval_numeric('1d',n)"
   ]
  },
  {
   "cell_type": "markdown",
   "metadata": {
    "deletable": false,
    "editable": false,
    "nbgrader": {
     "cell_type": "markdown",
     "checksum": "d8bb41734c84383c35b4422adc219eb9",
     "grade": false,
     "grade_id": "cell-1d04ab57b5f3ae57",
     "locked": true,
     "schema_version": 3,
     "solution": false,
     "task": false
    },
    "tags": []
   },
   "source": [
    "---\n",
    "## **<font color=\"DodgerBlue\">Ejercicio 2. </font>**\n",
    "\n",
    "<font color=\"DarkBlue\">¿Cuál de las variables (o etiquetas) `w`, `x`, `y`, `z` corresponde a un objeto de tipo `<class 'complex'>`.</font>\n",
    "\n",
    "Escribe el nombre de la variable en: `respuesta = `\n",
    "\n",
    "<div class=\"alert alert-danger\">\n",
    "<b>Cuidado.</b>\n",
    "El nombre de la variable debe ir entre comillas por ejemplo: <font color=\"black\">respuesta = 'a'</font> .\n",
    "</div>\n",
    "\n",
    "---"
   ]
  },
  {
   "cell_type": "code",
   "execution_count": null,
   "metadata": {
    "deletable": false,
    "nbgrader": {
     "cell_type": "code",
     "checksum": "bea4f99df061a3b4e246e29b542a353b",
     "grade": false,
     "grade_id": "cell-4328ee4b6ed22541",
     "locked": false,
     "schema_version": 3,
     "solution": true,
     "task": false
    },
    "tags": []
   },
   "outputs": [],
   "source": [
    "# YOUR CODE HERE\n",
    "raise NotImplementedError()"
   ]
  },
  {
   "cell_type": "code",
   "execution_count": null,
   "metadata": {
    "deletable": false,
    "editable": false,
    "nbgrader": {
     "cell_type": "code",
     "checksum": "96376cf5f233e506a0b3fdde28e66342",
     "grade": true,
     "grade_id": "cell-95f17fe4ea944d67",
     "locked": true,
     "points": 1,
     "schema_version": 3,
     "solution": false,
     "task": false
    },
    "tags": []
   },
   "outputs": [],
   "source": [
    "quizz.eval_option('2', respuesta)"
   ]
  },
  {
   "cell_type": "markdown",
   "metadata": {
    "deletable": false,
    "editable": false,
    "nbgrader": {
     "cell_type": "markdown",
     "checksum": "7130b33cffd54fc4ab6788fa14949eff",
     "grade": false,
     "grade_id": "cell-dcbcbee6e7eb870e",
     "locked": true,
     "schema_version": 3,
     "solution": false,
     "task": false
    },
    "tags": []
   },
   "source": [
    "---\n",
    "## **<font color=\"DodgerBlue\">Ejercicio 3. </font>**\n",
    "\n",
    "<font color=\"DarkBlue\"> Busque en <a href=\"https://docs.python.org/3.10/library/functions.html\">Built-in Functions</a> una función que permita realizar el siguiente cálculo: $a^b$. Luego use dicha función con los siguientes valores `a = 2` y `b = 0.5` y almacene el valor en `c = ...`.</font>\n",
    "\n",
    "---"
   ]
  },
  {
   "cell_type": "code",
   "execution_count": null,
   "metadata": {
    "deletable": false,
    "nbgrader": {
     "cell_type": "code",
     "checksum": "26e9b958d6d46ce81c2ae9a72e4f666b",
     "grade": false,
     "grade_id": "cell-d57737dc1f7fbace",
     "locked": false,
     "schema_version": 3,
     "solution": true,
     "task": false
    },
    "tags": []
   },
   "outputs": [],
   "source": [
    "# YOUR CODE HERE\n",
    "raise NotImplementedError()"
   ]
  },
  {
   "cell_type": "code",
   "execution_count": null,
   "metadata": {
    "deletable": false,
    "editable": false,
    "nbgrader": {
     "cell_type": "code",
     "checksum": "48ab9fbe75df38fa8f3449c55163da68",
     "grade": true,
     "grade_id": "cell-858ee742f434328e",
     "locked": true,
     "points": 1,
     "schema_version": 3,
     "solution": false,
     "task": false
    },
    "tags": []
   },
   "outputs": [],
   "source": [
    "quizz.eval_numeric('3', c)"
   ]
  },
  {
   "cell_type": "code",
   "execution_count": null,
   "metadata": {},
   "outputs": [],
   "source": []
  }
 ],
 "metadata": {
  "kernelspec": {
   "display_name": "Python 3 (ipykernel)",
   "language": "python",
   "name": "python3"
  },
  "language_info": {
   "codemirror_mode": {
    "name": "ipython",
    "version": 3
   },
   "file_extension": ".py",
   "mimetype": "text/x-python",
   "name": "python",
   "nbconvert_exporter": "python",
   "pygments_lexer": "ipython3",
   "version": "3.10.10"
  }
 },
 "nbformat": 4,
 "nbformat_minor": 4
}
