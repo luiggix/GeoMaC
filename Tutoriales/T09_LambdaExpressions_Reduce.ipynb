{
 "cells": [
  {
   "cell_type": "markdown",
   "metadata": {},
   "source": [
    "# Introducción a Python para IA.\n",
    "\n",
    " <p xmlns:cc=\"http://creativecommons.org/ns#\" xmlns:dct=\"http://purl.org/dc/terms/\"><a property=\"dct:title\" rel=\"cc:attributionURL\" href=\"https://github.com/luiggix/intro_MeIA_2023\">Introducción a Python para IA</a> by <span property=\"cc:attributionName\">Luis Miguel de la Cruz Salas</span> is licensed under <a href=\"http://creativecommons.org/licenses/by-nc-sa/4.0/?ref=chooser-v1\" target=\"_blank\" rel=\"license noopener noreferrer\" style=\"display:inline-block;\">CC BY-NC-SA 4.0<img style=\"height:22px!important;margin-left:3px;vertical-align:text-bottom;\" src=\"https://mirrors.creativecommons.org/presskit/icons/cc.svg?ref=chooser-v1\"><img style=\"height:22px!important;margin-left:3px;vertical-align:text-bottom;\" src=\"https://mirrors.creativecommons.org/presskit/icons/by.svg?ref=chooser-v1\"><img style=\"height:22px!important;margin-left:3px;vertical-align:text-bottom;\" src=\"https://mirrors.creativecommons.org/presskit/icons/nc.svg?ref=chooser-v1\"><img style=\"height:22px!important;margin-left:3px;vertical-align:text-bottom;\" src=\"https://mirrors.creativecommons.org/presskit/icons/sa.svg?ref=chooser-v1\"></a></p> \n",
    "\n",
    "# Objetivo.\n",
    "Revisar el significado de una función *lambda* y su implementación en Python."
   ]
  },
  {
   "cell_type": "markdown",
   "metadata": {},
   "source": [
    "# Lambda expressions\n",
    "\n",
    "**Programación funcional**\n",
    "\n",
    "- Paradigma de programación basado en el uso de funciones, entendiendo el concepto de función según su definición matemática, y no como los subprogramas de los lenguajes imperativos.<br>\n",
    "\n",
    "- Tiene sus raíces en el cálculo lambda (un sistema formal desarrollado en los años 1930 para investigar la definición de función, la aplicación de las funciones y la recursión). \n",
    "\n",
    "- Muchos lenguajes de programación funcionales pueden ser vistos como elaboraciones del cálculo lambda.\n",
    "\n",
    "- Las funciones que se usan en este paradigma son *funciones puras*, es decir, que no tienen efectos secundarios, que no manejan datos mutables o de estado. \n",
    "\n",
    "- Lo anterior está en contraposición con la programación imperativa. \n",
    "\n",
    "- Uno de sus principales representantes es el lenguaje Haskell, que compite en belleza, elegancia y expresividad con Python.\n",
    "\n",
    "- Los programas escritos en un estilo funcional son más fáciles de probar y depurar.\n",
    "\n",
    "- Por su característica modular facilita el cómputo concurrente y paralelo.\n",
    "\n",
    "- El estilo funcional se lleva muy bien con los datos, permitiendo crear algoritmos y programas más expresivos para trabajar en *Big Data*.\n",
    "\n",
    "\n",
    "**Descripción**.\n",
    "\n",
    "- Una expresión Lambda (*Lambda expressions*) nos permite crear una función \"anónima\", es decir podemos crear funciones *ad-hoc*, **sin** la necesidad de definir una función propiamente con el comando <font color=#009900>**def**</font>.\n",
    "\n",
    "- Una expresión Lambda o función anónima, es una expresión simple, no un bloque de declaraciones.\n",
    "\n",
    "- Solo hay que escribir el resultado de una expresión en vez de regresar un valor explícitamente.\n",
    "\n",
    "- Dado que se limita a una expresión, una función anónima es menos general que una función normal <font color=#009900>**def**</font>."
   ]
  },
  {
   "cell_type": "markdown",
   "metadata": {},
   "source": [
    "**Definición**.\n",
    "La sintaxis de una expresión lambda (función lambda o función anónima) es muy simple:\n",
    "\n",
    "```python\n",
    "lambda argument_list: expression\n",
    "``` \n",
    "1. La lista de argumentos consiste de objetos separados por coma. <br>\n",
    "2. La expresión es una declaración válida de Python.<br>\n",
    "\n",
    "Se puede asignar la función a una etiqueta para darle un nombre."
   ]
  },
  {
   "cell_type": "markdown",
   "metadata": {},
   "source": [
    "### Ejemplo 1.\n",
    "\n",
    "Construir una función anónima para el cálculo del cuadrado de un número:"
   ]
  },
  {
   "cell_type": "code",
   "execution_count": null,
   "metadata": {},
   "outputs": [],
   "source": [
    "# Una función normal que calcula el cuadrado\n",
    "def square(n):\n",
    "    result = n**2\n",
    "    return result"
   ]
  },
  {
   "cell_type": "code",
   "execution_count": null,
   "metadata": {},
   "outputs": [],
   "source": [
    "square(5)"
   ]
  },
  {
   "cell_type": "markdown",
   "metadata": {},
   "source": [
    "Se puede reducir el código anterior como sigue:"
   ]
  },
  {
   "cell_type": "code",
   "execution_count": null,
   "metadata": {
    "tags": []
   },
   "outputs": [],
   "source": [
    "def square(n):\n",
    "    return n**2"
   ]
  },
  {
   "cell_type": "code",
   "execution_count": null,
   "metadata": {},
   "outputs": [],
   "source": [
    "square(5)"
   ]
  },
  {
   "cell_type": "markdown",
   "metadata": {},
   "source": [
    "Se puede reducir aún más, pero puede llevarnos a un mal estilo de programación: "
   ]
  },
  {
   "cell_type": "code",
   "execution_count": null,
   "metadata": {
    "tags": []
   },
   "outputs": [],
   "source": [
    "def square(n): return n**2"
   ]
  },
  {
   "cell_type": "code",
   "execution_count": null,
   "metadata": {
    "tags": []
   },
   "outputs": [],
   "source": [
    "square(5)"
   ]
  },
  {
   "cell_type": "markdown",
   "metadata": {},
   "source": [
    "Es mejor usar una función `lambda`:"
   ]
  },
  {
   "cell_type": "code",
   "execution_count": null,
   "metadata": {
    "tags": []
   },
   "outputs": [],
   "source": [
    "cuadrado = lambda num: num**2"
   ]
  },
  {
   "cell_type": "code",
   "execution_count": null,
   "metadata": {
    "tags": []
   },
   "outputs": [],
   "source": [
    "print(cuadrado(7))"
   ]
  },
  {
   "cell_type": "markdown",
   "metadata": {},
   "source": [
    "### Ejemplo 2.\n",
    "Escribir una función lambda para calcular el cubo de un número usando la función `lambda` que calcula el cuadrado del ejemplo anterior."
   ]
  },
  {
   "cell_type": "code",
   "execution_count": null,
   "metadata": {
    "tags": []
   },
   "outputs": [],
   "source": [
    "cubo = lambda n: cuadrado(n) * n"
   ]
  },
  {
   "cell_type": "code",
   "execution_count": null,
   "metadata": {
    "tags": []
   },
   "outputs": [],
   "source": [
    "cubo(5)"
   ]
  },
  {
   "cell_type": "markdown",
   "metadata": {},
   "source": [
    "En la implementación anterior, estamos anidando funciones `lambda` de manera implícita. Lo anterior se puede escribir como:"
   ]
  },
  {
   "cell_type": "code",
   "execution_count": null,
   "metadata": {
    "tags": []
   },
   "outputs": [],
   "source": [
    "cubo = lambda n: (lambda n: n**2)(n) * n"
   ]
  },
  {
   "cell_type": "code",
   "execution_count": null,
   "metadata": {
    "tags": []
   },
   "outputs": [],
   "source": [
    "cubo(5)"
   ]
  },
  {
   "cell_type": "markdown",
   "metadata": {},
   "source": [
    "### Ejemplo 3.\n",
    "\n",
    "Convertir grados Fahrenheit a Celsius y viceversa combinando <font color=#009900>**map( )**</font> con <font color=#009900>**lambda**</font>."
   ]
  },
  {
   "cell_type": "code",
   "execution_count": null,
   "metadata": {
    "tags": []
   },
   "outputs": [],
   "source": [
    "c = [0, 22.5, 40,100]\n",
    "f = list(map(lambda T: (9/5) * T + 32, c))\n",
    "print(f)\n",
    "print(list(map(lambda T: (5/9)*(T - 32), f)))"
   ]
  },
  {
   "cell_type": "markdown",
   "metadata": {},
   "source": [
    "### Ejemplo 4.\n",
    "\n",
    "Sumar tres arreglos combinando <font color=#009900>**map( )**</font> con <font color=#009900>**lambda**</font>."
   ]
  },
  {
   "cell_type": "code",
   "execution_count": null,
   "metadata": {},
   "outputs": [],
   "source": [
    "a = [1,2,3,4]\n",
    "b = [5,6,7,8]\n",
    "c = [9,10,11,12]\n",
    "list(map(lambda x,y,z : x+y+z, a,b,c))"
   ]
  },
  {
   "cell_type": "markdown",
   "metadata": {},
   "source": [
    "### Ejemplo 5.\n",
    "\n",
    "Encontrar todos los números pares de una lista combinando <font color=#009900>**filter( )**</font> con <font color=#009900>**lambda**</font>."
   ]
  },
  {
   "cell_type": "code",
   "execution_count": null,
   "metadata": {},
   "outputs": [],
   "source": [
    "nums = [0, 2, 5, 8, 10, 23, 31, 35, 36, 47, 50, 77, 93]\n",
    "result = filter(lambda x : x % 2 == 0, nums)\n",
    "print(list(result))"
   ]
  },
  {
   "cell_type": "markdown",
   "metadata": {},
   "source": [
    "### Ejemplo 6.\n",
    "Encontrar todos los números primos en el conjunto $\\{2, \\dots, 50\\}$ combinando <font color=#009900>**filter( )**</font> con <font color=#009900>**lambda**</font>."
   ]
  },
  {
   "cell_type": "code",
   "execution_count": null,
   "metadata": {
    "tags": []
   },
   "outputs": [],
   "source": [
    "nums = list(range(2, 50)) \n",
    "for i in range(2, 8):\n",
    "    nums = list(filter(lambda x: x == i or x % i, nums))\n",
    "\n",
    "print(nums)"
   ]
  },
  {
   "cell_type": "markdown",
   "metadata": {},
   "source": [
    "# Funciones puras e impuras\n",
    "\n",
    "- La programación funcional busca usar funciones *puras*, es decir, que no tienen efectos secundarios, no manejan datos mutables o de estado. <br>\n",
    "\n",
    "- Estas funciones puras devuelven un valor que depende solo de sus argumentos.<br>\n",
    "\n",
    "Una buena práctica del estilo funcional es evitar los efectos secundarios, es decir, que nuestras funciones NO modifiquen los valores de sus argumentos."
   ]
  },
  {
   "cell_type": "markdown",
   "metadata": {},
   "source": [
    "### Ejemplo 7.\n",
    "\n",
    "Una función pura."
   ]
  },
  {
   "cell_type": "code",
   "execution_count": null,
   "metadata": {
    "tags": []
   },
   "outputs": [],
   "source": [
    "def pura(x, y):\n",
    "    return (x + 2 * y) / (2 * x + y)"
   ]
  },
  {
   "cell_type": "code",
   "execution_count": null,
   "metadata": {
    "tags": []
   },
   "outputs": [],
   "source": [
    "pura(1,2)"
   ]
  },
  {
   "cell_type": "code",
   "execution_count": null,
   "metadata": {
    "tags": []
   },
   "outputs": [],
   "source": [
    "lambda_pura = lambda x,y: (x + 2 * y) / (2 * x + y)"
   ]
  },
  {
   "cell_type": "code",
   "execution_count": null,
   "metadata": {
    "tags": []
   },
   "outputs": [],
   "source": [
    "lambda_pura(1,2)"
   ]
  },
  {
   "cell_type": "markdown",
   "metadata": {},
   "source": [
    "### Ejemplo 8.\n",
    "\n",
    "Una función impura."
   ]
  },
  {
   "cell_type": "code",
   "execution_count": null,
   "metadata": {
    "tags": []
   },
   "outputs": [],
   "source": [
    "# Esta es una función impura\n",
    "lista = []\n",
    "def impura(arg):\n",
    "    potencia = 2\n",
    "    lista.append(arg)\n",
    "    return arg ** potencia"
   ]
  },
  {
   "cell_type": "code",
   "execution_count": null,
   "metadata": {
    "tags": []
   },
   "outputs": [],
   "source": [
    "impura(5)"
   ]
  },
  {
   "cell_type": "code",
   "execution_count": null,
   "metadata": {
    "tags": []
   },
   "outputs": [],
   "source": [
    "lista"
   ]
  },
  {
   "cell_type": "markdown",
   "metadata": {},
   "source": [
    "Observe que la lista fue modificada."
   ]
  },
  {
   "cell_type": "markdown",
   "metadata": {},
   "source": [
    "### Ejemplo 9.\n",
    "\n",
    "Función `lambda` impura."
   ]
  },
  {
   "cell_type": "code",
   "execution_count": null,
   "metadata": {
    "tags": []
   },
   "outputs": [],
   "source": [
    "# podemos crear funciones lambda impuras :o\n",
    "lambda_impura = lambda l, arg : (l.append(arg),arg**2)"
   ]
  },
  {
   "cell_type": "code",
   "execution_count": null,
   "metadata": {
    "tags": []
   },
   "outputs": [],
   "source": [
    "print(lambda_impura(lista,5))\n",
    "lista"
   ]
  },
  {
   "cell_type": "markdown",
   "metadata": {},
   "source": [
    "### Ejemplo 10.\n",
    "\n",
    "Función impura que calcula el cuadrado de una lista de números."
   ]
  },
  {
   "cell_type": "code",
   "execution_count": null,
   "metadata": {
    "tags": []
   },
   "outputs": [],
   "source": [
    "# Esta función calcula el cuadrado de una lista de números.\n",
    "def cuadradosImpuros(lista):\n",
    "    for i, v in enumerate(lista):\n",
    "        lista[i] = v ** 2\n",
    "    return lista"
   ]
  },
  {
   "cell_type": "code",
   "execution_count": null,
   "metadata": {
    "tags": []
   },
   "outputs": [],
   "source": [
    "numeros = list(range(11))\n",
    "print(numeros)\n",
    "cuadradosImpuros(numeros)"
   ]
  },
  {
   "cell_type": "code",
   "execution_count": null,
   "metadata": {
    "tags": []
   },
   "outputs": [],
   "source": [
    "#  La lista numeros se modificó dentro de la función.\n",
    "print(numeros)"
   ]
  },
  {
   "cell_type": "markdown",
   "metadata": {},
   "source": [
    "### Ejemplo 11.\n",
    "\n",
    "Función pura que calcula el cuadrado de una lista de números."
   ]
  },
  {
   "cell_type": "code",
   "execution_count": null,
   "metadata": {
    "tags": []
   },
   "outputs": [],
   "source": [
    "def cuadradosPuros(lista):\n",
    "    return list(map(lambda x: x ** 2, numeros))\n",
    "\n",
    "numeros = list(range(11))\n",
    "print(numeros)\n",
    "\n",
    "cuadradosPuros(numeros)"
   ]
  },
  {
   "cell_type": "code",
   "execution_count": null,
   "metadata": {
    "tags": []
   },
   "outputs": [],
   "source": [
    "# La lista de números ya no se modifica dentro de la función\n",
    "print(numeros)"
   ]
  },
  {
   "cell_type": "markdown",
   "metadata": {},
   "source": [
    "# Reduce ()\n",
    "\n",
    "- **Reducción** : Disminuir *algo* en tamaño, cantidad, grado, importancia, .. <br>\n",
    "\n",
    "- La operación de reducción es útil en muchos ámbitos, el objetivo es reducir un conjunto de objetos en un objeto más simple. <br>\n",
    "\n",
    "**Definición**.\n",
    "\n",
    "```python\n",
    "reduce(function, sequence)\n",
    "``` \n",
    "<font color=#009500>**reduce( )**</font> es una función que toma dos argumentos:\n",
    "\n",
    "1. Una función de reducción $f()$. <br>\n",
    "2. Una secuencia iterable $s$.\n",
    "\n",
    "Trabaja como sigue:\n",
    "\n",
    "$$\n",
    "[\\underbrace{\\underbrace{\\underbrace{s_1, s_2}_{a = f(s_1,s_2)}, s_3}_{b = f(a,s_3)}, s_4}_{c = f(b,s_4)}] \\qquad \\Longrightarrow \\qquad \\underbrace{f(\\underbrace{f(\\underbrace{f(s_1,s_2)}_{a}, s_3)}_{b}, s_4)}_{c}\n",
    "$$"
   ]
  },
  {
   "cell_type": "markdown",
   "metadata": {},
   "source": [
    "### Ejemplo 12.\n",
    "\n",
    "Implementar la siguiente reducción:\n",
    "$1 + 2 + \\dots + n = \\sum\\limits_{i=1}^{n} i = \\dfrac{n(n+1)}{2}$\n",
    "\n",
    "Por ejemplo, si $n = 4$ entonces 1+2+3+4 = 10"
   ]
  },
  {
   "cell_type": "markdown",
   "metadata": {},
   "source": [
    "#### Solución 1. `list`"
   ]
  },
  {
   "cell_type": "code",
   "execution_count": null,
   "metadata": {
    "tags": []
   },
   "outputs": [],
   "source": [
    "from functools import reduce \n",
    "nums = [1,2,3,4]\n",
    "print(nums)\n",
    "result = reduce(lambda x, y: x + y, nums)\n",
    "print(result)"
   ]
  },
  {
   "cell_type": "markdown",
   "metadata": {},
   "source": [
    "#### Solución 2. `numpy`"
   ]
  },
  {
   "cell_type": "code",
   "execution_count": null,
   "metadata": {
    "tags": []
   },
   "outputs": [],
   "source": [
    "import numpy as np\n",
    "a = np.array([1,2,3,4])\n",
    "print(a)\n",
    "result = reduce(lambda x, y: x + y, a)\n",
    "print(result)"
   ]
  },
  {
   "cell_type": "markdown",
   "metadata": {},
   "source": []
  },
  {
   "cell_type": "code",
   "execution_count": null,
   "metadata": {},
   "outputs": [],
   "source": [
    "otra_lista = [3,4,5]\n",
    "result = reduce(lambda x, y: 1/x + 1/y, otra_lista)\n",
    "print(result)"
   ]
  },
  {
   "cell_type": "markdown",
   "metadata": {},
   "source": [
    "### Ejemplo 13.\n",
    "Calcular el máximo de una lista de números."
   ]
  },
  {
   "cell_type": "code",
   "execution_count": null,
   "metadata": {
    "tags": []
   },
   "outputs": [],
   "source": [
    "lst = [23,5,23,56,87,98,23]\n",
    "maximo = reduce(lambda a,b: a if (a > b) else b, lst)\n",
    "print(maximo)"
   ]
  },
  {
   "cell_type": "markdown",
   "metadata": {},
   "source": [
    "### Ejemplo 14.\n",
    "\n",
    "Contar el número de caractéres de un texto, combinando <font color=#009900>**reduce( )**</font>, <font color=#009900>**map( )**</font> y <font color=#009900>**lambda**</font>."
   ]
  },
  {
   "cell_type": "code",
   "execution_count": null,
   "metadata": {
    "tags": []
   },
   "outputs": [],
   "source": [
    "def cuentaCaracteres(palabras):\n",
    "    return reduce(lambda x,y: x+y, list(map(lambda palabras: len(palabras), palabras)))"
   ]
  },
  {
   "cell_type": "code",
   "execution_count": null,
   "metadata": {
    "tags": []
   },
   "outputs": [],
   "source": [
    "texto = 'Hola Mundo'\n",
    "palabras = texto.split()\n",
    "print(cuentaCaracteres(palabras))"
   ]
  },
  {
   "cell_type": "code",
   "execution_count": null,
   "metadata": {
    "tags": []
   },
   "outputs": [],
   "source": [
    "archivo = open('QueLesQuedaALosJovenes.txt','r')\n",
    "suma = 0\n",
    "for linea in archivo:\n",
    "    palabras = linea.split()\n",
    "    suma += cuentaCaracteres(palabras)\n",
    "print(suma)\n",
    "archivo.close()"
   ]
  },
  {
   "cell_type": "markdown",
   "metadata": {},
   "source": [
    "# Ejercicios."
   ]
  },
  {
   "cell_type": "markdown",
   "metadata": {},
   "source": [
    "## Ejercicio 1.\n",
    "Escribir una función lambda para multiplicar dos números."
   ]
  },
  {
   "cell_type": "code",
   "execution_count": null,
   "metadata": {
    "tags": []
   },
   "outputs": [],
   "source": [
    "multiplica = lambda a, b: a *  b\n",
    "multiplica(4,5)"
   ]
  },
  {
   "cell_type": "markdown",
   "metadata": {},
   "source": [
    "## Ejercicio 2.\n",
    "Checar si un número es par:"
   ]
  },
  {
   "cell_type": "code",
   "execution_count": null,
   "metadata": {
    "tags": []
   },
   "outputs": [],
   "source": [
    "es_par = lambda n: True if n%2 == 0 else False\n",
    "es_par(4)"
   ]
  },
  {
   "cell_type": "markdown",
   "metadata": {},
   "source": [
    "## Ejercicio 3.\n",
    "Obtener el primer elemento de una lista o una cadena:"
   ]
  },
  {
   "cell_type": "code",
   "execution_count": null,
   "metadata": {
    "tags": []
   },
   "outputs": [],
   "source": [
    "primer_elemento = lambda s: s[0]"
   ]
  },
  {
   "cell_type": "code",
   "execution_count": null,
   "metadata": {
    "tags": []
   },
   "outputs": [],
   "source": [
    "primer_elemento('Hola Mundo!')"
   ]
  },
  {
   "cell_type": "code",
   "execution_count": null,
   "metadata": {
    "tags": []
   },
   "outputs": [],
   "source": [
    "primer_elemento([1,2,3,4,5,6])"
   ]
  },
  {
   "cell_type": "markdown",
   "metadata": {},
   "source": [
    "## Ejercicio 4.\n",
    "Escribir en reversa una cadena y/o una lista:"
   ]
  },
  {
   "cell_type": "code",
   "execution_count": null,
   "metadata": {
    "tags": []
   },
   "outputs": [],
   "source": [
    "rev = lambda l:l[::-1]"
   ]
  },
  {
   "cell_type": "code",
   "execution_count": null,
   "metadata": {
    "tags": []
   },
   "outputs": [],
   "source": [
    "c = 'Macroentrenamiento'\n",
    "print(c)\n",
    "print(rev(c))"
   ]
  },
  {
   "cell_type": "code",
   "execution_count": null,
   "metadata": {
    "tags": []
   },
   "outputs": [],
   "source": [
    "l = [4,5,6,7,8,9]\n",
    "print(l)\n",
    "print(rev(l))"
   ]
  },
  {
   "cell_type": "markdown",
   "metadata": {},
   "source": [
    "## Ejercicio 5.\n",
    "Calcular el factorial de un número."
   ]
  },
  {
   "cell_type": "code",
   "execution_count": null,
   "metadata": {
    "tags": []
   },
   "outputs": [],
   "source": [
    "def factorial(N):\n",
    "    return reduce(lambda x, y : x * y, list(range(1,N+1)))"
   ]
  },
  {
   "cell_type": "code",
   "execution_count": null,
   "metadata": {
    "tags": []
   },
   "outputs": [],
   "source": [
    "factorial(5)"
   ]
  },
  {
   "cell_type": "code",
   "execution_count": null,
   "metadata": {
    "tags": []
   },
   "outputs": [],
   "source": [
    "fac = lambda N: reduce(lambda x, y : x * y, list(range(1,N+1)))"
   ]
  },
  {
   "cell_type": "code",
   "execution_count": null,
   "metadata": {
    "tags": []
   },
   "outputs": [],
   "source": [
    "fac(5)"
   ]
  }
 ],
 "metadata": {
  "kernelspec": {
   "display_name": "Python 3 (ipykernel)",
   "language": "python",
   "name": "python3"
  },
  "language_info": {
   "codemirror_mode": {
    "name": "ipython",
    "version": 3
   },
   "file_extension": ".py",
   "mimetype": "text/x-python",
   "name": "python",
   "nbconvert_exporter": "python",
   "pygments_lexer": "ipython3",
   "version": "3.11.3"
  }
 },
 "nbformat": 4,
 "nbformat_minor": 4
}
