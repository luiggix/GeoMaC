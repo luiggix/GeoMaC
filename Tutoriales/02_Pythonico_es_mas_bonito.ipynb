{
 "cells": [
  {
   "cell_type": "code",
   "execution_count": null,
   "metadata": {},
   "outputs": [],
   "source": [
    "NAME = \"\"\n",
    "COLLABORATORS = \"\""
   ]
  },
  {
   "cell_type": "markdown",
   "metadata": {},
   "source": [
    "---"
   ]
  },
  {
   "cell_type": "markdown",
   "metadata": {
    "deletable": false,
    "editable": false,
    "nbgrader": {
     "cell_type": "markdown",
     "checksum": "6990de34edf4ec34a25e10583b266915",
     "grade": false,
     "grade_id": "cell-e3d7a27fbff25324",
     "locked": true,
     "schema_version": 3,
     "solution": false,
     "task": false
    },
    "tags": []
   },
   "source": [
    "# Introducción a Python para IA.\n",
    "\n",
    " <p xmlns:cc=\"http://creativecommons.org/ns#\" xmlns:dct=\"http://purl.org/dc/terms/\"><a property=\"dct:title\" rel=\"cc:attributionURL\" href=\"https://github.com/luiggix/intro_MeIA_2023\">Introducción a Python para IA</a> by <span property=\"cc:attributionName\">Luis Miguel de la Cruz Salas</span> is licensed under <a href=\"http://creativecommons.org/licenses/by-nc-sa/4.0/?ref=chooser-v1\" target=\"_blank\" rel=\"license noopener noreferrer\" style=\"display:inline-block;\">CC BY-NC-SA 4.0<img style=\"height:22px!important;margin-left:3px;vertical-align:text-bottom;\" src=\"https://mirrors.creativecommons.org/presskit/icons/cc.svg?ref=chooser-v1\"><img style=\"height:22px!important;margin-left:3px;vertical-align:text-bottom;\" src=\"https://mirrors.creativecommons.org/presskit/icons/by.svg?ref=chooser-v1\"><img style=\"height:22px!important;margin-left:3px;vertical-align:text-bottom;\" src=\"https://mirrors.creativecommons.org/presskit/icons/nc.svg?ref=chooser-v1\"><img style=\"height:22px!important;margin-left:3px;vertical-align:text-bottom;\" src=\"https://mirrors.creativecommons.org/presskit/icons/sa.svg?ref=chooser-v1\"></a></p> \n",
    "\n",
    "# Objetivos.\n",
    "\n",
    "Hacer uso de los conceptos de variables (etiquetas), palabras reservadas, expresiones, declaraciones, tipos y operadores, importación de bibliotecas (módulos), estructura de datos, control de flujo, entrada y salida estándar, ciclos, estructuras de datos, funciones, elementos avanzados (lambda functions, mapeos, etc), tratamiento de excepciones, para implementar una fórmula matemática."
   ]
  },
  {
   "cell_type": "markdown",
   "metadata": {
    "deletable": false,
    "editable": false,
    "nbgrader": {
     "cell_type": "markdown",
     "checksum": "b9d9705e0947799d9684d93aede4bc3e",
     "grade": false,
     "grade_id": "cell-a1ffcb795543d06e",
     "locked": true,
     "schema_version": 3,
     "solution": false,
     "task": false
    },
    "tags": []
   },
   "source": [
    "# El huevo cocido perfecto\n",
    "\n",
    "¿Cuál es el tiempo ideal para cocinar un huevo?\n",
    "\n",
    "<img src=\"../utils/fig/huevo_cocido.jpg\"  style=\"width: 500px;\"/>\n",
    "\n",
    "\n",
    "Para lograr un **huevo cocido** suave, la clara debe haberse calentado el tiempo suficiente para coagular a una temperatura superior a $63^oC$, pero la yema no debe calentarse por encima de $70^oC$.\n",
    "\n",
    "Para lograr un **huevo duro**, el centro de la yema debe de alcanzar los $70^oC$.\n",
    "\n",
    "## Fórmula para calcular el tiempo de cocción.\n",
    "La siguiente fórmula expresa el tiempo $t$, en segundos, que le toma a la yema alcanzar la temperatura $T_y$, en grados Celsius.\n",
    "\n",
    "$$t = \\dfrac{M^{2/3} c \\rho^{1/3}}{K \\pi^2 (4\\pi/3)^{2/3}} \\ln \\left[ 0.76 \\dfrac{T_o - T_w}{T_y - T_w}\\right]$$\n",
    "\n",
    "donde las propiedades son:\n",
    "\n",
    "- $M$ masa; \n",
    "- $\\rho$ densidad; \n",
    "- $c$ capacidad calorífica específica; \n",
    "- $K$ conductividad térmica; \n",
    "- $T_w$ es la temperatura de ebullición del agua;\n",
    "- $T_o$ es la temperatura original del huevo antes de meterlo al agua;\n",
    "- $T_y$ es la temperatura que debe alcanzar la yema.\n",
    "\n",
    "**A Primer on Scientific Programming with Python**, Langtangen, H.P., ISBN 9783642183669, Texts in Computational Science and Engineering, https://books.google.com.co/books?id=Hi1KVomG148C, 2011, Springer Berlin Heidelberg."
   ]
  },
  {
   "cell_type": "markdown",
   "metadata": {
    "deletable": false,
    "editable": false,
    "nbgrader": {
     "cell_type": "markdown",
     "checksum": "ca402cc5422b06fe32e1d81c59411597",
     "grade": false,
     "grade_id": "cell-da61131b1cb20b8f",
     "locked": true,
     "schema_version": 3,
     "solution": false,
     "task": false
    },
    "tags": []
   },
   "source": [
    "---\n",
    "## **<font color=\"DodgerBlue\">Ejercicio 1. </font>**\n",
    "\n",
    "<font color=\"DarkBlue\">\n",
    "Calcular el tiempo de cocción necesario para un huevo duro pequeño de $M$ = 47 g \n",
    "(la masa de un huevo grande es 67 g), para cuando la temperatura inicial \n",
    "del huevo es:\n",
    "    \n",
    "1. Temperatura ambiente: $T_o = 20^oC$.\n",
    "2. Temperatura en el refrigerador: $T_o = 4^oC$.\n",
    "\n",
    "**Datos**:\n",
    "- $M$ = 47 g \n",
    "- $\\rho$ = 1.038 g / cm$^3$\n",
    "- $c$ = 3.7 J / g K\n",
    "- $K$ = 5.4 $\\times 10^{-3}$ W / cm K\n",
    "- $T_w = 100^oC$\n",
    "- $T_y = 70^oC$\n",
    "</font>\n",
    "\n",
    "---\n"
   ]
  },
  {
   "cell_type": "markdown",
   "metadata": {
    "deletable": false,
    "editable": false,
    "nbgrader": {
     "cell_type": "markdown",
     "checksum": "43ee8c5c58b81ee1d657807ba83f7c91",
     "grade": false,
     "grade_id": "cell-5b40a4feaac6dbe1",
     "locked": true,
     "schema_version": 3,
     "solution": false,
     "task": false
    },
    "tags": []
   },
   "source": [
    "### Paso 1. Numerador.\n",
    "Calcular la primera parte de la fórmula: numerador = $M^{2/3} c \\rho^{1/3}$. Definir los elementos de esta primera parte de la fórmula de tal manera que: $M$ sea un entero, $\\rho$ y $c$ flotantes."
   ]
  },
  {
   "cell_type": "code",
   "execution_count": null,
   "metadata": {
    "tags": []
   },
   "outputs": [],
   "source": [
    "# Definimos las etiquetas necesarias\n",
    "M   = 47    # Un entero\n",
    "rho = 1.038 # Un flotante\n",
    "c   = 3.7   # Otro flotante\n",
    "\n",
    "# Imprimimos el contenido, el tipo y el id de cada objeto\n",
    "print(M, type(M), id(M))\n",
    "print(rho, type(rho), id(rho))\n",
    "print(c, type(c), id(c))"
   ]
  },
  {
   "cell_type": "markdown",
   "metadata": {
    "deletable": false,
    "editable": false,
    "nbgrader": {
     "cell_type": "markdown",
     "checksum": "22211e79c30de8b78a1160812a5d4394",
     "grade": false,
     "grade_id": "cell-fcbf6885a8dc8da3",
     "locked": true,
     "schema_version": 3,
     "solution": false,
     "task": false
    },
    "tags": []
   },
   "source": [
    "Con los datos anteriores cálculamos el `numerador`:"
   ]
  },
  {
   "cell_type": "code",
   "execution_count": null,
   "metadata": {
    "tags": []
   },
   "outputs": [],
   "source": [
    "numerador = M**(2/3) * c * rho**(1/3)\n",
    "print(numerador, type(numerador), id(numerador))"
   ]
  },
  {
   "cell_type": "markdown",
   "metadata": {
    "deletable": false,
    "editable": false,
    "nbgrader": {
     "cell_type": "markdown",
     "checksum": "272623878ca35715f29664d212294917",
     "grade": false,
     "grade_id": "cell-f12aa130bb567139",
     "locked": true,
     "schema_version": 3,
     "solution": false,
     "task": false
    },
    "tags": []
   },
   "source": [
    "<div class=\"alert alert-success\">\n",
    "<b>Revisa lo siguiente.</b>\n",
    "\n",
    "Antes de continuar con este ejemplo y para completar tus aprendizajes del uso de variables, palabras reservadas, expresiones, declaraciones, tipos y operaciones entre ellos, revisa las siguientes notebooks: \n",
    "* [<a href=\"./T01_Etiquetas_y_Palabras_Reservadas.ipynb\">variables y palabras reservadas</a>]\n",
    "* [<a href=\"./T02_Expr_Decla_Tipos_Oper.ipynb\">expresiones, declaraciones, tipos y operadores</a>].\n",
    "</div>"
   ]
  },
  {
   "cell_type": "markdown",
   "metadata": {
    "deletable": false,
    "editable": false,
    "nbgrader": {
     "cell_type": "markdown",
     "checksum": "77fc8a527565a00505dd55032bebe6c8",
     "grade": false,
     "grade_id": "cell-1ab397439f4b251d",
     "locked": true,
     "schema_version": 3,
     "solution": false,
     "task": false
    },
    "tags": []
   },
   "source": [
    "También es posible usar el símbolo $\\rho$ como la etiqueta para la densidad:"
   ]
  },
  {
   "cell_type": "code",
   "execution_count": null,
   "metadata": {
    "tags": []
   },
   "outputs": [],
   "source": [
    "𝜌 = 1.038"
   ]
  },
  {
   "cell_type": "code",
   "execution_count": null,
   "metadata": {
    "tags": []
   },
   "outputs": [],
   "source": [
    "numerador = M**(2/3) * c * 𝜌**(1/3)\n",
    "print(numerador, type(numerador), id(numerador))"
   ]
  },
  {
   "cell_type": "markdown",
   "metadata": {
    "deletable": false,
    "editable": false,
    "nbgrader": {
     "cell_type": "markdown",
     "checksum": "6184de1642602f2c4cce6d85b51e7b3e",
     "grade": false,
     "grade_id": "cell-554bea5d4d93a3ba",
     "locked": true,
     "schema_version": 3,
     "solution": false,
     "task": false
    },
    "tags": []
   },
   "source": [
    "### Paso 2. Numerador e `import math`\n",
    "Implementar la segunda parte de la fórmula: $K \\pi^2 (4\\pi/3)^{2/3}$. \n",
    "\n",
    "Como puedes observar, en esta parte de la fórmula, se requiere del valor de $\\pi$. Esta es una constante que podemos obtener del módulo `math` de Python. Para ello debemos importar esta biblioteca y lo podemos hacer de las siguientes maneras:\n",
    "\n",
    "1. Importar toda la biblioteca `math` y entonces siempre debes anteponer el nombre de la biblioteca para usar sus componentes:\n",
    "```python\n",
    "import math\n",
    "print(math.pi)\n",
    "```\n",
    "2. Importar toda la biblioteca `math` y definir un nombre para usar sus componentes:\n",
    "```python\n",
    "import math as m\n",
    "print(m.pi)\n",
    "```\n",
    "\n",
    "3. Importar solo la componente de `math` que requieres usar:\n",
    "```python\n",
    "from math import pi\n",
    "print(pi)\n",
    "```\n",
    "\n",
    "4. Importar solo la componente de `math` que requieres usar y definir un nombre para esa componente:\n",
    "```python\n",
    "from math import pi as PI\n",
    "print(PI)\n",
    "```\n",
    "Incluso podrías usar:\n",
    "```python\n",
    "from math import pi as π\n",
    "print(π)\n",
    "```\n",
    "\n",
    "**No existe diferencia en rendimiento entre estas cuatro maneras de importar una biblioteca.**\n",
    "\n",
    "En este ejemplo usaremos la forma 4 para importar el valor de $\\pi$, pero cualquiera de las anteriores es válida. "
   ]
  },
  {
   "cell_type": "code",
   "execution_count": null,
   "metadata": {
    "tags": []
   },
   "outputs": [],
   "source": [
    "from math import pi as π\n",
    "\n",
    "K = 5.4e-3\n",
    "denominador = K * π**2 * (4 * π / 3)**(2/3)\n",
    "print(denominador, type(denominador), id(denominador))"
   ]
  },
  {
   "cell_type": "markdown",
   "metadata": {
    "deletable": false,
    "editable": false,
    "nbgrader": {
     "cell_type": "markdown",
     "checksum": "4f44ce4270ae94140d63329ae64323d4",
     "grade": false,
     "grade_id": "cell-5d2a76ca7cf34809",
     "locked": true,
     "schema_version": 3,
     "solution": false,
     "task": false
    },
    "tags": []
   },
   "source": [
    "### Paso 3. Tercera parte de la fórmula.\n",
    "\n",
    "Nos falta implementar $\\ln \\left[ 0.76 \\dfrac{T_o - T_w}{T_y - T_w}\\right]$. En este caso se requiere de la función logaritmo natural, la cual puede ser obtenida del módulo `math`. También requerimos definir los valores para $T_o$, $T_w$ y $T_y$.\n",
    "\n",
    "Para el caso cuando el huevo está a temperatura ambiente tenemos $T_o = 20^oC$. Entonces la implementación final sería como sigue:"
   ]
  },
  {
   "cell_type": "code",
   "execution_count": null,
   "metadata": {
    "tags": []
   },
   "outputs": [],
   "source": [
    "from math import log as ln\n",
    "\n",
    "To = 20  # Temperatura inicial del huevo\n",
    "Tw = 100 # Temperatura de ebullición del agua\n",
    "Ty = 70  # Temperatura que debe alcanzar la yema\n",
    "\n",
    "factor = ln(0.76 * (To - Tw) / (Ty - Tw))\n",
    "print(factor, type(factor), id(factor))"
   ]
  },
  {
   "cell_type": "markdown",
   "metadata": {
    "deletable": false,
    "editable": false,
    "nbgrader": {
     "cell_type": "markdown",
     "checksum": "9554772854abb873ed6d9d76062aa87e",
     "grade": false,
     "grade_id": "cell-01e8dca9b2be1271",
     "locked": true,
     "schema_version": 3,
     "solution": false,
     "task": false
    },
    "tags": []
   },
   "source": [
    "### Paso 4. Fórmula completa.\n",
    "\n",
    "Ya que tenemos todos los ingredientes de la fórmula, podemos hacer el cálculo final:"
   ]
  },
  {
   "cell_type": "code",
   "execution_count": null,
   "metadata": {
    "tags": []
   },
   "outputs": [],
   "source": [
    "t = numerador / denominador * factor\n",
    "print(t, type(t), id(t))"
   ]
  },
  {
   "cell_type": "markdown",
   "metadata": {
    "deletable": false,
    "editable": false,
    "nbgrader": {
     "cell_type": "markdown",
     "checksum": "5bfe648e564b1f75518405637973838e",
     "grade": false,
     "grade_id": "cell-14cc0a647ea4707a",
     "locked": true,
     "schema_version": 3,
     "solution": false,
     "task": false
    },
    "tags": []
   },
   "source": [
    "El resultado nos da un número flotante que representa el tiempo de cocción del huevo en segundos, cuando su temperatura inicial es de $20^oC$. \n",
    "\n",
    "Podemos escribir toda la fórmula en una sola línea como sigue"
   ]
  },
  {
   "cell_type": "code",
   "execution_count": null,
   "metadata": {
    "tags": []
   },
   "outputs": [],
   "source": [
    "t = M**(2/3) * c * 𝜌**(1/3) / ( K * π**2 * (4 * π / 3)**(2/3) ) * ln(0.76 * (To - Tw) / (Ty - Tw))\n",
    "t"
   ]
  },
  {
   "cell_type": "markdown",
   "metadata": {
    "deletable": false,
    "editable": false,
    "nbgrader": {
     "cell_type": "markdown",
     "checksum": "1327198d692eec7d231eb7e9183f011a",
     "grade": false,
     "grade_id": "cell-97f3793a60816caa",
     "locked": true,
     "schema_version": 3,
     "solution": false,
     "task": false
    },
    "tags": []
   },
   "source": [
    "<div class=\"alert alert-success\">\n",
    "<b>Precedencia de operadores</b>.\n",
    "    \n",
    "Observa que en la implementación anterior se ha tomado en cuenta la precedencia de operadores para que el resultado sea correcto. Revisa estas reglas de precedencia en esta <a href=\"./T02_Expr_Decla_Tipos_Oper.ipynb\">notebook</a> y confirma que la implementación anterior es correcta.\n",
    "</div>"
   ]
  },
  {
   "cell_type": "markdown",
   "metadata": {
    "deletable": false,
    "editable": false,
    "nbgrader": {
     "cell_type": "markdown",
     "checksum": "5ba6820a0456dcd1095571db6e1050a5",
     "grade": false,
     "grade_id": "cell-f03f5b39d26dfe7d",
     "locked": true,
     "schema_version": 3,
     "solution": false,
     "task": false
    },
    "tags": []
   },
   "source": [
    "Ya con todos los ingredientes de la fórmula, podemos calcular el tiempo de cocción para un huevo a temperatura inicial de $T_o = 4^oC$."
   ]
  },
  {
   "cell_type": "code",
   "execution_count": null,
   "metadata": {
    "tags": []
   },
   "outputs": [],
   "source": [
    "To = 4 \n",
    "t = M**(2/3) * c * 𝜌**(1/3) / ( K * π**2 * (4 * π / 3)**(2/3) ) * ln(0.76 * (To - Tw) / (Ty - Tw))\n",
    "print(t)"
   ]
  },
  {
   "cell_type": "markdown",
   "metadata": {
    "deletable": false,
    "editable": false,
    "nbgrader": {
     "cell_type": "markdown",
     "checksum": "d39b2b2c2c805764f1f8af0b3aad0ab6",
     "grade": false,
     "grade_id": "cell-122abf405819f6cc",
     "locked": true,
     "schema_version": 3,
     "solution": false,
     "task": false
    },
    "tags": []
   },
   "source": [
    "Observa que el tiempo es mayor que en el caso anterior, lo cual se debe a que en este último caso el huevo está a una temperatura más baja."
   ]
  },
  {
   "cell_type": "markdown",
   "metadata": {
    "deletable": false,
    "editable": false,
    "nbgrader": {
     "cell_type": "markdown",
     "checksum": "e04c59a835e1ec99418d12ac6266b54b",
     "grade": false,
     "grade_id": "cell-a09171a4cac6bb51",
     "locked": true,
     "schema_version": 3,
     "solution": false,
     "task": false
    },
    "tags": []
   },
   "source": [
    "---\n",
    "## **<font color=\"DodgerBlue\">Ejercicio 2. </font>**\n",
    "\n",
    "<font color=\"DarkBlue\">\n",
    "Calcular el tiempo para las temperaturas $20^oC$ y $4^oC$ e imprimir el resultado en el siguiente formato usando cadenas:<br> \n",
    "</font><br>\n",
    "\n",
    "```\n",
    "El tiempo de cocción óptimo es: 248.9 [s] (4.1 [m])\n",
    "El tiempo de cocción óptimo es: 313.1 [s] (5.2 [m])\n",
    "```\n",
    "\n",
    "<font color=\"DarkBlue\">    \n",
    "En este formato estamos poniendo entre corchetes las unidades del tiempo: `[s]` son segundos y `[m]` son minutos. Entonces debes transformar los segundos en minutos también.\n",
    "</font>\n",
    "\n",
    "---"
   ]
  },
  {
   "cell_type": "markdown",
   "metadata": {
    "deletable": false,
    "editable": false,
    "nbgrader": {
     "cell_type": "markdown",
     "checksum": "af590ad1ce6a9ecd2e5eaf0ea51de933",
     "grade": false,
     "grade_id": "cell-7486d15ba337a7bb",
     "locked": true,
     "schema_version": 3,
     "solution": false,
     "task": false
    },
    "tags": []
   },
   "source": [
    "Primero volvemos a calcular los dos tiempos para $20^oC$ y $4^oC$:"
   ]
  },
  {
   "cell_type": "code",
   "execution_count": null,
   "metadata": {
    "tags": []
   },
   "outputs": [],
   "source": [
    "To = 20\n",
    "logaritmo = ln(0.76 * (To - Tw) / (Ty - Tw))\n",
    "t1 = numerador /denominador * logaritmo\n",
    "\n",
    "To = 4\n",
    "logaritmo = ln(0.76 * (To - Tw) / (Ty - Tw))\n",
    "t2 = numerador /denominador * logaritmo"
   ]
  },
  {
   "cell_type": "code",
   "execution_count": null,
   "metadata": {
    "tags": []
   },
   "outputs": [],
   "source": [
    "print(t1, t2)"
   ]
  },
  {
   "cell_type": "markdown",
   "metadata": {
    "deletable": false,
    "editable": false,
    "nbgrader": {
     "cell_type": "markdown",
     "checksum": "9c4780f36da4b54dedae5648a796eb3f",
     "grade": false,
     "grade_id": "cell-b5ebf7b258b962ff",
     "locked": true,
     "schema_version": 3,
     "solution": false,
     "task": false
    },
    "tags": []
   },
   "source": [
    "### Solución 1:"
   ]
  },
  {
   "cell_type": "code",
   "execution_count": null,
   "metadata": {
    "tags": []
   },
   "outputs": [],
   "source": [
    "print('El tiempo de cocción óptimo es:', t1,' [s] (', t1/60, ' [m])')\n",
    "print('El tiempo de cocción óptimo es:', t2,' [s] (', t2/60, ' [m])')"
   ]
  },
  {
   "cell_type": "markdown",
   "metadata": {
    "deletable": false,
    "editable": false,
    "nbgrader": {
     "cell_type": "markdown",
     "checksum": "ec0d5184f44702c385c75f4d68d597a9",
     "grade": false,
     "grade_id": "cell-966316cdc6272602",
     "locked": true,
     "schema_version": 3,
     "solution": false,
     "task": false
    },
    "tags": []
   },
   "source": [
    "Observa que en esta solución se imprimen muchos decimales en los tiempos, por lo que no es la solución óptima."
   ]
  },
  {
   "cell_type": "markdown",
   "metadata": {
    "deletable": false,
    "editable": false,
    "nbgrader": {
     "cell_type": "markdown",
     "checksum": "d600c4924fa050204636831cc0245afe",
     "grade": false,
     "grade_id": "cell-769f0d539b86a78b",
     "locked": true,
     "schema_version": 3,
     "solution": false,
     "task": false
    },
    "tags": []
   },
   "source": [
    "### Solución 2:"
   ]
  },
  {
   "cell_type": "code",
   "execution_count": null,
   "metadata": {
    "tags": []
   },
   "outputs": [],
   "source": [
    "cadena1 = 'El tiempo de cocción óptimo es: '\n",
    "cadena2 = str(t1) + ' [s] (' + str(t1/60) + ' [m])'\n",
    "cadena3 = str(t2) + ' [s] (' + str(t2/60) + ' [m])'\n",
    "print(cadena1 + cadena2)\n",
    "print(cadena1 + cadena3)"
   ]
  },
  {
   "cell_type": "markdown",
   "metadata": {
    "deletable": false,
    "editable": false,
    "nbgrader": {
     "cell_type": "markdown",
     "checksum": "54949b0d4d72f262dafd579dfd935d70",
     "grade": false,
     "grade_id": "cell-e7202639bdaf2b82",
     "locked": true,
     "schema_version": 3,
     "solution": false,
     "task": false
    },
    "tags": []
   },
   "source": [
    "Observa que en esta solución tenemos el mismo problema que en la Solución 1."
   ]
  },
  {
   "cell_type": "markdown",
   "metadata": {
    "deletable": false,
    "editable": false,
    "nbgrader": {
     "cell_type": "markdown",
     "checksum": "9cb95fad28d0a4e9dc79f0cd0091c331",
     "grade": false,
     "grade_id": "cell-d5243efa221307ab",
     "locked": true,
     "schema_version": 3,
     "solution": false,
     "task": false
    },
    "tags": []
   },
   "source": [
    "### Solución 3:"
   ]
  },
  {
   "cell_type": "code",
   "execution_count": null,
   "metadata": {
    "tags": []
   },
   "outputs": [],
   "source": [
    "cadena2 = '{} [s] ( {} [m])'.format(t1, t1/60)\n",
    "cadena3 = '{} [s] ( {} [m])'.format(t2, t2/60)\n",
    "print(cadena1 + cadena2)\n",
    "print(cadena1 + cadena3)"
   ]
  },
  {
   "cell_type": "markdown",
   "metadata": {
    "deletable": false,
    "editable": false,
    "nbgrader": {
     "cell_type": "markdown",
     "checksum": "1ac74e8c2d5bd349913396d8f3113449",
     "grade": false,
     "grade_id": "cell-36074713226a210d",
     "locked": true,
     "schema_version": 3,
     "solution": false,
     "task": false
    },
    "tags": []
   },
   "source": [
    "Esta solución sigue presentando el problema de las dos soluciones anteriores."
   ]
  },
  {
   "cell_type": "markdown",
   "metadata": {},
   "source": [
    "### Solución 4:"
   ]
  },
  {
   "cell_type": "code",
   "execution_count": null,
   "metadata": {
    "tags": []
   },
   "outputs": [],
   "source": [
    "# f-strings (formatted string literals)\n",
    "cadena2 = f'{t1} [s] ({t1/60} [m])'\n",
    "cadena3 = f'{t2} [s] ({t2/60} [m])'\n",
    "print(cadena1 + cadena2)\n",
    "print(cadena1 + cadena3)"
   ]
  },
  {
   "cell_type": "markdown",
   "metadata": {
    "deletable": false,
    "editable": false,
    "nbgrader": {
     "cell_type": "markdown",
     "checksum": "60eeed5508de78d8cf93b7c9558d05fc",
     "grade": false,
     "grade_id": "cell-e72a0734328a15a1",
     "locked": true,
     "schema_version": 3,
     "solution": false,
     "task": false
    },
    "tags": []
   },
   "source": [
    "### Solución 5:"
   ]
  },
  {
   "cell_type": "code",
   "execution_count": null,
   "metadata": {
    "tags": []
   },
   "outputs": [],
   "source": [
    "cadena2 = '{:.1f} [s] ({:.1f} [m])'.format(t1, t1/60)\n",
    "cadena3 = '{:.1f} [s] ({:.1f} [m])'.format(t2, t2/60)\n",
    "print(cadena1 + cadena2)\n",
    "print(cadena1 + cadena3)"
   ]
  },
  {
   "cell_type": "markdown",
   "metadata": {
    "deletable": false,
    "editable": false,
    "nbgrader": {
     "cell_type": "markdown",
     "checksum": "ec88d7c0f23329074df8a8a038a553b4",
     "grade": false,
     "grade_id": "cell-62d6cd1f9adf2b25",
     "locked": true,
     "schema_version": 3,
     "solution": false,
     "task": false
    },
    "tags": []
   },
   "source": [
    "Gracias al uso de `{:.1f}` esta solución imprime lo que se solicita correctamente."
   ]
  },
  {
   "cell_type": "markdown",
   "metadata": {
    "deletable": false,
    "editable": false,
    "nbgrader": {
     "cell_type": "markdown",
     "checksum": "5592efec6c154de3818c2165ee13ff93",
     "grade": false,
     "grade_id": "cell-5dbc40c0bb09a50d",
     "locked": true,
     "schema_version": 3,
     "solution": false,
     "task": false
    },
    "tags": []
   },
   "source": [
    "### Solución 6:"
   ]
  },
  {
   "cell_type": "code",
   "execution_count": null,
   "metadata": {
    "tags": []
   },
   "outputs": [],
   "source": [
    "# Solución 5:\n",
    "print('El tiempo de cocción óptimo es: {:0.1f} [s] ({:0.1f} [m])'.format(t1, t1/60))\n",
    "print('El tiempo de cocción óptimo es: {:0.1f} [s] ({:0.1f} [m])'.format(t2, t2/60))"
   ]
  },
  {
   "cell_type": "markdown",
   "metadata": {
    "deletable": false,
    "editable": false,
    "nbgrader": {
     "cell_type": "markdown",
     "checksum": "c539e11cac4ab549c6f791f4aad41a76",
     "grade": false,
     "grade_id": "cell-1f482fd4f027dd0b",
     "locked": true,
     "schema_version": 3,
     "solution": false,
     "task": false
    },
    "tags": []
   },
   "source": [
    "Esta última solución genera el resultado correcto y es la más recomendada.\n",
    "\n",
    "<div class=\"alert alert-success\">\n",
    "<b>Salida estándar</b>.\n",
    "    \n",
    "Para conocer más acerca del formato de salida en Python, debes revisar la siguiente  <a href=\"./T05_Entrada_Salida_Archivos.ipynb\">notebook</a>.\n",
    "</div>"
   ]
  },
  {
   "cell_type": "markdown",
   "metadata": {
    "deletable": false,
    "editable": false,
    "nbgrader": {
     "cell_type": "markdown",
     "checksum": "64d4166d959c6fc2f7a0c214ad4c5b83",
     "grade": false,
     "grade_id": "cell-e5b220d44975c46b",
     "locked": true,
     "schema_version": 3,
     "solution": false,
     "task": false
    },
    "tags": []
   },
   "source": [
    "---\n",
    "## **<font color=\"DodgerBlue\">Ejercicio 3. </font>**\n",
    "\n",
    "<font color=\"DarkBlue\">\n",
    "Hacer una lista de tiempos de cocción para temperaturas de huevos, desde la que se tiene en el refrigerador, $4^oC$, hasta la temperatura ambiente, $20^oC$, en pasos de $1^oC$.\n",
    "    \n",
    "1. Imprimir dos columnas: temperatura inicial ($T_o$) y tiempo ($t$).\n",
    "2. Imprimir los tiempos en el formato: `min:seg` (por ejemplo 5:30).\n",
    "3. Imprimir un encabezado para identificar las columnas.\n",
    "\n",
    "</font>\n",
    "\n",
    "```\n",
    "Temperatura \t Tiempo\n",
    " 4 \t\t 5:13\n",
    " 5 \t\t 5:09\n",
    "...\t\t...\n",
    " 19 \t\t 4:13\n",
    " 20 \t\t 4:08\n",
    "```\n",
    "---"
   ]
  },
  {
   "cell_type": "markdown",
   "metadata": {
    "deletable": false,
    "editable": false,
    "nbgrader": {
     "cell_type": "markdown",
     "checksum": "896b6a7e6f8379bb7cacb972dd2358b5",
     "grade": false,
     "grade_id": "cell-c7db766ffc981c0a",
     "locked": true,
     "schema_version": 3,
     "solution": false,
     "task": false
    },
    "tags": []
   },
   "source": [
    "<div class=\"alert alert-success\">\n",
    "<b>Estructuras de datos y control de flujo</b>.\n",
    "    \n",
    "Para realizar este ejemplo, necesitas conocer las estructuras de datos que pueden usarse en Python, así como las herramientas para el control del flujo del programa. Entonces debes revisar primero las siguientes dos notebooks:\n",
    "    \n",
    "<ul>\n",
    "<li><a href=\"./T03_Estructura_de_Datos.ipynb\">Estructura de datos</a></li>\n",
    "<li><a href=\"./T04_Control_de_flujo.ipynb\">Control de flujo</a></li>\n",
    "</ul>\n",
    "\n",
    "</div>"
   ]
  },
  {
   "cell_type": "markdown",
   "metadata": {
    "deletable": false,
    "editable": false,
    "nbgrader": {
     "cell_type": "markdown",
     "checksum": "c3d14d230fb0bf9935d4e74f494633a4",
     "grade": false,
     "grade_id": "cell-443634cf27e82de8",
     "locked": true,
     "schema_version": 3,
     "solution": false,
     "task": false
    },
    "tags": []
   },
   "source": [
    "### Solución.\n",
    "\n",
    "Recordemos la fórmula $$t = \\dfrac{M^{2/3} c \\rho^{1/3}}{K \\pi^2 (4\\pi/3)^{2/3}} \\ln \\left[ 0.76 \\dfrac{T_o - T_w}{T_y - T_w}\\right]$$\n",
    "\n",
    "`numerador` = $M^{2/3} c \\rho^{1/3}$\n",
    "\n",
    "`denominador` = $K \\pi^2 (4\\pi/3)^{2/3}$\n",
    "\n",
    "`factor` = $ln \\left[ 0.76 \\dfrac{T_o - T_w}{T_y - T_w}\\right]$\n",
    "\n",
    "Observamos que lo único que cambia es `factor` cuando cambia $T_o$.\n",
    "\n",
    "Construyamos primero un ciclo para recorrer los valores de $T_o$ desde $4$ hasta $20$."
   ]
  },
  {
   "cell_type": "code",
   "execution_count": null,
   "metadata": {
    "tags": []
   },
   "outputs": [],
   "source": [
    "for To in range(4,21): # El ciclo va de 4 a 20\n",
    "    print(To)"
   ]
  },
  {
   "cell_type": "markdown",
   "metadata": {
    "deletable": false,
    "editable": false,
    "nbgrader": {
     "cell_type": "markdown",
     "checksum": "4fd7487d76500c18a74b8473ff4a8724",
     "grade": false,
     "grade_id": "cell-fddbb9767acc8780",
     "locked": true,
     "schema_version": 3,
     "solution": false,
     "task": false
    },
    "tags": []
   },
   "source": [
    "Ahora, dentro del ciclo vamos a implementar la fórmula para calcular el tiempo y se imprime el tiempo y la temperatura inicial $T_o$:"
   ]
  },
  {
   "cell_type": "code",
   "execution_count": null,
   "metadata": {
    "tags": []
   },
   "outputs": [],
   "source": [
    "for To in range(4, 21):\n",
    "    factor = ln(0.76 * (To - Tw) / (Ty - Tw))\n",
    "    t = numerador / denominador * factor\n",
    "    print(To, t)"
   ]
  },
  {
   "cell_type": "markdown",
   "metadata": {
    "deletable": false,
    "editable": false,
    "nbgrader": {
     "cell_type": "markdown",
     "checksum": "36f1a236fd48858c3d277564f22a2c59",
     "grade": false,
     "grade_id": "cell-27bd700db6fbd9c1",
     "locked": true,
     "schema_version": 3,
     "solution": false,
     "task": false
    },
    "tags": []
   },
   "source": [
    "Necesitamos convertir el tiempo en el formato `min:seg` :"
   ]
  },
  {
   "cell_type": "code",
   "execution_count": null,
   "metadata": {
    "tags": []
   },
   "outputs": [],
   "source": [
    "print('Temperatura \\t Tiempo') # Se imprime el encabezado antes del ciclo\n",
    "\n",
    "for To in range(4, 21):\n",
    "    factor = ln(0.76 * (To - Tw) / (Ty - Tw))\n",
    "    t = numerador / denominador * factor\n",
    "    \n",
    "    # Conversión del tiempo al formato requerido\n",
    "    t_min = int(t / 60)\n",
    "    t_seg = int(t - t_min * 60) \n",
    "    \n",
    "    # Impresión del resultado\n",
    "    print(' {} \\t\\t {}:{:02d}'.format(To, t_min, t_seg))"
   ]
  },
  {
   "cell_type": "markdown",
   "metadata": {
    "deletable": false,
    "editable": false,
    "nbgrader": {
     "cell_type": "markdown",
     "checksum": "976caacae0d879cb4b1132fd76e019d4",
     "grade": false,
     "grade_id": "cell-92a03c962fe0c336",
     "locked": true,
     "schema_version": 3,
     "solution": false,
     "task": false
    },
    "tags": []
   },
   "source": [
    "Observa que en el formato de impresión de los resultados se usa `{:02d}` lo cual indica que se imprimen 2 dígitos enteros, y cuando solo se tiene un dígito se completa con un cero a la izquierda."
   ]
  },
  {
   "cell_type": "markdown",
   "metadata": {
    "deletable": false,
    "editable": false,
    "nbgrader": {
     "cell_type": "markdown",
     "checksum": "c602858b6f26aca1ca81988df6fc9906",
     "grade": false,
     "grade_id": "cell-37240fc806664886",
     "locked": true,
     "schema_version": 3,
     "solution": false,
     "task": false
    },
    "tags": []
   },
   "source": [
    "---\n",
    "## **<font color=\"DodgerBlue\">Ejercicio 4. </font>**\n",
    "\n",
    "<font color=\"DarkBlue\">\n",
    "Realizar lo mismo que en el Ejercicio 3 pero usando dos listas: una para las temperaturas y otra para los tiempos.\n",
    "</font>\n",
    "\n",
    "---"
   ]
  },
  {
   "cell_type": "code",
   "execution_count": null,
   "metadata": {
    "tags": []
   },
   "outputs": [],
   "source": [
    "print('Temperatura \\t Tiempo') # Se imprime el encabezado antes del ciclo\n",
    "\n",
    "# Se definen dos lista vacías\n",
    "Ts = [] # Lista de temperaturas\n",
    "ts = [] # Lista de tiempos\n",
    "\n",
    "for To in range(4,21):\n",
    "    Ts.append(To) # Se agrega la temperatura a la lista\n",
    "    \n",
    "    # Se calcula el tiempo de cocción\n",
    "    factor = ln(0.76 * (To - Tw) / (Ty - Tw))\n",
    "    t = numerador / denominador * factor\n",
    "    \n",
    "    # Se convierte el tiempo al formato min:seg\n",
    "    t_min = int(t / 60)\n",
    "    t_seg = int(t - t_min * 60) \n",
    "    \n",
    "    # Se agrega el tiempo a la lista\n",
    "    ts.append('{}:{:02d}'.format(t_min, t_seg)) \n",
    "\n",
    "# Se imprime el resultado final\n",
    "for T, t in zip(Ts, ts):\n",
    "    print(' {} \\t\\t {}'.format(T, t))"
   ]
  },
  {
   "cell_type": "markdown",
   "metadata": {
    "deletable": false,
    "editable": false,
    "nbgrader": {
     "cell_type": "markdown",
     "checksum": "19778ae1c7c2f856e833e4f820c1cc4c",
     "grade": false,
     "grade_id": "cell-5d197ce7e4133f72",
     "locked": true,
     "schema_version": 3,
     "solution": false,
     "task": false
    },
    "tags": []
   },
   "source": [
    "---\n",
    "## **<font color=\"DodgerBlue\">Ejercicio 5. </font>**\n",
    "\n",
    "<font color=\"DarkBlue\">\n",
    "Realizar lo mismo que en el Ejercicio 3 pero con un diccionario.\n",
    "</font>\n",
    "\n",
    "---"
   ]
  },
  {
   "cell_type": "code",
   "execution_count": null,
   "metadata": {
    "tags": []
   },
   "outputs": [],
   "source": [
    "print('Temperatura \\t Tiempo') # Se imprime el encabezado antes del ciclo\n",
    "\n",
    "# Se construye un diccionario vacío\n",
    "tiempos_huevo = {}\n",
    "\n",
    "for To in range(4,21):\n",
    "    \n",
    "    # Se calcula el tiempo de cocción\n",
    "    factor = ln(0.76 * (To - Tw) / (Ty - Tw))\n",
    "    t = numerador / denominador * factor\n",
    "    \n",
    "    # Se convierte el tiempo al formato min:seg\n",
    "    t_min = int(t / 60)\n",
    "    t_seg = int(t - t_min * 60) \n",
    "    \n",
    "    # Se agrega la temperatura como Key y \n",
    "    # el tiempo como value al diccionario:\n",
    "    tiempos_huevo[To] = '{}:{:02d}'.format(t_min, t_seg)\n",
    "\n",
    "# Se imprime el resultado final\n",
    "for key in tiempos_huevo:\n",
    "    print(' {} \\t\\t {}'.format(key, tiempos_huevo[key]))"
   ]
  },
  {
   "cell_type": "markdown",
   "metadata": {
    "deletable": false,
    "editable": false,
    "nbgrader": {
     "cell_type": "markdown",
     "checksum": "5043cde6a5add20bf9c820294ec6b487",
     "grade": false,
     "grade_id": "cell-07b4903b5117d85c",
     "locked": true,
     "schema_version": 3,
     "solution": false,
     "task": false
    },
    "tags": []
   },
   "source": [
    "Un diccionario se puede recorrer de varias maneras. Observa los siguiente ejemplos:"
   ]
  },
  {
   "cell_type": "code",
   "execution_count": null,
   "metadata": {
    "tags": []
   },
   "outputs": [],
   "source": [
    "# Recorrido usando los items, cada item es una tupla\n",
    "# que contiene el Key y el Value.\n",
    "for item in tiempos_huevo.items():\n",
    "    print(item)"
   ]
  },
  {
   "cell_type": "code",
   "execution_count": null,
   "metadata": {
    "tags": []
   },
   "outputs": [],
   "source": [
    "# Recorrido usando los items y extrayendo el Key  \n",
    "# y el Value en las etiquetas k e i\n",
    "for k, i in tiempos_huevo.items():\n",
    "    print(k, i)"
   ]
  },
  {
   "cell_type": "code",
   "execution_count": null,
   "metadata": {
    "tags": []
   },
   "outputs": [],
   "source": [
    "# Recorrido usando las Keys:\n",
    "for key in tiempos_huevo.keys():\n",
    "    print(key)"
   ]
  },
  {
   "cell_type": "code",
   "execution_count": null,
   "metadata": {
    "tags": []
   },
   "outputs": [],
   "source": [
    "# Recorrido unsando los Values:\n",
    "for val in tiempos_huevo.values():\n",
    "    print(val)"
   ]
  },
  {
   "cell_type": "markdown",
   "metadata": {
    "deletable": false,
    "editable": false,
    "nbgrader": {
     "cell_type": "markdown",
     "checksum": "e17cd40b58d2e3823e4d7efa1b9007e5",
     "grade": false,
     "grade_id": "cell-ec02543441f451f0",
     "locked": true,
     "schema_version": 3,
     "solution": false,
     "task": false
    },
    "tags": []
   },
   "source": [
    "---\n",
    "## **<font color=\"DodgerBlue\">Ejercicio 6. </font>**\n",
    "\n",
    "<font color=\"DarkBlue\">\n",
    "Utilice la versión que más le agrade para escribir las temperaturas y los tiempos de cocción de un huevo duro, y modifíquela para que haga lo siguiente:\n",
    "    \n",
    "1. Al principio de la ejecución solicite al usuario:\n",
    "    - el nombre de un archivo donde va a guardar la tabla de resultados\n",
    "    - el peso del huevo\n",
    "2. Imprima la tabla de resultados en pantalla.\n",
    "3. Guarde la tabla en el archivo.\n",
    "4. Muestre un mensaje al usuario diciendo el nombre del archivo donde se guardó el resultado.\n",
    "    \n",
    "</font>\n",
    "\n",
    "---"
   ]
  },
  {
   "cell_type": "markdown",
   "metadata": {
    "deletable": false,
    "editable": false,
    "nbgrader": {
     "cell_type": "markdown",
     "checksum": "b86d731ceebd7873b93f78adf566d5f0",
     "grade": false,
     "grade_id": "cell-b4d9ce606846a524",
     "locked": true,
     "schema_version": 3,
     "solution": false,
     "task": false
    },
    "tags": []
   },
   "source": [
    "<div class=\"alert alert-success\">\n",
    "<b>Entrada/salida y gestión de archivos</b>.\n",
    "    \n",
    "Para realizar este ejemplo, necesitas saber como manejar la entrada y la salida estándar, así como el manejo de archivos. Para ello debes revisar la siguiente notebook:\n",
    "\n",
    "<ul>\n",
    "<li ><a href=\"./T05_Entrada_Salida_Archivos.ipynb\">Entrada, Salida y Archivos</a>.</li>\n",
    "</ul>\n",
    "    \n",
    "</div>"
   ]
  },
  {
   "cell_type": "markdown",
   "metadata": {
    "deletable": false,
    "editable": false,
    "nbgrader": {
     "cell_type": "markdown",
     "checksum": "d133794ebe9cbf84f21b05a94963770d",
     "grade": false,
     "grade_id": "cell-4015788f56516a60",
     "locked": true,
     "schema_version": 3,
     "solution": false,
     "task": false
    },
    "tags": []
   },
   "source": [
    "### Solución 1: `dict`"
   ]
  },
  {
   "cell_type": "code",
   "execution_count": null,
   "metadata": {
    "tags": []
   },
   "outputs": [],
   "source": [
    "# Se solicita el nombre del archivo\n",
    "nombre_archivo = input('Nombre del archivo: ')\n",
    "\n",
    "# Se solicita el peso del huevo.\n",
    "M = float(input('Peso del huevo = '))\n",
    "\n",
    "# Imprimimos el encabezado\n",
    "print('Temperatura \\t Tiempo')\n",
    "\n",
    "# Recalculamos el numerador con el valor de M\n",
    "numerador = M**(2/3) * c * 𝜌**(1/3)\n",
    "\n",
    "# Diccionario vacío\n",
    "tiempos_huevo = {} \n",
    "\n",
    "for To in range(4,21):\n",
    "    \n",
    "    # Se calcula el tiempo de cocción\n",
    "    factor = ln(0.76 * (To - Tw) / (Ty - Tw))\n",
    "    t = numerador / denominador * factor\n",
    "    \n",
    "    # Se convierte el tiempo al formato min:seg\n",
    "    t_min = int(t / 60)\n",
    "    t_seg = int(t - t_min * 60) \n",
    "    \n",
    "    # Se guarda la información en el diccionario\n",
    "    tiempos_huevo[To] = '{}:{:02d}'.format(t_min, t_seg)\n",
    "\n",
    "# Usando un gestor de contexto abrimos el archivo.\n",
    "with open(nombre_archivo, 'w') as archivo_abierto:\n",
    "    \n",
    "    # Escribimos el encabezado en el archivo\n",
    "    archivo_abierto.write('Temperatura \\t Tiempo\\n')\n",
    "    \n",
    "    # Escribimos los tiempos y temperaturas en el archivo\n",
    "    for key in tiempos_huevo:\n",
    "        print(' {} \\t\\t {}'.format(key, tiempos_huevo[key]))\n",
    "        archivo_abierto.write(' {} \\t\\t {}\\n'.format(key, tiempos_huevo[key]))\n",
    "\n",
    "print('La tabla de tiempos de cocción se guardó en el archivo: \"{}\"'.format(nombre_archivo))"
   ]
  },
  {
   "cell_type": "markdown",
   "metadata": {
    "deletable": false,
    "editable": false,
    "nbgrader": {
     "cell_type": "markdown",
     "checksum": "3577bb09c77ce2129a2456011f0a3cb0",
     "grade": false,
     "grade_id": "cell-88db7e8ecf049ded",
     "locked": true,
     "schema_version": 3,
     "solution": false,
     "task": false
    },
    "tags": []
   },
   "source": [
    "Verifica que el archivo se guardó correctamente y verificar su contenido."
   ]
  },
  {
   "cell_type": "markdown",
   "metadata": {
    "deletable": false,
    "editable": false,
    "nbgrader": {
     "cell_type": "markdown",
     "checksum": "d7855a8c12eb229a1b9dbb0081d4c3d0",
     "grade": false,
     "grade_id": "cell-64b2ff7a3aa03ddf",
     "locked": true,
     "schema_version": 3,
     "solution": false,
     "task": false
    },
    "tags": []
   },
   "source": [
    "### Solución 2: `list`"
   ]
  },
  {
   "cell_type": "code",
   "execution_count": null,
   "metadata": {
    "tags": []
   },
   "outputs": [],
   "source": [
    "# Se solicita el nombre del archivo\n",
    "nombre_archivo = input('Nombre del archivo: ')\n",
    "\n",
    "# Se solicita el peso del huevo.\n",
    "M = float(input('Peso del huevo = '))\n",
    "\n",
    "# Imprimimos el encabezado\n",
    "print('Temperatura \\t Tiempo')\n",
    "\n",
    "# Recalculamos el numerador con el valor de M\n",
    "numerador = M**(2/3) * c * 𝜌**(1/3)\n",
    "\n",
    "# Creamos dos listas vacías\n",
    "Ts = []\n",
    "ts = []\n",
    "\n",
    "for To in range(4,21):\n",
    "    Ts.append(To)\n",
    "    \n",
    "    # Se calcula el tiempo de cocción \n",
    "    factor = ln(0.76 * (To - Tw) / (Ty - Tw))\n",
    "    t = numerador / denominador * factor\n",
    "\n",
    "    # Se convierte el tiempo al formato min:seg\n",
    "    t_min = int(t / 60)\n",
    "    t_seg = int(t - t_min * 60) \n",
    "\n",
    "    # Se agrega el tiempo a la lista\n",
    "    t1 = '{}:{:02d}'.format(t_min, t_seg)\n",
    "    ts.append(t1)\n",
    "\n",
    "# Usando un gestor de contexto abrimos el archivo.\n",
    "with open(nombre_archivo, 'w') as archivo_abierto:\n",
    "    # Escribimos el encabezado en el archivo\n",
    "    archivo_abierto.write('Temperatura \\t Tiempo\\n')\n",
    "    \n",
    "    # Escribimos los tiempos y temperaturas en el archivo    \n",
    "    for i in range(len(Ts)):\n",
    "        print(' {} \\t\\t {}'.format(Ts[i], ts[i]))\n",
    "        archivo_abierto.write(' {} \\t\\t {}\\n'.format(Ts[i], ts[i]))\n",
    "\n",
    "print('La tabla de tiempos de cocción se guardó en el archivo: \"{}\"'.format(nombre_archivo))"
   ]
  },
  {
   "cell_type": "markdown",
   "metadata": {
    "deletable": false,
    "editable": false,
    "nbgrader": {
     "cell_type": "markdown",
     "checksum": "cc0ab7d9abb1e7f9d197bc0a0b4ec650",
     "grade": false,
     "grade_id": "cell-4887634832fdbb87",
     "locked": true,
     "schema_version": 3,
     "solution": false,
     "task": false
    },
    "tags": []
   },
   "source": [
    "Verifica que el archivo se guardó correctamente y verificar su contenido."
   ]
  },
  {
   "cell_type": "markdown",
   "metadata": {
    "deletable": false,
    "editable": false,
    "nbgrader": {
     "cell_type": "markdown",
     "checksum": "4f0cf55ee0927ebdcd4fb3f334d040ee",
     "grade": false,
     "grade_id": "cell-9dc4b6e167421f25",
     "locked": true,
     "schema_version": 3,
     "solution": false,
     "task": false
    },
    "tags": []
   },
   "source": [
    "---\n",
    "## **<font color=\"DodgerBlue\">Ejercicio 7. </font>**\n",
    "\n",
    "<font color=\"DarkBlue\">\n",
    "Modificar el código del ejercicio 4 para que el nombre del archivo contenga el peso del huevo. Por ejemplo, si el usuario teclea <b>tiempo_coccion</b> en el nombre del archivo y <b>67</b> en el peso del huevo, el resultado final se almacenará en un archivo de nombre <b>tiempo_coccion_67</b>.\n",
    "</font>\n",
    "\n",
    "---"
   ]
  },
  {
   "cell_type": "code",
   "execution_count": null,
   "metadata": {
    "tags": []
   },
   "outputs": [],
   "source": [
    "# Se solicita el nombre del archivo\n",
    "nombre_archivo = input('Nombre del archivo: ')\n",
    "\n",
    "# Se solicita el peso del huevo.\n",
    "M = float(input('Peso del huevo = '))\n",
    "\n",
    "# Imprimimos el encabezado\n",
    "print('Temperatura \\t Tiempo')\n",
    "\n",
    "# Recalculamos el numerador con el valor de M\n",
    "numerador = M**(2/3) * c * 𝜌**(1/3)\n",
    "\n",
    "# Construcción del nombre del archivo\n",
    "etiqueta = str(int(M))\n",
    "nombre_archivo += '_' + etiqueta\n",
    "\n",
    "# Construimos un diccionario vacío\n",
    "tiempos_huevo = {} \n",
    "\n",
    "for To in range(4,21):\n",
    "    \n",
    "    # Se calcula el tiempo de cocción \n",
    "    factor = ln(0.76 * (To - Tw) / (Ty - Tw))\n",
    "    t = numerador / denominador * factor\n",
    "    \n",
    "    # Se convierte el tiempo al formato min:seg\n",
    "    t_min = int(t / 60)\n",
    "    t_seg = int(t - t_min * 60) \n",
    "    \n",
    "    # Se guarda la información en el diccionario\n",
    "    tiempos_huevo[To] = '{}:{:02d}'.format(t_min, t_seg)\n",
    "\n",
    "# Usando un gestor de contexto abrimos el archivo.\n",
    "with open(nombre_archivo, 'w') as archivo_abierto:\n",
    "    \n",
    "    # Escribimos el encabezado en el archivo    \n",
    "    archivo_abierto.write('Temperatura \\t Tiempo\\n')\n",
    "\n",
    "    # Escribimos los tiempos y temperaturas en el archivo    \n",
    "    for key in tiempos_huevo:\n",
    "        print(' {} \\t\\t {}'.format(key, tiempos_huevo[key]))\n",
    "        archivo_abierto.write(' {} \\t\\t {}\\n'.format(key, tiempos_huevo[key]))\n",
    "    \n",
    "print('La tabla de tiempos de cocción se guardó en el archivo: \"{}\"'.format(nombre_archivo))"
   ]
  },
  {
   "cell_type": "markdown",
   "metadata": {
    "deletable": false,
    "editable": false,
    "nbgrader": {
     "cell_type": "markdown",
     "checksum": "b288d172957e54e0063ed79d323c0ab7",
     "grade": false,
     "grade_id": "cell-28244d533e65015d",
     "locked": true,
     "schema_version": 3,
     "solution": false,
     "task": false
    },
    "tags": []
   },
   "source": [
    "---\n",
    "## **<font color=\"DodgerBlue\">Ejercicio 8. </font>**\n",
    "\n",
    "<font color=\"DarkBlue\">\n",
    "Determina el intervalo de temperaturas, en que debería estar la temperatura del huevo inicialmente para que el tiempo de cocción sea exactamente de 6 minutos para un huevo de 67 gramos.\n",
    "</font>\n",
    "\n",
    "---"
   ]
  },
  {
   "cell_type": "code",
   "execution_count": null,
   "metadata": {
    "tags": []
   },
   "outputs": [],
   "source": [
    "# Peso del huevo\n",
    "M = 67\n",
    "\n",
    "# Recalculamos el numerador con el valor de M\n",
    "numerador = M**(2/3) * c * 𝜌**(1/3)\n",
    "\n",
    "To = 1\n",
    "\n",
    "count = 0\n",
    "while True:\n",
    "    \n",
    "    # Se calcula el tiempo de cocción \n",
    "    factor = ln(0.76 * (To - Tw) / (Ty - Tw))\n",
    "    t = numerador / denominador * factor\n",
    "\n",
    "    # Se convierte el tiempo al formato min:seg\n",
    "    t_min = int(t / 60)\n",
    "    t_seg = int(t - t_min * 60) \n",
    "    \n",
    "    print('{}:{:02d} \\t {}'.format(t_min, t_seg, To))\n",
    "    \n",
    "    if t_min > 6:\n",
    "        To += 0.5\n",
    "    elif t_min < 6:\n",
    "        To -= 0.5\n",
    "    else:\n",
    "        if t_seg > 0:\n",
    "            To += 0.5\n",
    "        else:\n",
    "            print('La temperatura inicial {} [C] requiere de {}:{:02d}'.format(To, t_min, t_seg))\n",
    "            break\n",
    "            \n",
    "    count += 1 \n",
    "    if count > 100:\n",
    "        break"
   ]
  },
  {
   "cell_type": "markdown",
   "metadata": {
    "deletable": false,
    "editable": false,
    "nbgrader": {
     "cell_type": "markdown",
     "checksum": "6f41617eb9052053b92eafa7468111f9",
     "grade": false,
     "grade_id": "cell-d1aa4a533351f7c0",
     "locked": true,
     "schema_version": 3,
     "solution": false,
     "task": false
    },
    "tags": []
   },
   "source": [
    "---\n",
    "## **<font color=\"DodgerBlue\">Ejercicio 9. </font>**\n",
    "\n",
    "<font color=\"DarkBlue\">\n",
    "Construye la función <b>calc_tiempo()</b> para calcular el tiempo de cocción. Esta función debe recibir todos los parámetros necesarios para evaluar la fórmula con valores por omisión, excepto para $M$ y $T_o$. La función debe regresar el tiempo calculado en una cadena en formato <b>min:seg</b>.\n",
    "</font>\n",
    "\n",
    "---"
   ]
  },
  {
   "cell_type": "markdown",
   "metadata": {
    "deletable": false,
    "editable": false,
    "nbgrader": {
     "cell_type": "markdown",
     "checksum": "f187f6817c755d28e933f72fa7b2f568",
     "grade": false,
     "grade_id": "cell-109b7caac41b4081",
     "locked": true,
     "schema_version": 3,
     "solution": false,
     "task": false
    },
    "tags": []
   },
   "source": [
    "<div class=\"alert alert-success\">\n",
    "<b>Funciones y manejo de excepciones</b>.\n",
    "    \n",
    "Para realizar los ejemplos 9 y 10, necesitas saber como construir y usar funciones, documentar dichas funciones y manejar excepciones. Para ello debes revisar las siguientes notebooks:\n",
    "\n",
    "<ul>\n",
    "<li><a href=\"./T06_Funciones_y_Documentacion.ipynb\">Funciones y documentación</a>.</li>\n",
    "<li><a href=\"./T07_Excepciones.ipynb\">Manejo de excepciones</a>.</li>\n",
    "</ul>\n",
    "    \n",
    "</div>"
   ]
  },
  {
   "cell_type": "code",
   "execution_count": null,
   "metadata": {
    "tags": []
   },
   "outputs": [],
   "source": [
    "from math import pi as π\n",
    "from math import log as ln\n",
    "\n",
    "def calc_tiempo(M, To, c = 3.7, 𝜌 = 1.038, K = 5.4e-3, Tw = 100, Ty = 70):\n",
    "\n",
    "    # Se calcula el tiempo de cocción \n",
    "    t = M**(2/3) * c * 𝜌**(1/3) / ( K * π**2 * (4 * π / 3)**(2/3) ) * ln(0.76 * (To - Tw) / (Ty - Tw))\n",
    "\n",
    "    # Se convierte el tiempo al formato min:seg\n",
    "    t_min = int(t / 60)\n",
    "    t_seg = int(t - t_min * 60)\n",
    "    \n",
    "    return '{}:{:02d}'.format(t_min, t_seg)"
   ]
  },
  {
   "cell_type": "code",
   "execution_count": null,
   "metadata": {
    "tags": []
   },
   "outputs": [],
   "source": [
    "calc_tiempo(47, 4)"
   ]
  },
  {
   "cell_type": "markdown",
   "metadata": {
    "deletable": false,
    "editable": false,
    "nbgrader": {
     "cell_type": "markdown",
     "checksum": "43fb2e90be82a1045e0550acb8569c53",
     "grade": false,
     "grade_id": "cell-4ee3a27bdbf3a4ac",
     "locked": true,
     "schema_version": 3,
     "solution": false,
     "task": false
    },
    "tags": []
   },
   "source": [
    "---\n",
    "## **<font color=\"DodgerBlue\">Ejercicio 10. </font>**\n",
    "\n",
    "<font color=\"DarkBlue\">\n",
    "Usando la función construida en el ejemplo 9, modfíquela para que maneje excepciones. En este caso, la excepción debe manejar el error de tipo <b>TypeError</b>, es decir cuando el usuario use un tipo de dato incorrecto, por ejemplo: <b>calc_tiempo('47', 4)</b>. Documente la función usando <i>docstring</i>. \n",
    "</font>\n",
    "\n",
    "---"
   ]
  },
  {
   "cell_type": "code",
   "execution_count": null,
   "metadata": {
    "tags": []
   },
   "outputs": [],
   "source": [
    "import math\n",
    "\n",
    "def calc_tiempo(M, To, c = 3.7, 𝜌 = 1.038, K = 5.4e-3, Tw = 100, Ty = 70):\n",
    "    \"\"\"\n",
    "    Esta función calcula el tiempo de un huevo dados ciertos parámetros físicos.\n",
    "    \n",
    "    Parameters\n",
    "    ----------\n",
    "    M : float\n",
    "    Masa del huevo ek gramos.\n",
    "    \n",
    "    To : float\n",
    "    Temperatura original del huevo, en grados Celsius, antes de meterlo al agua.\n",
    "    \n",
    "    c : float\n",
    "    Capacidad calorífica específica.\n",
    "    \n",
    "    𝜌 : float\n",
    "    Densidad.\n",
    "    \n",
    "    K : float\n",
    "    Conductividad térmica.\n",
    "    \n",
    "    Tw : float\n",
    "    Temperatura de ebullición del agua.\n",
    "    \n",
    "    Ty : float\n",
    "    Temperatura que debe alcanzar la yema.\n",
    "\n",
    "    Returns\n",
    "    -------\n",
    "    str: Tiempo de cocción del huevo en format min:seg\n",
    "    \"\"\"\n",
    "    π = math.pi\n",
    "    \n",
    "    ocurre_error = False\n",
    "    try:\n",
    "        # Se calcula el tiempo de cocción \n",
    "        t = M**(2/3) * c * 𝜌**(1/3) / ( K * π**2 * (4 * π / 3)**(2/3) ) * ln(0.76 * (To - Tw) / (Ty - Tw))\n",
    "\n",
    "        # Se convierte el tiempo al formato min:seg\n",
    "        t_min = int(t / 60)\n",
    "        t_seg = int(t - t_min * 60)\n",
    "        \n",
    "        resultado = '{}:{:02d}'.format(t_min, t_seg)\n",
    "    except TypeError as detalles:\n",
    "        ocurre_error = True\n",
    "        resultado = \"Ocurrió un error (TypeError): \\n {}\".format(detalles)\n",
    "    except:\n",
    "        ocurre_error = True\n",
    "        resultado = \"Ocurrió algo misterioso\"\n",
    "        \n",
    "    if ocurre_error:\n",
    "        print(resultado)\n",
    "        print('Revisa el correcto funcionamiento de la función.')\n",
    "    else:\n",
    "        return resultado    \n"
   ]
  },
  {
   "cell_type": "code",
   "execution_count": null,
   "metadata": {
    "tags": []
   },
   "outputs": [],
   "source": [
    "calc_tiempo(47,4)"
   ]
  },
  {
   "cell_type": "markdown",
   "metadata": {
    "deletable": false,
    "editable": false,
    "nbgrader": {
     "cell_type": "markdown",
     "checksum": "5f667820cd36ffaf292d9afc120fc992",
     "grade": false,
     "grade_id": "cell-0d2914869425251d",
     "locked": true,
     "schema_version": 3,
     "solution": false,
     "task": false
    },
    "tags": []
   },
   "source": [
    "Debido a que esta última función ya está documentada con *docstring*, es posible poner el cursor en el nombre de la función y teclear [Shift+Tab] para obtener la ayuda."
   ]
  },
  {
   "cell_type": "markdown",
   "metadata": {
    "deletable": false,
    "editable": false,
    "nbgrader": {
     "cell_type": "markdown",
     "checksum": "16469719843ce447054d2bee23fa583d",
     "grade": false,
     "grade_id": "cell-a31e024bff9617f5",
     "locked": true,
     "schema_version": 3,
     "solution": false,
     "task": false
    },
    "tags": []
   },
   "source": [
    "**Si deseas probar tus aprendizajes, intenta realizar e siguiente miniproyecto.**\n",
    "\n",
    "---\n",
    "## **<font color=\"DodgerBlue\">Miniproyecto 1. </font>** (Opcional)\n",
    "\n",
    "<font color=\"DarkBlue\">Calcule las tablas de tiempos para huevos con peso mínimo de 47 y máximo de 67 gramos, en pasos de 1 gramo, para las temperaturas iniciales desde $T_o = 4^o C$ y hasta $T_o = 20^o C$ en pasos de $1^o C$. Imprima al principio de cada tabla la leyenda: `Peso del huevo = 67 [g]`. Almacenar estas tablas en una lista de diccionarios, donde cada elemento de la lista es un diccionario que contiene la información para una determinada $M$. Guardar las tablas de manera secuencial en un archivo cuyo nombre debe ser proporcionado por el usuario. Finalmente preguntar al usuario la tabla de tiempos que desea ver (con base en el peso del huevo) en pantalla. </font>\n",
    "\n",
    "---"
   ]
  },
  {
   "cell_type": "code",
   "execution_count": null,
   "metadata": {
    "deletable": false,
    "nbgrader": {
     "cell_type": "code",
     "checksum": "9776c9cd3e2fca7295386e92e0071a01",
     "grade": false,
     "grade_id": "cell-d8ac7e0e04104a5f",
     "locked": false,
     "schema_version": 3,
     "solution": true,
     "task": false
    },
    "tags": []
   },
   "outputs": [],
   "source": [
    "# YOUR CODE HERE\n",
    "raise NotImplementedError()"
   ]
  },
  {
   "cell_type": "markdown",
   "metadata": {},
   "source": [
    "<div class=\"alert alert-success\">\n",
    "<b>Revisa lo siguiente.</b>\n",
    "\n",
    "Antes de continuar con los siguientes ejemplos es importante que revises las siguientes notebooks: \n",
    "    \n",
    "* [<a href=\"./T08_IterablesMapFilter.ipynb\">T08_IterablesMapFilter.ipynb</a>]\n",
    "* [<a href=\"./T09_LambdaExpressions_Reduce.ipynb\">T09_LambdaExpressions_Reduce.ipynb</a>].\n",
    "* [<a href=\"./T10_Comprehensions.ipynb\">T10_Comprehensions.ipynb</a>]\n",
    "* [<a href=\"./T11_IteradoresGeneradores.ipynb\">T11_IteradoresGeneradores.ipynb</a>].\n",
    "* [<a href=\"./T12_Decoradores.ipynb\">T12_Decoradores.ipynb</a>]\n",
    "* [<a href=\"./T13_BibliotecaEstandar.ipynb\">T13_BibliotecaEstandar.ipynb</a>].\n",
    "</div>"
   ]
  },
  {
   "cell_type": "markdown",
   "metadata": {},
   "source": [
    "---\n",
    "## **<font color=\"DodgerBlue\">Ejercicio 11. </font>**\n",
    "\n",
    "<font color=\"DarkBlue\">\n",
    "Construir una lista de temperaturas de $4^oC$ hasta $20^oC$ solo almacenando los valores pares usando una <i>comprehension list</i> y aplicar la función <b>calc_tiempo()</b> para generar una lista de los tiempos correspondientes e imprimir las columas de temperaturas y tiempos como antes.\n",
    "</font>\n",
    "\n",
    "---"
   ]
  },
  {
   "cell_type": "code",
   "execution_count": null,
   "metadata": {
    "tags": []
   },
   "outputs": [],
   "source": [
    "T_pares = [T for T in range(4,21,2)]\n",
    "T_pares"
   ]
  },
  {
   "cell_type": "code",
   "execution_count": null,
   "metadata": {
    "tags": []
   },
   "outputs": [],
   "source": [
    "t_pares = [calc_tiempo(47, T) for T in T_pares]\n",
    "t_pares"
   ]
  },
  {
   "cell_type": "code",
   "execution_count": null,
   "metadata": {
    "tags": []
   },
   "outputs": [],
   "source": [
    "[calc_tiempo(47, T) for T in range(4,21,2)]"
   ]
  },
  {
   "cell_type": "code",
   "execution_count": null,
   "metadata": {
    "tags": []
   },
   "outputs": [],
   "source": [
    "T_pares = [T for T in range(4,21,2)]\n",
    "t_pares = [calc_tiempo(47, T) for T in T_pares]\n",
    "\n",
    "print('Temperatura \\t Tiempo')\n",
    "\n",
    "for T, t in zip(T_pares, t_pares):\n",
    "    print(' {} \\t\\t {}'.format(T, t))"
   ]
  },
  {
   "cell_type": "markdown",
   "metadata": {
    "tags": []
   },
   "source": [
    "---\n",
    "## **<font color=\"DodgerBlue\">Ejercicio 12. </font>**\n",
    "\n",
    "<font color=\"DarkBlue\">\n",
    "Convertir la lista anterior a grados Fahrenheit usando un mapeo y una función anónima para la conversión. Imprimir el resultado como antes pero usando los grados Fahrenheit.\n",
    "</font>\n",
    "\n",
    "---"
   ]
  },
  {
   "cell_type": "code",
   "execution_count": null,
   "metadata": {
    "tags": []
   },
   "outputs": [],
   "source": [
    "toFahrenheit = lambda T: (9/5)*T + 32"
   ]
  },
  {
   "cell_type": "code",
   "execution_count": null,
   "metadata": {
    "tags": []
   },
   "outputs": [],
   "source": [
    "T_pares = [T for T in range(4,21,2)]\n",
    "F_pares = map(toFahrenheit, T_pares)\n",
    "F_pares"
   ]
  },
  {
   "cell_type": "code",
   "execution_count": null,
   "metadata": {
    "tags": []
   },
   "outputs": [],
   "source": [
    "list(F_pares)"
   ]
  },
  {
   "cell_type": "code",
   "execution_count": null,
   "metadata": {
    "tags": []
   },
   "outputs": [],
   "source": [
    "t_pares = [calc_tiempo(47, T) for T in T_pares]\n",
    "F_pares = list(map(toFahrenheit, T_pares))\n",
    "\n",
    "print('Temperatura \\t Tiempo')\n",
    "\n",
    "for T, t in zip(list(F_pares), t_pares):\n",
    "    print(' {} \\t\\t {}'.format(T, t))"
   ]
  },
  {
   "cell_type": "markdown",
   "metadata": {},
   "source": [
    "---\n",
    "## **<font color=\"DodgerBlue\">Ejercicio 13. </font>**\n",
    "\n",
    "<font color=\"DarkBlue\">\n",
    "Crear una función anónima que detecte un número par y usarla en conjunción con la función <b>filter()</b> para generar la lista de temperaturas pares, luego calcular los tiempos de cocción y finalmente imprimir la lista de temperaturas en grados Fahrenheit junto con los tiempos.\n",
    "</font>\n",
    "\n",
    "---"
   ]
  },
  {
   "cell_type": "code",
   "execution_count": null,
   "metadata": {
    "tags": []
   },
   "outputs": [],
   "source": [
    "es_par = lambda n: True if n%2 == 0 else False"
   ]
  },
  {
   "cell_type": "code",
   "execution_count": null,
   "metadata": {
    "tags": []
   },
   "outputs": [],
   "source": [
    "list(range(4,21))"
   ]
  },
  {
   "cell_type": "code",
   "execution_count": null,
   "metadata": {
    "tags": []
   },
   "outputs": [],
   "source": [
    "filter(es_par, list(range(4,21)))"
   ]
  },
  {
   "cell_type": "code",
   "execution_count": null,
   "metadata": {
    "tags": []
   },
   "outputs": [],
   "source": [
    "list(filter(es_par, list(range(4,21))))"
   ]
  },
  {
   "cell_type": "code",
   "execution_count": null,
   "metadata": {
    "tags": []
   },
   "outputs": [],
   "source": [
    "T_pares = list(filter(es_par, list(range(4,21))))\n",
    "t_pares = [calc_tiempo(47, T) for T in T_pares]\n",
    "F_pares = list(map(toFahrenheit, T_pares))\n",
    "\n",
    "print('Temperatura \\t Tiempo')\n",
    "\n",
    "for T, t in zip(F_pares, t_pares):\n",
    "    print(' {} \\t\\t {}'.format(T, t))"
   ]
  },
  {
   "cell_type": "markdown",
   "metadata": {},
   "source": [
    "---\n",
    "## **<font color=\"DodgerBlue\">Ejercicio 14. </font>**\n",
    "\n",
    "<font color=\"DarkBlue\">\n",
    "Realiza lo mismo que en el Ejercicio 13 pero para número impares.\n",
    "</font>\n",
    "\n",
    "---"
   ]
  },
  {
   "cell_type": "code",
   "execution_count": null,
   "metadata": {
    "deletable": false,
    "nbgrader": {
     "cell_type": "code",
     "checksum": "7c838764db846015f43bb26b1e23f67a",
     "grade": false,
     "grade_id": "cell-eed6a8acb7de6110",
     "locked": false,
     "schema_version": 3,
     "solution": true,
     "task": false
    },
    "tags": []
   },
   "outputs": [],
   "source": [
    "# YOUR CODE HERE\n",
    "raise NotImplementedError()"
   ]
  },
  {
   "cell_type": "markdown",
   "metadata": {},
   "source": [
    "---\n",
    "## **<font color=\"DodgerBlue\">Miniproyecto 2. </font>** (Opcional)\n",
    "\n",
    "<font color=\"DarkBlue\">Modifica el miniproyecto 1 para usar <b>lambda</b>, <b>map</b>, <b>filter</b> y que además pregunte al usuario si desea hacer el cálculo para temperaturas pares o impares. El resultado debe estar en grados Fahrenheit. </font>\n",
    "\n",
    "---"
   ]
  },
  {
   "cell_type": "code",
   "execution_count": null,
   "metadata": {
    "deletable": false,
    "nbgrader": {
     "cell_type": "code",
     "checksum": "3f65f1ceaaca1d114a856bb4e83176e1",
     "grade": false,
     "grade_id": "cell-d48b8c3ec03beeb4",
     "locked": false,
     "schema_version": 3,
     "solution": true,
     "task": false
    },
    "tags": []
   },
   "outputs": [],
   "source": [
    "# YOUR CODE HERE\n",
    "raise NotImplementedError()"
   ]
  },
  {
   "cell_type": "code",
   "execution_count": null,
   "metadata": {},
   "outputs": [],
   "source": []
  }
 ],
 "metadata": {
  "kernelspec": {
   "display_name": "Python 3 (ipykernel)",
   "language": "python",
   "name": "python3"
  },
  "language_info": {
   "codemirror_mode": {
    "name": "ipython",
    "version": 3
   },
   "file_extension": ".py",
   "mimetype": "text/x-python",
   "name": "python",
   "nbconvert_exporter": "python",
   "pygments_lexer": "ipython3",
   "version": "3.10.10"
  }
 },
 "nbformat": 4,
 "nbformat_minor": 4
}
