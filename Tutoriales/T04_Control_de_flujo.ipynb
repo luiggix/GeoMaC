{
 "cells": [
  {
   "cell_type": "markdown",
   "metadata": {},
   "source": [
    "# Introducción a Python para IA.\n",
    "\n",
    " <p xmlns:cc=\"http://creativecommons.org/ns#\" xmlns:dct=\"http://purl.org/dc/terms/\"><a property=\"dct:title\" rel=\"cc:attributionURL\" href=\"https://github.com/luiggix/intro_MeIA_2023\">Introducción a Python para IA</a> by <span property=\"cc:attributionName\">Luis Miguel de la Cruz Salas</span> is licensed under <a href=\"http://creativecommons.org/licenses/by-nc-sa/4.0/?ref=chooser-v1\" target=\"_blank\" rel=\"license noopener noreferrer\" style=\"display:inline-block;\">CC BY-NC-SA 4.0<img style=\"height:22px!important;margin-left:3px;vertical-align:text-bottom;\" src=\"https://mirrors.creativecommons.org/presskit/icons/cc.svg?ref=chooser-v1\"><img style=\"height:22px!important;margin-left:3px;vertical-align:text-bottom;\" src=\"https://mirrors.creativecommons.org/presskit/icons/by.svg?ref=chooser-v1\"><img style=\"height:22px!important;margin-left:3px;vertical-align:text-bottom;\" src=\"https://mirrors.creativecommons.org/presskit/icons/nc.svg?ref=chooser-v1\"><img style=\"height:22px!important;margin-left:3px;vertical-align:text-bottom;\" src=\"https://mirrors.creativecommons.org/presskit/icons/sa.svg?ref=chooser-v1\"></a></p> \n",
    "\n",
    "# Objetivo.\n",
    "Revisar las estructuras que se pueden usar para controlar el flujo de un programa: if-elif-else, operador ternario, ciclo `while`, ciclo `for`, función de `range`, `break`, `continue`, `else` y `pass`."
   ]
  },
  {
   "cell_type": "markdown",
   "metadata": {},
   "source": [
    "# Control de flujo"
   ]
  },
  {
   "cell_type": "markdown",
   "metadata": {},
   "source": [
    "## If ... elif ... else\n",
    "\n",
    "---\n",
    "```python\n",
    "if CONDICIÓN_1:\n",
    "    DECLARACIONES y/o EXPRESIONES\n",
    "elif CONDICIÓN_2:\n",
    "    DECLARACIONES y/o EXPRESIONES\n",
    "elif CONDICIÓN_3:\n",
    "    DECLARACIONES y/o EXPRESIONES\n",
    "    \n",
    "    ...\n",
    "    \n",
    "else:\n",
    "    DECLARACIONES y/o EXPRESIONES\n",
    "```\n",
    "---\n",
    "\n",
    "Cuando una de las condiciones es cierta, se realizan las DECLARACIONES y EXPRESIONES que se encuentren definidas.\n",
    "\n",
    "Ejemplos de condiciones lógicas que se pueden usar en Python:\n",
    "- ¿son iguales?: \n",
    "```python  \n",
    "a == b\n",
    "```\n",
    "- ¿no son iguales?: \n",
    "```python  \n",
    "a != b\n",
    "```\n",
    "- ¿a es menor que b?:\n",
    "```python  \n",
    "a < b\n",
    "```\n",
    "- ¿a es menor o igual que b?:\n",
    "```python  \n",
    "a <= b\n",
    "```\n",
    "- ¿a es mayor que b?: \n",
    "```python  \n",
    "a > b\n",
    "```\n",
    "- ¿a es mayor o igual que b?:\n",
    "```python  \n",
    "a >= b\n",
    "```\n",
    "- ¿La expresión A y la expresión B son verdaderas?:\n",
    "```python  \n",
    "A and B\n",
    "```\n",
    "- ¿La expresión A o la expresión B es verdadera?:\n",
    "```python  \n",
    "A or B\n",
    "```\n",
    "\n",
    "### Ejemplo 1."
   ]
  },
  {
   "cell_type": "code",
   "execution_count": null,
   "metadata": {},
   "outputs": [],
   "source": [
    "a = 10\n",
    "b = 20\n",
    "if a < b:\n",
    "    print('a es menor que b')\n",
    "elif a > b:\n",
    "    print('a es mayor que b')\n",
    "elif a == b:\n",
    "    print('a es igual a b')\n",
    "else:\n",
    "    print('Esto nunca pasa')"
   ]
  },
  {
   "cell_type": "code",
   "execution_count": null,
   "metadata": {},
   "outputs": [],
   "source": [
    "if (a < b) or (a > b):\n",
    "    print('hola')"
   ]
  },
  {
   "cell_type": "markdown",
   "metadata": {},
   "source": [
    "## Operador ternario\n",
    "\n",
    "---\n",
    "```python\n",
    "[on_true] if [CONDICIÓN] else [on_false] \n",
    "\n",
    "```\n",
    "---\n",
    "\n",
    "Si la CONDICIÓN se cumple, entonces se ejecuta lo que está definido dentro de `[on_true]`, en otro caso se ejecuta `[on_false]`.\n"
   ]
  },
  {
   "cell_type": "code",
   "execution_count": null,
   "metadata": {},
   "outputs": [],
   "source": [
    "a, b = 10, 20\n",
    "print('a es menor que b') if a < b else print('a es mayor que b')"
   ]
  },
  {
   "cell_type": "markdown",
   "metadata": {},
   "source": [
    "La construcción anterior funciona correctamente, excepto cuando `a` y `b` son iguales. Para resolver este problema, se pueden anidar operaciones tenarias como sigue:"
   ]
  },
  {
   "cell_type": "code",
   "execution_count": null,
   "metadata": {},
   "outputs": [],
   "source": [
    "a, b = 10, 20\n",
    "print('a es menor que b') if a < b else print('a es igual que b') if a == b else print('a es mayor que b')"
   ]
  },
  {
   "cell_type": "markdown",
   "metadata": {},
   "source": [
    "Se puede usar este operador para asignar valores a una variable"
   ]
  },
  {
   "cell_type": "code",
   "execution_count": null,
   "metadata": {},
   "outputs": [],
   "source": [
    "a, b = 10, 20\n",
    "c = a if a < b else b\n",
    "print(c)"
   ]
  },
  {
   "cell_type": "markdown",
   "metadata": {
    "tags": []
   },
   "source": [
    "## While\n",
    "\n",
    "---\n",
    "```python\n",
    "while CONDICIÓN:\n",
    "    DECLARACIONES y/o EXPRESIONES\n",
    "```\n",
    "\n",
    "Mientras la CONDICIÓN se cumpla, se realizarán las DECLARACIONES y EXPRESIONES definidas dentro del ciclo.\n",
    "\n",
    "---\n",
    "\n",
    "### Ejemplo 2.\n",
    "\n",
    "Los número de Fibonacci, denotados con $F_n$ forman una secuencia tal que cada número es la suma de dos números precedentes e inicia con el $0$ y el $1$. Matemáticamente se escribe como:\n",
    "\n",
    "$$\n",
    "\\begin{eqnarray}\n",
    "F_0 & = & 0 \\\\\n",
    "F_1 & = & 1 \\\\\n",
    "F_n & = & F_{n − 1} + F_{n − 2} \\qquad \\text{para} \\qquad n > 1\n",
    "\\end{eqnarray}\n",
    "$$\n",
    "\n",
    "La secuencia es entonces: 0 , 1 , 1 , 2 , 3 , 5 , 8 , 13 , 21 , 34 , 55 , 89 , 144 , $\\ldots$\n",
    "\n",
    "Vamos a calcular esta secuencia usando la instrucción `while`. \n",
    "\n"
   ]
  },
  {
   "cell_type": "code",
   "execution_count": null,
   "metadata": {},
   "outputs": [],
   "source": [
    "# Secuencia de Fibonacci\n",
    "a, b = 0, 1\n",
    "while a < 1000:        # Mientras 'a' sea menor que 1000\n",
    "    print(a, end=',')  # se van a realizar estas\n",
    "    a, b = b, a+b      # dos instrucciones."
   ]
  },
  {
   "cell_type": "markdown",
   "metadata": {},
   "source": [
    "## For\n",
    "\n",
    "---\n",
    "```python\n",
    "for ETIQUETA in ITERABLE:\n",
    "    DECLARACIONES y/o EXPRESIONES\n",
    "```\n",
    "\n",
    "Mientras haya elementos en el ITERABLE se realizarán las DECLARACIONES y EXPRESIONES definidas dentro del ciclo. La ETIQUETA hará referencia a cada uno de los objetos del ITERABLE en cada ciclo de manera ascendente o descendente.\n",
    "\n",
    "Un ITERABLE puede ser cualquier colección: cadena, lista, tupla, conjunto, diccionario, archivo, ...\n",
    "\n",
    "---\n",
    "\n",
    "### Ejemplo 3."
   ]
  },
  {
   "cell_type": "code",
   "execution_count": 1,
   "metadata": {
    "tags": []
   },
   "outputs": [],
   "source": [
    "gatos = ['Persa', 'Sphynx', 'Ragdoll','Siamés']\n",
    "origen = ['Irán', 'Toronto', 'California', 'Tailandia']"
   ]
  },
  {
   "cell_type": "code",
   "execution_count": 2,
   "metadata": {
    "tags": []
   },
   "outputs": [
    {
     "name": "stdout",
     "output_type": "stream",
     "text": [
      "Persa\n",
      "Sphynx\n",
      "Ragdoll\n",
      "Siamés\n"
     ]
    }
   ],
   "source": [
    "for i in gatos:\n",
    "    print(i)"
   ]
  },
  {
   "cell_type": "code",
   "execution_count": 3,
   "metadata": {
    "tags": []
   },
   "outputs": [
    {
     "name": "stdout",
     "output_type": "stream",
     "text": [
      "Persa 5 <class 'str'> 140625692035376\n",
      "Sphynx 6 <class 'str'> 140625691759856\n",
      "Ragdoll 7 <class 'str'> 140625692026608\n",
      "Siamés 6 <class 'str'> 140625697876736\n"
     ]
    }
   ],
   "source": [
    "for i in gatos:\n",
    "    print(i, len(i), type(i), id(i))"
   ]
  },
  {
   "cell_type": "markdown",
   "metadata": {},
   "source": [
    "Creamos un diccionario con las listas `gatos` y `origen`"
   ]
  },
  {
   "cell_type": "code",
   "execution_count": null,
   "metadata": {},
   "outputs": [],
   "source": [
    "gatos_origen = dict(zip(gatos, origen))\n",
    "gatos_origen"
   ]
  },
  {
   "cell_type": "markdown",
   "metadata": {},
   "source": [
    "Usamos el diccionario `gatos_origen` para hacer un ciclo:"
   ]
  },
  {
   "cell_type": "code",
   "execution_count": null,
   "metadata": {},
   "outputs": [],
   "source": [
    "for i in gatos_origen:\n",
    "    print(i)"
   ]
  },
  {
   "cell_type": "markdown",
   "metadata": {},
   "source": [
    "Observa que en el ciclo anterior solo se obtiene el *key* de cada elemento del diccionario. Para obtener también el *value* podemos hacer lo siguiente:"
   ]
  },
  {
   "cell_type": "code",
   "execution_count": null,
   "metadata": {},
   "outputs": [],
   "source": [
    "for i in gatos_origen:\n",
    "    print('El gato', i, 'proviene de', gatos_origen[i]) # El value se obtiene con gatos_origen[i]"
   ]
  },
  {
   "cell_type": "markdown",
   "metadata": {},
   "source": [
    "La función `enumerate()` permite enumerar cada elemento de una colección y suele ser muy útil en un ciclo. Por ejemplo:"
   ]
  },
  {
   "cell_type": "code",
   "execution_count": null,
   "metadata": {},
   "outputs": [],
   "source": [
    "for n, i in enumerate(gatos_origen):\n",
    "    print(n, 'El gato', i, 'proviene de', gatos_origen[i]) # imprimos también el número del elemento"
   ]
  },
  {
   "cell_type": "markdown",
   "metadata": {},
   "source": [
    "La función `enumerate()` asocia un número a cada elemento del iterable, esto lo podemos verificar como sigue:"
   ]
  },
  {
   "cell_type": "code",
   "execution_count": null,
   "metadata": {},
   "outputs": [],
   "source": [
    "list(enumerate(gatos_origen))"
   ]
  },
  {
   "cell_type": "markdown",
   "metadata": {},
   "source": [
    "Es posible hacer cosas más complicadas combinando varias declaraciones:"
   ]
  },
  {
   "cell_type": "code",
   "execution_count": null,
   "metadata": {},
   "outputs": [],
   "source": [
    "gatos.append([1,2,3,4,5]) # Agregamos una lista a la lista gatos"
   ]
  },
  {
   "cell_type": "code",
   "execution_count": null,
   "metadata": {},
   "outputs": [],
   "source": [
    "gatos"
   ]
  },
  {
   "cell_type": "code",
   "execution_count": null,
   "metadata": {},
   "outputs": [],
   "source": [
    "for i in gatos:\n",
    "    print(i)"
   ]
  },
  {
   "cell_type": "markdown",
   "metadata": {},
   "source": [
    "En el siguiente ciclo `for` desglosamos cada lista mediante el uso de un `if`:"
   ]
  },
  {
   "cell_type": "code",
   "execution_count": null,
   "metadata": {},
   "outputs": [],
   "source": [
    "for i in gatos:\n",
    "    if type(i) == list: # Cuando i es de tipo list\n",
    "        for j in i:\n",
    "            print(j)\n",
    "    print(i, type(i))"
   ]
  },
  {
   "cell_type": "markdown",
   "metadata": {},
   "source": [
    "Lo anterior se puede hacer más elegante usando la función `isinstance()`:"
   ]
  },
  {
   "cell_type": "code",
   "execution_count": null,
   "metadata": {},
   "outputs": [],
   "source": [
    "for i in gatos:\n",
    "    if isinstance(i, list): # Cuando i es de tipo list\n",
    "        for j in i:\n",
    "            print(j)\n",
    "    print(i, type(i))"
   ]
  },
  {
   "cell_type": "markdown",
   "metadata": {},
   "source": [
    "## Función `range()`\n",
    "\n",
    "Esta función permite crear un *rango* desde un valor inicial hasta un valor final dando saltos de algún tamaño. El salto o paso es igual $1$ por omisión."
   ]
  },
  {
   "cell_type": "code",
   "execution_count": 1,
   "metadata": {},
   "outputs": [
    {
     "data": {
      "text/plain": [
       "range(1, 20)"
      ]
     },
     "execution_count": 1,
     "metadata": {},
     "output_type": "execute_result"
    }
   ],
   "source": [
    "range(1,20,1) # (inicio, final, paso)"
   ]
  },
  {
   "cell_type": "markdown",
   "metadata": {},
   "source": [
    "Para inspeccionar lo que hace la función `range()`, convertimos el objeto en una lista:"
   ]
  },
  {
   "cell_type": "code",
   "execution_count": 2,
   "metadata": {},
   "outputs": [
    {
     "data": {
      "text/plain": [
       "[1, 2, 3, 4, 5, 6, 7, 8, 9, 10, 11, 12, 13, 14, 15, 16, 17, 18, 19]"
      ]
     },
     "execution_count": 2,
     "metadata": {},
     "output_type": "execute_result"
    }
   ],
   "source": [
    "list(range(1,20,1))"
   ]
  },
  {
   "cell_type": "markdown",
   "metadata": {},
   "source": [
    "Observa que el rango generará valores desde 1 y hasta 19 (final menos 1), de tal manera que si el objetivo es iterar de 1 a 20 tendríamos que usar `range(1,21)`:"
   ]
  },
  {
   "cell_type": "code",
   "execution_count": 3,
   "metadata": {},
   "outputs": [
    {
     "data": {
      "text/plain": [
       "[1, 2, 3, 4, 5, 6, 7, 8, 9, 10, 11, 12, 13, 14, 15, 16, 17, 18, 19, 20]"
      ]
     },
     "execution_count": 3,
     "metadata": {},
     "output_type": "execute_result"
    }
   ],
   "source": [
    "list(range(1,21))"
   ]
  },
  {
   "cell_type": "markdown",
   "metadata": {},
   "source": [
    "La función `range()` genera un iterable, pero no construye nada en memoria, de tal manera que va creando los elementos de la iteración conforme se van requiriendo. Esto se puede ver mejor cuando se usa en conjunción con un `for`:"
   ]
  },
  {
   "cell_type": "code",
   "execution_count": 4,
   "metadata": {},
   "outputs": [
    {
     "name": "stdout",
     "output_type": "stream",
     "text": [
      "1, 2, 3, 4, 5, 6, 7, 8, 9, 10, 11, 12, 13, 14, 15, 16, 17, 18, 19, 20, "
     ]
    }
   ],
   "source": [
    "for i in range(1,21):\n",
    "    print(i, end= ', ')"
   ]
  },
  {
   "cell_type": "markdown",
   "metadata": {},
   "source": [
    "Podemos crear un objeto de tipo `range()` y posteriormente usarlo:"
   ]
  },
  {
   "cell_type": "code",
   "execution_count": null,
   "metadata": {},
   "outputs": [],
   "source": [
    "r = range(1,100,10)"
   ]
  },
  {
   "cell_type": "code",
   "execution_count": null,
   "metadata": {},
   "outputs": [],
   "source": [
    "print(r, type(r))"
   ]
  },
  {
   "cell_type": "code",
   "execution_count": null,
   "metadata": {},
   "outputs": [],
   "source": [
    "# Uso de r en un ciclo for\n",
    "for i in r:\n",
    "    print(i, end=\" \")"
   ]
  },
  {
   "cell_type": "code",
   "execution_count": null,
   "metadata": {},
   "outputs": [],
   "source": [
    "# Construcción de una lista usando el range r\n",
    "l = list(r)\n",
    "print(l, type(l))"
   ]
  },
  {
   "cell_type": "markdown",
   "metadata": {},
   "source": [
    "Usando `range()` podemos iterar en reversa"
   ]
  },
  {
   "cell_type": "code",
   "execution_count": null,
   "metadata": {},
   "outputs": [],
   "source": [
    "for i in range(100,1,-10):\n",
    "    print(i, end=\" \")"
   ]
  },
  {
   "cell_type": "markdown",
   "metadata": {},
   "source": [
    "La ventaja de usar la función `range()` es que siempre usará la menor cantidad de memoria, sin importar el tamaño de la iteración que representa, pues solo almacena el inicio, el final y el salto."
   ]
  },
  {
   "cell_type": "markdown",
   "metadata": {},
   "source": [
    "## break, continue, else, pass\n",
    "\n",
    "Esta funciones permiten terminar ciclos anticipadamente o saltarse algunos pasos dependiendo de una condición."
   ]
  },
  {
   "cell_type": "markdown",
   "metadata": {},
   "source": [
    "En el código siguiente, se termina el ciclo cuando `letra == \"h\"`."
   ]
  },
  {
   "cell_type": "code",
   "execution_count": null,
   "metadata": {},
   "outputs": [],
   "source": [
    "for letra in \"Pythonico\":\n",
    "    if letra == \"h\":\n",
    "        break\n",
    "    print (\"Letra actual : \" + letra)"
   ]
  },
  {
   "cell_type": "markdown",
   "metadata": {},
   "source": [
    "En el código siguiente, la iteración se salta la instrucción `print()` cuando `letra == \"h\"`."
   ]
  },
  {
   "cell_type": "code",
   "execution_count": null,
   "metadata": {},
   "outputs": [],
   "source": [
    "for letra in \"Pythonico\":\n",
    "    if letra == \"h\":\n",
    "        continue\n",
    "    print (\"Letra actual : \" + letra)"
   ]
  },
  {
   "cell_type": "markdown",
   "metadata": {},
   "source": [
    "En el código siguiente, la iteración termina cuando se cumple que `letra == c`. Si esto no pasa, entonces la iteración termina sin problemas, pero al final se ejecuta lo que está dentro del `else:`."
   ]
  },
  {
   "cell_type": "code",
   "execution_count": null,
   "metadata": {},
   "outputs": [],
   "source": [
    "c = 'x'\n",
    "for letra in \"Pythonico\":\n",
    "    if letra == c:\n",
    "        break\n",
    "    print (\"Letra actual : \" + letra)\n",
    "    \n",
    "else:\n",
    "    print(\"No encontré la \", c)"
   ]
  },
  {
   "cell_type": "markdown",
   "metadata": {},
   "source": [
    "La función `pass` no hace nada. Se puede usar cuando no se requiere ninguna acción. Por ejemplo, para determinar los número impares en un rango definido podemos hacer lo siguiente:"
   ]
  },
  {
   "cell_type": "code",
   "execution_count": null,
   "metadata": {},
   "outputs": [],
   "source": [
    "for num in range(2, 10):\n",
    "    if num % 2 == 0:   # Si num es divisible por 2 entonces es par y no hacemos nada\n",
    "        pass\n",
    "    else:              # Si el num no es divisible por dos entonces es impar.\n",
    "        print(\"Número impar\", num)"
   ]
  },
  {
   "cell_type": "markdown",
   "metadata": {},
   "source": [
    "También suele usarse cuando aún no tenemos definido el código que se va a implementar pero ya se desea definir algunas instrucciones. Por ejemplo:"
   ]
  },
  {
   "cell_type": "code",
   "execution_count": null,
   "metadata": {},
   "outputs": [],
   "source": [
    "i = 0\n",
    "while i > 10:\n",
    "    pass       # Aquí se implementará un algoritmo posteriormente"
   ]
  },
  {
   "cell_type": "code",
   "execution_count": null,
   "metadata": {},
   "outputs": [],
   "source": [
    "# La siguiente función calcula la secuencia de Fibonacci\n",
    "def fib(n):\n",
    "    print(\"funcion fib() no implementada aún\")\n",
    "    pass\n",
    "\n",
    "# En este punto del programa requiero el uso de la función fib(n):\n",
    "fib(100000) # "
   ]
  },
  {
   "cell_type": "markdown",
   "metadata": {},
   "source": [
    "### Ejemplo 4.\n",
    "Determina los número primos en un rango específico."
   ]
  },
  {
   "cell_type": "code",
   "execution_count": null,
   "metadata": {},
   "outputs": [],
   "source": [
    "for n in range(2, 10):      # Rango de 2 a 9\n",
    "    for x in range(2, n):   # Busca divisores de n en sus antecesores\n",
    "        if n % x == 0:      # Si encuentra un divisor termina el ciclo\n",
    "            print(n, 'igual a ', x, '*', n//x) \n",
    "            break      \n",
    "    else:\n",
    "        print(n, 'es un número primo') #  Si no encuentra divisor, entonces es primo"
   ]
  },
  {
   "cell_type": "markdown",
   "metadata": {},
   "source": [
    "### Ejemplo 5.\n",
    "Determina los números pares e impares en un rango determinado."
   ]
  },
  {
   "cell_type": "code",
   "execution_count": null,
   "metadata": {},
   "outputs": [],
   "source": [
    "for num in range(2, 10):\n",
    "    if num % 2 == 0:\n",
    "        print(\"Número par \", num)\n",
    "        continue\n",
    "    print(\"Número impar\", num)"
   ]
  },
  {
   "cell_type": "code",
   "execution_count": null,
   "metadata": {},
   "outputs": [],
   "source": []
  },
  {
   "cell_type": "code",
   "execution_count": null,
   "metadata": {},
   "outputs": [],
   "source": []
  }
 ],
 "metadata": {
  "kernelspec": {
   "display_name": "Python 3 (ipykernel)",
   "language": "python",
   "name": "python3"
  },
  "language_info": {
   "codemirror_mode": {
    "name": "ipython",
    "version": 3
   },
   "file_extension": ".py",
   "mimetype": "text/x-python",
   "name": "python",
   "nbconvert_exporter": "python",
   "pygments_lexer": "ipython3",
   "version": "3.11.3"
  }
 },
 "nbformat": 4,
 "nbformat_minor": 4
}
