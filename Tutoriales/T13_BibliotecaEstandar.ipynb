{
 "cells": [
  {
   "cell_type": "markdown",
   "metadata": {},
   "source": [
    "# Introducción a Python para IA.\n",
    "\n",
    " <p xmlns:cc=\"http://creativecommons.org/ns#\" xmlns:dct=\"http://purl.org/dc/terms/\"><a property=\"dct:title\" rel=\"cc:attributionURL\" href=\"https://github.com/luiggix/intro_MeIA_2023\">Introducción a Python para IA</a> by <span property=\"cc:attributionName\">Luis Miguel de la Cruz Salas</span> is licensed under <a href=\"http://creativecommons.org/licenses/by-nc-sa/4.0/?ref=chooser-v1\" target=\"_blank\" rel=\"license noopener noreferrer\" style=\"display:inline-block;\">CC BY-NC-SA 4.0<img style=\"height:22px!important;margin-left:3px;vertical-align:text-bottom;\" src=\"https://mirrors.creativecommons.org/presskit/icons/cc.svg?ref=chooser-v1\"><img style=\"height:22px!important;margin-left:3px;vertical-align:text-bottom;\" src=\"https://mirrors.creativecommons.org/presskit/icons/by.svg?ref=chooser-v1\"><img style=\"height:22px!important;margin-left:3px;vertical-align:text-bottom;\" src=\"https://mirrors.creativecommons.org/presskit/icons/nc.svg?ref=chooser-v1\"><img style=\"height:22px!important;margin-left:3px;vertical-align:text-bottom;\" src=\"https://mirrors.creativecommons.org/presskit/icons/sa.svg?ref=chooser-v1\"></a></p> \n",
    "\n",
    "\n",
    "# Objetivo.\n",
    "Revisar algunas funcionalidades de la biblioteca estándar."
   ]
  },
  {
   "cell_type": "markdown",
   "metadata": {},
   "source": [
    "# Biblioteca estándar\n",
    "\n",
    "## Módulos de funciones matemáticas\n",
    "\n",
    "`math` y `cmath` \n",
    "\n",
    "- El módulo <font color=##009900>**math**</font> provee de las funciones matemáticas definida en la biblioteca estándar de C para números **reales**. <br>\n",
    " - Más información: https://docs.python.org/3.0/library/math.html <br><br>\n",
    "\n",
    "- El módulo <font color=##009900>**cmath**</font> provee de las funciones matemáticas para números **complejos**. <br>\n",
    " - Más información: https://docs.python.org/3.0/library/cmath.html <br>"
   ]
  },
  {
   "cell_type": "code",
   "execution_count": null,
   "metadata": {
    "tags": []
   },
   "outputs": [],
   "source": [
    "import math\n",
    "print(math.sqrt(4))\n",
    "print(math.sin(90))"
   ]
  },
  {
   "cell_type": "code",
   "execution_count": null,
   "metadata": {
    "tags": []
   },
   "outputs": [],
   "source": [
    "complejo = 1 + 4j\n",
    "print(complejo)"
   ]
  },
  {
   "cell_type": "code",
   "execution_count": null,
   "metadata": {
    "tags": []
   },
   "outputs": [],
   "source": [
    "import cmath\n",
    "print(cmath.sin(complejo))"
   ]
  },
  {
   "cell_type": "markdown",
   "metadata": {},
   "source": [
    "`random`\n",
    "\n",
    "- https://docs.python.org/3/library/random.html"
   ]
  },
  {
   "cell_type": "code",
   "execution_count": null,
   "metadata": {
    "tags": []
   },
   "outputs": [],
   "source": [
    "import random\n",
    "print(random.randint(0, 5))\n",
    "print(random.random() * 100)\n",
    "myList = [2, 109, False, 10, \"Lorem\", 482, \"Ipsum\"]\n",
    "print(random.choice(myList))\n",
    "x = [[i] for i in range(10)]\n",
    "random.shuffle(x)\n",
    "print(x)\n",
    "for i in range(3):\n",
    "    print(random.randrange(0, 101, 5))"
   ]
  },
  {
   "cell_type": "markdown",
   "metadata": {},
   "source": [
    "`statistics`\n",
    "\n",
    "- https://docs.python.org/3/library/statistics.html"
   ]
  },
  {
   "cell_type": "code",
   "execution_count": null,
   "metadata": {
    "tags": []
   },
   "outputs": [],
   "source": [
    "import statistics\n",
    "\n",
    "example_list = [5,2,5,6,1,2,6,7,2,6,3,5,5]\n",
    "\n",
    "x = statistics.mean(example_list)\n",
    "print(x)\n",
    "\n",
    "y = statistics.median(example_list)\n",
    "print(y)\n",
    "\n",
    "z = statistics.mode(example_list)\n",
    "print(z)\n",
    "\n",
    "a = statistics.stdev(example_list)\n",
    "print(a)\n",
    "\n",
    "b = statistics.variance(example_list)\n",
    "print(b)"
   ]
  },
  {
   "cell_type": "markdown",
   "metadata": {},
   "source": [
    "## Servicios\n",
    "\n",
    "### `os`\n",
    "\n",
    "- Este módulo provee una manera portable de interactuar con el sistema operativo.\n",
    " - Más información: https://docs.python.org/3/library/os.html <br><br>\n",
    " \n",
    "- Se puede por ejemplo, crear, eliminar y mover carpetas/archivos, cambiarse de directorio, acceder a los nombres de archivos dentro de una ruta, etc. "
   ]
  },
  {
   "cell_type": "code",
   "execution_count": null,
   "metadata": {
    "tags": []
   },
   "outputs": [],
   "source": [
    "import os\n",
    "\n",
    "directorio_actual = os.getcwd()\n",
    "print(directorio_actual)"
   ]
  },
  {
   "cell_type": "code",
   "execution_count": null,
   "metadata": {
    "tags": []
   },
   "outputs": [],
   "source": [
    "os.mkdir('nueva_carpeta')"
   ]
  },
  {
   "cell_type": "code",
   "execution_count": null,
   "metadata": {
    "tags": []
   },
   "outputs": [],
   "source": [
    "os.chdir('nueva_carpeta')"
   ]
  },
  {
   "cell_type": "code",
   "execution_count": null,
   "metadata": {
    "tags": []
   },
   "outputs": [],
   "source": [
    "print(os.getcwd())"
   ]
  },
  {
   "cell_type": "code",
   "execution_count": null,
   "metadata": {
    "tags": []
   },
   "outputs": [],
   "source": [
    "os.chdir('../')"
   ]
  },
  {
   "cell_type": "code",
   "execution_count": null,
   "metadata": {
    "tags": []
   },
   "outputs": [],
   "source": [
    "print(os.getcwd())"
   ]
  },
  {
   "cell_type": "code",
   "execution_count": null,
   "metadata": {
    "tags": []
   },
   "outputs": [],
   "source": [
    "os.rename('nueva_carpeta','nueva')"
   ]
  },
  {
   "cell_type": "code",
   "execution_count": null,
   "metadata": {
    "tags": []
   },
   "outputs": [],
   "source": [
    "os.listdir()"
   ]
  },
  {
   "cell_type": "code",
   "execution_count": null,
   "metadata": {
    "tags": []
   },
   "outputs": [],
   "source": [
    "os.rmdir('nueva')"
   ]
  },
  {
   "cell_type": "code",
   "execution_count": null,
   "metadata": {
    "tags": []
   },
   "outputs": [],
   "source": [
    "os.listdir()"
   ]
  },
  {
   "cell_type": "markdown",
   "metadata": {},
   "source": [
    "### `platform` \n",
    "\n",
    "- https://docs.python.org/3/library/platform.html"
   ]
  },
  {
   "cell_type": "code",
   "execution_count": null,
   "metadata": {
    "tags": []
   },
   "outputs": [],
   "source": [
    "import os, platform\n",
    "print(platform.system())\n",
    "\n",
    "if platform.system() == \"Windows\":\n",
    "    import msvcrt\n",
    "\n",
    "def getch():\n",
    "    if platform.system() == \"Darwin\" or \"Linux\":\n",
    "        os.system(\"bash -c \\\"read -n 1\\\"\")\n",
    "    else:\n",
    "        msvcrt.getch()\n",
    "\n",
    "print(\"Type a key!\")\n",
    "getch()\n",
    "print(\"Okay\")"
   ]
  },
  {
   "cell_type": "markdown",
   "metadata": {},
   "source": [
    "### `shutil`\n",
    "\n",
    "- https://docs.python.org/3/library/shutil.html"
   ]
  },
  {
   "cell_type": "code",
   "execution_count": null,
   "metadata": {
    "tags": []
   },
   "outputs": [],
   "source": [
    "import os, shutil\n",
    "\n",
    "dir_original = os.getcwd()\n",
    "lista_archivos = os.listdir(dir_original)\n",
    "os.mkdir('BORRAME')\n",
    "dir_destino = dir_original + '/BORRAME'\n",
    "print(dir_destino)\n",
    "for files in lista_archivos:\n",
    "    if files.endswith(\".txt\"):\n",
    "        shutil.copy(files, dir_destino)\n",
    "os.listdir('./BORRAME/')"
   ]
  },
  {
   "cell_type": "code",
   "execution_count": null,
   "metadata": {
    "tags": []
   },
   "outputs": [],
   "source": [
    "os.system('rm -rf ./BORRAME/')"
   ]
  },
  {
   "cell_type": "markdown",
   "metadata": {},
   "source": [
    "### `sys`\n",
    "\n",
    "- Provee información acerca de las constantes, funciones y métodos del interprete de Python.\n",
    "    - https://docs.python.org/3/library/sys.html\n"
   ]
  },
  {
   "cell_type": "code",
   "execution_count": null,
   "metadata": {
    "tags": []
   },
   "outputs": [],
   "source": [
    "help()"
   ]
  },
  {
   "cell_type": "code",
   "execution_count": null,
   "metadata": {
    "tags": []
   },
   "outputs": [],
   "source": [
    "import sys\n",
    "help(sys)"
   ]
  },
  {
   "cell_type": "code",
   "execution_count": null,
   "metadata": {
    "tags": []
   },
   "outputs": [],
   "source": [
    "sys.version"
   ]
  },
  {
   "cell_type": "code",
   "execution_count": null,
   "metadata": {
    "tags": []
   },
   "outputs": [],
   "source": [
    "sys.float_info"
   ]
  },
  {
   "cell_type": "code",
   "execution_count": null,
   "metadata": {
    "tags": []
   },
   "outputs": [],
   "source": [
    "sys.path"
   ]
  },
  {
   "cell_type": "code",
   "execution_count": null,
   "metadata": {
    "tags": []
   },
   "outputs": [],
   "source": [
    "print(\"Impresión a la salida estándar\")\n",
    "\n",
    "# Salvamos la salida estándar \n",
    "save_stdout = sys.stdout\n",
    "\n",
    "fh = open(\"test_salida_estandar.txt\",\"w\")\n",
    "\n",
    "# Cambiamos la salida estándar\n",
    "sys.stdout = fh\n",
    "print(\"Esta línea va hacia el archivo test_salida_estandar.txt\")\n",
    "\n",
    "# Regresamos la salida estandar a la normalidad\n",
    "sys.stdout = save_stdout\n",
    "\n",
    "fh.close()"
   ]
  },
  {
   "cell_type": "code",
   "execution_count": null,
   "metadata": {
    "tags": []
   },
   "outputs": [],
   "source": [
    "sys.stderr"
   ]
  },
  {
   "cell_type": "markdown",
   "metadata": {},
   "source": [
    "### `time` y `datetime`\n",
    "\n",
    "- `time` : Acceso al tiempo del sistema y conversiones\n",
    "    - https://docs.python.org/3/library/time.html <br><br>\n",
    "\n",
    "- `datetime` Tipos básicos para el tiempo y la fecha\n",
    "    - https://docs.python.org/3/library/datetime.html"
   ]
  },
  {
   "cell_type": "code",
   "execution_count": null,
   "metadata": {
    "scrolled": true,
    "tags": []
   },
   "outputs": [],
   "source": [
    "import time\n",
    "import datetime\n",
    "\n",
    "print(\"Time in seconds since the epoch: %s\" %time.time())\n",
    "print(\"Current date and time: \" , datetime.datetime.now())\n",
    "print(\"Or like this: \" ,datetime.datetime.now().strftime(\"%y-%m-%d-%H-%M\"))\n",
    "\n",
    "\n",
    "print(\"Current year: \", datetime.date.today().strftime(\"%Y\"))\n",
    "print(\"Month of year: \", datetime.date.today().strftime(\"%B\"))\n",
    "print(\"Week number of the year: \", datetime.date.today().strftime(\"%W\"))\n",
    "print(\"Weekday of the week: \", datetime.date.today().strftime(\"%w\"))\n",
    "print(\"Day of year: \", datetime.date.today().strftime(\"%j\"))\n",
    "print(\"Day of the month : \", datetime.date.today().strftime(\"%d\"))\n",
    "print(\"Day of week: \", datetime.date.today().strftime(\"%A\"))"
   ]
  },
  {
   "cell_type": "code",
   "execution_count": null,
   "metadata": {
    "tags": []
   },
   "outputs": [],
   "source": [
    "hoy = datetime.date.today()\n",
    "nacimiento = datetime.date(1970, 8, 13)\n",
    "edad = hoy - nacimiento\n",
    "edad.days"
   ]
  },
  {
   "cell_type": "code",
   "execution_count": null,
   "metadata": {
    "tags": []
   },
   "outputs": [],
   "source": [
    "from timeit import Timer\n",
    "print(Timer('t=a; a=b; b=t', 'a=1; b=2').timeit())\n",
    "print(Timer('a,b = b,a', 'a=1; b=2').timeit())"
   ]
  },
  {
   "cell_type": "markdown",
   "metadata": {},
   "source": [
    "`glob`\n",
    "\n",
    "- https://docs.python.org/3/library/glob.html"
   ]
  },
  {
   "cell_type": "markdown",
   "metadata": {},
   "source": [
    "### `urllib`\n",
    "\n",
    "- https://docs.python.org/3/library/urllib.html"
   ]
  },
  {
   "cell_type": "code",
   "execution_count": 1,
   "metadata": {
    "tags": []
   },
   "outputs": [
    {
     "name": "stdout",
     "output_type": "stream",
     "text": [
      "b'<html>\\n<head>\\n<title>PAPIME</title>\\n<META HTTP-EQUIV=\"REFRESH\" CONTENT=\"0;URL=http://gmc.geofisica.unam.mx/papime2020/\"> </head>\\n<body>\\n</body>\\n</html>\\n'\n"
     ]
    }
   ],
   "source": [
    "import urllib.request\n",
    "\n",
    "x = urllib.request.urlopen('http://gmc.geofisica.unam.mx/')\n",
    "print(x.read())"
   ]
  },
  {
   "cell_type": "markdown",
   "metadata": {},
   "source": [
    "## Misceláneos\n",
    "\n",
    "### `doctest`"
   ]
  },
  {
   "cell_type": "code",
   "execution_count": null,
   "metadata": {
    "tags": []
   },
   "outputs": [],
   "source": [
    "def promedio(valores):\n",
    "    \"\"\"Calcula la media aritmética de una lista de números.\n",
    "\n",
    "    >>> print(promedio([20, 30, 70]))\n",
    "    40.0\n",
    "    \"\"\"\n",
    "    return sum(valores) / len(valores)\n",
    "\n",
    "import doctest\n",
    "doctest.testmod()   # valida automáticamente las pruebas integradas"
   ]
  },
  {
   "cell_type": "code",
   "execution_count": null,
   "metadata": {
    "tags": []
   },
   "outputs": [],
   "source": [
    "\n",
    "def fib(n):\n",
    "    \"\"\" \n",
    "    Calculates the n-th Fibonacci number iteratively  \n",
    "\n",
    "    >>> fib(0)\n",
    "    0\n",
    "    >>> fib(1)\n",
    "    1\n",
    "    >>> fib(10) \n",
    "    55\n",
    "    >>> fib(15)\n",
    "    610\n",
    "    \"\"\"\n",
    "    a, b = 0, 1\n",
    "    for i in range(n):\n",
    "        a, b = b, a + b\n",
    "    return a"
   ]
  },
  {
   "cell_type": "code",
   "execution_count": null,
   "metadata": {
    "tags": []
   },
   "outputs": [],
   "source": [
    "doctest.testmod()"
   ]
  },
  {
   "cell_type": "markdown",
   "metadata": {},
   "source": [
    "### `zlib`"
   ]
  },
  {
   "cell_type": "code",
   "execution_count": 3,
   "metadata": {
    "tags": []
   },
   "outputs": [
    {
     "data": {
      "text/plain": [
       "41"
      ]
     },
     "execution_count": 3,
     "metadata": {},
     "output_type": "execute_result"
    }
   ],
   "source": [
    "import zlib\n",
    "s = b'witch which has which witches wrist watch'\n",
    "len(s)"
   ]
  },
  {
   "cell_type": "code",
   "execution_count": null,
   "metadata": {
    "tags": []
   },
   "outputs": [],
   "source": [
    "t = zlib.compress(s)\n",
    "len(t)"
   ]
  },
  {
   "cell_type": "code",
   "execution_count": null,
   "metadata": {
    "tags": []
   },
   "outputs": [],
   "source": [
    "zlib.decompress(t)"
   ]
  },
  {
   "cell_type": "code",
   "execution_count": 4,
   "metadata": {
    "tags": []
   },
   "outputs": [
    {
     "name": "stdout",
     "output_type": "stream",
     "text": [
      "b'\\xc2\\xbfQu\\xc3\\xa9 les queda por probar a los j\\xc3\\xb3venes\\nen este mundo de paciencia y asco?\\n\\xc2\\xbfs\\xc3\\xb3lo grafitti? \\xc2\\xbfrock? \\xc2\\xbfescepticismo?\\ntambi\\xc3\\xa9n les queda no decir am\\xc3\\xa9n\\nno dejar que les maten el amor\\nrecuperar el habla y la utop\\xc3\\xada\\nser j\\xc3\\xb3venes sin prisa y con memoria\\nsituarse en una historia que es la suya\\nno convertirse en viejos prematuros\\n\\xc2\\xbfqu\\xc3\\xa9 les queda por probar a los j\\xc3\\xb3venes\\nen este mundo de rutina y ruina?\\n\\xc2\\xbfcoca\\xc3\\xadna? \\xc2\\xbfcerveza? \\xc2\\xbfbarras bravas?\\nles queda respirar / abrir los ojos\\ndescubrir las ra\\xc3\\xadces del horror\\ninventar paz as\\xc3\\xad sea a ponchazos\\nentenderse con la naturaleza\\ny con la lluvia y los rel\\xc3\\xa1mpagos\\ny con el sentimiento y con la muerte\\nesa loca de atar y desatar\\n\\xc2\\xbfqu\\xc3\\xa9 les queda por probar a los j\\xc3\\xb3venes\\nen este mundo de consumo y humo?\\n\\xc2\\xbfv\\xc3\\xa9rtigo? \\xc2\\xbfasaltos? \\xc2\\xbfdiscotecas?\\ntambi\\xc3\\xa9n les queda discutir con dios\\ntanto si existe como si no existe\\ntender manos que ayudan / abrir puertas\\nentre el coraz\\xc3\\xb3n propio y el ajeno /\\nsobre todo les queda hacer futuro\\na pesar de los ruines de pasado\\ny los sabios granujas del presente\\n'\n",
      "Compressed: 49%\n"
     ]
    }
   ],
   "source": [
    "f = open('../utils/data/QueLesQuedaALosJovenes.txt', 'rb')\n",
    "original_data = f.read()\n",
    "f.close()\n",
    "print(original_data)\n",
    "compressed_data = zlib.compress(original_data, zlib.Z_BEST_COMPRESSION)\n",
    "\n",
    "compress_ratio = (float(len(original_data)) - float(len(compressed_data))) / float(len(original_data))\n",
    "\n",
    "print('Compressed: %d%%' % (100.0 * compress_ratio))\n",
    "f = open('file.zip','wb')\n",
    "f.write(compressed_data)\n",
    "f.close()"
   ]
  },
  {
   "cell_type": "code",
   "execution_count": 5,
   "metadata": {
    "tags": []
   },
   "outputs": [
    {
     "name": "stdout",
     "output_type": "stream",
     "text": [
      "b'\\xc2\\xbfQu\\xc3\\xa9 les queda por probar a los j\\xc3\\xb3venes\\nen este mundo de paciencia y asco?\\n\\xc2\\xbfs\\xc3\\xb3lo grafitti? \\xc2\\xbfrock? \\xc2\\xbfescepticismo?\\ntambi\\xc3\\xa9n les queda no decir am\\xc3\\xa9n\\nno dejar que les maten el amor\\nrecuperar el habla y la utop\\xc3\\xada\\nser j\\xc3\\xb3venes sin prisa y con memoria\\nsituarse en una historia que es la suya\\nno convertirse en viejos prematuros\\n\\xc2\\xbfqu\\xc3\\xa9 les queda por probar a los j\\xc3\\xb3venes\\nen este mundo de rutina y ruina?\\n\\xc2\\xbfcoca\\xc3\\xadna? \\xc2\\xbfcerveza? \\xc2\\xbfbarras bravas?\\nles queda respirar / abrir los ojos\\ndescubrir las ra\\xc3\\xadces del horror\\ninventar paz as\\xc3\\xad sea a ponchazos\\nentenderse con la naturaleza\\ny con la lluvia y los rel\\xc3\\xa1mpagos\\ny con el sentimiento y con la muerte\\nesa loca de atar y desatar\\n\\xc2\\xbfqu\\xc3\\xa9 les queda por probar a los j\\xc3\\xb3venes\\nen este mundo de consumo y humo?\\n\\xc2\\xbfv\\xc3\\xa9rtigo? \\xc2\\xbfasaltos? \\xc2\\xbfdiscotecas?\\ntambi\\xc3\\xa9n les queda discutir con dios\\ntanto si existe como si no existe\\ntender manos que ayudan / abrir puertas\\nentre el coraz\\xc3\\xb3n propio y el ajeno /\\nsobre todo les queda hacer futuro\\na pesar de los ruines de pasado\\ny los sabios granujas del presente\\n'\n"
     ]
    }
   ],
   "source": [
    "f = open('./file.zip', 'rb')\n",
    "original_data = f.read()\n",
    "f.close()\n",
    "decompressed_data = zlib.decompress(original_data)\n",
    "print((decompressed_data))"
   ]
  },
  {
   "cell_type": "code",
   "execution_count": null,
   "metadata": {},
   "outputs": [],
   "source": []
  }
 ],
 "metadata": {
  "kernelspec": {
   "display_name": "Python 3 (ipykernel)",
   "language": "python",
   "name": "python3"
  },
  "language_info": {
   "codemirror_mode": {
    "name": "ipython",
    "version": 3
   },
   "file_extension": ".py",
   "mimetype": "text/x-python",
   "name": "python",
   "nbconvert_exporter": "python",
   "pygments_lexer": "ipython3",
   "version": "3.11.3"
  }
 },
 "nbformat": 4,
 "nbformat_minor": 4
}
