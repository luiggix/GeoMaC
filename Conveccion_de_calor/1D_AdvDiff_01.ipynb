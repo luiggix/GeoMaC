{
 "cells": [
  {
   "cell_type": "code",
   "execution_count": null,
   "metadata": {},
   "outputs": [],
   "source": [
    "import numpy as np\n",
    "import matplotlib.pyplot as plt\n",
    "import macti.visual as mvis"
   ]
  },
  {
   "cell_type": "code",
   "execution_count": null,
   "metadata": {},
   "outputs": [],
   "source": [
    "def mesh(L,N):\n",
    "    x = np.linspace(0,L,N+2)\n",
    "    return L/(N + 1), x\n",
    "\n",
    "def plot_sol(x, T, xa, Ta):\n",
    "    plt.figure(figsize=(10,5))\n",
    "\n",
    "    plt.plot(xa,Ta,'k-', lw = 2.0, label='Analítica')\n",
    "    plt.scatter(x, T, zorder=5, s=100, fc='C1', ec='k', alpha=0.75, label='Numérica')\n",
    "    plt.plot(x,T, '--', lw=1.0)\n",
    "\n",
    "    plt.xlabel('x [m]')\n",
    "    plt.ylabel('T')\n",
    "    plt.grid()\n",
    "    plt.legend(bbox_to_anchor=(1.05, 1), loc='upper left')\n",
    "    plt.show()"
   ]
  },
  {
   "cell_type": "code",
   "execution_count": null,
   "metadata": {},
   "outputs": [],
   "source": [
    "def Laplaciano1D(N, h, Gamma, u, T0, TL):\n",
    "    \n",
    "    b = -u / (2*h) + Gamma / h**2\n",
    "    c =  u / (2*h) + Gamma / h**2 \n",
    "    a = b + c\n",
    "    \n",
    "    # Matriz del sistema\n",
    "    A = np.zeros((N,N))\n",
    "    A[0,0] = a \n",
    "    A[0,1] = -b\n",
    "    for i in range(1,N-1):\n",
    "        A[i,i] = a \n",
    "        A[i,i+1] = -b\n",
    "        A[i,i-1] = -c\n",
    "    A[N-1,N-2] = -c\n",
    "    A[N-1,N-1] = a\n",
    "    \n",
    "    # RHS del sistema\n",
    "    f = np.zeros(N)         \n",
    "    f[0]   = T0 * c\n",
    "    f[N-1] = TL * b\n",
    "    \n",
    "    return A, f"
   ]
  },
  {
   "cell_type": "code",
   "execution_count": null,
   "metadata": {},
   "outputs": [],
   "source": [
    "def analytic_sol(par, NP = 100):\n",
    "    L     = par['L']\n",
    "    rho   = par['rho']\n",
    "    u     = par['u']\n",
    "    Gamma = par['Gamma']\n",
    "    T0  = par['BC'][0]\n",
    "    TL  = par['BC'][1]\n",
    "    \n",
    "    xa = np.linspace(0, L, NP)\n",
    "    Ta = (np.exp(rho * u * xa / Gamma) - 1) / (np.exp(rho * u * L / Gamma) - 1) * (TL - T0) + T0\n",
    "    return (xa, Ta) "
   ]
  },
  {
   "cell_type": "code",
   "execution_count": null,
   "metadata": {},
   "outputs": [],
   "source": [
    "def fdm_sol(par):\n",
    "    L     = par['L']\n",
    "    Gamma = par['Gamma']\n",
    "    rho   = par['rho']\n",
    "    u     = par['u']\n",
    "    N     = par['N']\n",
    "    T0  = par['BC'][0]\n",
    "    TL  = par['BC'][1]\n",
    "    h     = par['h']\n",
    "    \n",
    "    A, f = Laplaciano1D(N, h, Gamma, u, T0, TL) \n",
    "\n",
    "    T = np.zeros(N+2)\n",
    "\n",
    "    T[1:N+1] = np.linalg.solve(A,f)\n",
    "\n",
    "    T[0] = T0\n",
    "    T[N+1] = TL\n",
    "\n",
    "    return T"
   ]
  },
  {
   "cell_type": "code",
   "execution_count": null,
   "metadata": {},
   "outputs": [],
   "source": [
    "par = {}\n",
    "par['L']     = 1.0 # m\n",
    "par['rho']   = 1.0 # kg/m^3\n",
    "par['u']     = 0.1 # m/s\n",
    "par['Gamma'] = 0.1 # kg / m.s\n",
    "par['BC']    = (1.0, 0.0)\n",
    "par['N']     = 6 # Número de incógnitas\n",
    "\n",
    "h, x = mesh(par['L'], par['N'])\n",
    "\n",
    "par['h'] = h\n",
    "\n",
    "xa, Ta = analytic_sol(par)\n",
    "\n",
    "plot_sol(x, fdm_sol(par), xa, Ta)"
   ]
  },
  {
   "cell_type": "code",
   "execution_count": null,
   "metadata": {},
   "outputs": [],
   "source": []
  }
 ],
 "metadata": {
  "kernelspec": {
   "display_name": "Python 3 (ipykernel)",
   "language": "python",
   "name": "python3"
  },
  "language_info": {
   "codemirror_mode": {
    "name": "ipython",
    "version": 3
   },
   "file_extension": ".py",
   "mimetype": "text/x-python",
   "name": "python",
   "nbconvert_exporter": "python",
   "pygments_lexer": "ipython3",
   "version": "3.11.5"
  }
 },
 "nbformat": 4,
 "nbformat_minor": 4
}
